{
  "nbformat": 4,
  "nbformat_minor": 0,
  "metadata": {
    "accelerator": "GPU",
    "colab": {
      "name": "l10c04_nlp_optimizing_the_text_generation_model.ipynb",
      "provenance": [],
      "collapsed_sections": [],
      "toc_visible": true,
      "include_colab_link": true
    },
    "kernelspec": {
      "display_name": "Python 3",
      "language": "python",
      "name": "python3"
    },
    "language_info": {
      "codemirror_mode": {
        "name": "ipython",
        "version": 3
      },
      "file_extension": ".py",
      "mimetype": "text/x-python",
      "name": "python",
      "nbconvert_exporter": "python",
      "pygments_lexer": "ipython3",
      "version": "3.7.7"
    }
  },
  "cells": [
    {
      "cell_type": "markdown",
      "metadata": {
        "id": "view-in-github",
        "colab_type": "text"
      },
      "source": [
        "<a href=\"https://colab.research.google.com/github/AmirRazaMBA/Tensorflow-in-Practice-Specialization/blob/main/3.%20Natural%20Language%20Processing%20in%20TensorFlow/Codes/Exam%20Prep/RNN/04_nlp_optimizing_the_text_generation_model.ipynb\" target=\"_parent\"><img src=\"https://colab.research.google.com/assets/colab-badge.svg\" alt=\"Open In Colab\"/></a>"
      ]
    },
    {
      "cell_type": "markdown",
      "metadata": {
        "id": "Ph5eir3Pf-3z"
      },
      "source": [
        "# Optimizing the Text Generation Model"
      ]
    },
    {
      "cell_type": "markdown",
      "metadata": {
        "id": "dCxhW3mtLmfb"
      },
      "source": [
        "You've already done some amazing work with generating new songs, but so far we've seen some issues with repetition and a fair amount of incoherence. By using more data and further tweaking the model, you'll be able to get improved results. We'll once again use the [Kaggle Song Lyrics Dataset](https://www.kaggle.com/mousehead/songlyrics) here."
      ]
    },
    {
      "cell_type": "markdown",
      "metadata": {
        "id": "4aHK2CYygXom"
      },
      "source": [
        "## Import TensorFlow and related functions"
      ]
    },
    {
      "cell_type": "code",
      "metadata": {
        "id": "2LmLTREBf5ng"
      },
      "source": [
        "import tensorflow as tf\n",
        "\n",
        "from tensorflow.keras.preprocessing.text import Tokenizer\n",
        "from tensorflow.keras.preprocessing.sequence import pad_sequences\n",
        "\n",
        "# Other imports for processing data\n",
        "import string\n",
        "import numpy as np\n",
        "import pandas as pd"
      ],
      "execution_count": 1,
      "outputs": []
    },
    {
      "cell_type": "markdown",
      "metadata": {
        "id": "GmLTO_dpgge9"
      },
      "source": [
        "## Get the Dataset\n",
        "\n",
        "As noted above, we'll utilize the [Song Lyrics dataset](https://www.kaggle.com/mousehead/songlyrics) on Kaggle again."
      ]
    },
    {
      "cell_type": "code",
      "metadata": {
        "id": "4Bf5FVHfganK",
        "outputId": "122f1276-3342-4e18-d997-1a01cefbd230",
        "colab": {
          "base_uri": "https://localhost:8080/"
        }
      },
      "source": [
        "!wget --no-check-certificate \\\n",
        "    https://drive.google.com/uc?id=1LiJFZd41ofrWoBtW-pMYsfz1w8Ny0Bj8 \\\n",
        "    -O /tmp/songdata.csv"
      ],
      "execution_count": 2,
      "outputs": [
        {
          "output_type": "stream",
          "text": [
            "--2020-10-31 18:26:11--  https://drive.google.com/uc?id=1LiJFZd41ofrWoBtW-pMYsfz1w8Ny0Bj8\n",
            "Resolving drive.google.com (drive.google.com)... 74.125.20.100, 74.125.20.102, 74.125.20.113, ...\n",
            "Connecting to drive.google.com (drive.google.com)|74.125.20.100|:443... connected.\n",
            "HTTP request sent, awaiting response... 302 Moved Temporarily\n",
            "Location: https://doc-04-ak-docs.googleusercontent.com/docs/securesc/ha0ro937gcuc7l7deffksulhg5h7mbp1/fae0bavflkbc2hujqk26396errk1cn5g/1604168700000/11118900490791463723/*/1LiJFZd41ofrWoBtW-pMYsfz1w8Ny0Bj8 [following]\n",
            "Warning: wildcards not supported in HTTP.\n",
            "--2020-10-31 18:26:14--  https://doc-04-ak-docs.googleusercontent.com/docs/securesc/ha0ro937gcuc7l7deffksulhg5h7mbp1/fae0bavflkbc2hujqk26396errk1cn5g/1604168700000/11118900490791463723/*/1LiJFZd41ofrWoBtW-pMYsfz1w8Ny0Bj8\n",
            "Resolving doc-04-ak-docs.googleusercontent.com (doc-04-ak-docs.googleusercontent.com)... 74.125.195.132, 2607:f8b0:400e:c09::84\n",
            "Connecting to doc-04-ak-docs.googleusercontent.com (doc-04-ak-docs.googleusercontent.com)|74.125.195.132|:443... connected.\n",
            "HTTP request sent, awaiting response... 200 OK\n",
            "Length: unspecified [text/csv]\n",
            "Saving to: ‘/tmp/songdata.csv’\n",
            "\n",
            "/tmp/songdata.csv       [    <=>             ]  69.08M  84.2MB/s    in 0.8s    \n",
            "\n",
            "2020-10-31 18:26:15 (84.2 MB/s) - ‘/tmp/songdata.csv’ saved [72436445]\n",
            "\n"
          ],
          "name": "stdout"
        }
      ]
    },
    {
      "cell_type": "markdown",
      "metadata": {
        "id": "Jz9x-7dWihxx"
      },
      "source": [
        "## 250 Songs\n",
        "\n",
        "Now we've seen a model trained on just a small sample of songs, and how this often leads to repetition as you get further along in trying to generate new text. Let's switch to using the 250 songs instead, and see if our output improves. This will actually be nearly 10K lines of lyrics, which should be sufficient.\n",
        "\n",
        "Note that we won't use the full dataset here as it will take up quite a bit of RAM and processing time, but you're welcome to try doing so on your own later. If interested, you'll likely want to use only some of the more common words for the Tokenizer, which will help shrink processing time and memory needed (or else you'd have an output array hundreds of thousands of words long)."
      ]
    },
    {
      "cell_type": "markdown",
      "metadata": {
        "id": "nWbMN_19jfRT"
      },
      "source": [
        "### Preprocessing"
      ]
    },
    {
      "cell_type": "code",
      "metadata": {
        "id": "LRmPPJegovBe"
      },
      "source": [
        "def tokenize_corpus(corpus, num_words=-1):\n",
        "  # Fit a Tokenizer on the corpus\n",
        "  if num_words > -1:\n",
        "    tokenizer = Tokenizer(num_words=num_words)\n",
        "  else:\n",
        "    tokenizer = Tokenizer()\n",
        "  tokenizer.fit_on_texts(corpus)\n",
        "  return tokenizer\n",
        "\n",
        "def create_lyrics_corpus(dataset, field):\n",
        "  # Remove all other punctuation\n",
        "  dataset[field] = dataset[field].str.replace('[{}]'.format(string.punctuation), '')\n",
        "  # Make it lowercase\n",
        "  dataset[field] = dataset[field].str.lower()\n",
        "  # Make it one long string to split by line\n",
        "  lyrics = dataset[field].str.cat()\n",
        "  corpus = lyrics.split('\\n')\n",
        "  # Remove any trailing whitespace\n",
        "  for l in range(len(corpus)):\n",
        "    corpus[l] = corpus[l].rstrip()\n",
        "  # Remove any empty lines\n",
        "  corpus = [l for l in corpus if l != '']\n",
        "\n",
        "  return corpus"
      ],
      "execution_count": 3,
      "outputs": []
    },
    {
      "cell_type": "code",
      "metadata": {
        "id": "kIGedF3XjHj4",
        "outputId": "357e4814-b9ce-44be-f0db-8b87295cbe6e",
        "colab": {
          "base_uri": "https://localhost:8080/"
        }
      },
      "source": [
        "def tokenize_corpus(corpus, num_words=-1):\n",
        "  # Fit a Tokenizer on the corpus\n",
        "  if num_words > -1:\n",
        "    tokenizer = Tokenizer(num_words=num_words)\n",
        "  else:\n",
        "    tokenizer = Tokenizer()\n",
        "  tokenizer.fit_on_texts(corpus)\n",
        "  return tokenizer\n",
        "\n",
        "# Read the dataset from csv - this time with 250 songs\n",
        "dataset = pd.read_csv('/tmp/songdata.csv', dtype=str)[:250]\n",
        "# Create the corpus using the 'text' column containing lyrics\n",
        "corpus = create_lyrics_corpus(dataset, 'text')\n",
        "# Tokenize the corpus\n",
        "tokenizer = tokenize_corpus(corpus, num_words=2000)\n",
        "total_words = tokenizer.num_words\n",
        "\n",
        "# There should be a lot more words now\n",
        "print(total_words)"
      ],
      "execution_count": 4,
      "outputs": [
        {
          "output_type": "stream",
          "text": [
            "2000\n"
          ],
          "name": "stdout"
        }
      ]
    },
    {
      "cell_type": "markdown",
      "metadata": {
        "id": "quoDmw_FkNBA"
      },
      "source": [
        "### Create Sequences and Labels"
      ]
    },
    {
      "cell_type": "code",
      "metadata": {
        "id": "kkLAf3HmkPSo"
      },
      "source": [
        "sequences = []\n",
        "for line in corpus:\n",
        "\ttoken_list = tokenizer.texts_to_sequences([line])[0]\n",
        "\tfor i in range(1, len(token_list)):\n",
        "\t\tn_gram_sequence = token_list[:i+1]\n",
        "\t\tsequences.append(n_gram_sequence)\n",
        "\n",
        "# Pad sequences for equal input length \n",
        "max_sequence_len = max([len(seq) for seq in sequences])\n",
        "sequences = np.array(pad_sequences(sequences, maxlen=max_sequence_len, padding='pre'))\n",
        "\n",
        "# Split sequences between the \"input\" sequence and \"output\" predicted word\n",
        "input_sequences, labels = sequences[:,:-1], sequences[:,-1]\n",
        "# One-hot encode the labels\n",
        "one_hot_labels = tf.keras.utils.to_categorical(labels, num_classes=total_words)"
      ],
      "execution_count": 5,
      "outputs": []
    },
    {
      "cell_type": "markdown",
      "metadata": {
        "id": "cECbqT-blMk-"
      },
      "source": [
        "### Train a (Better) Text Generation Model\n",
        "\n",
        "With more data, we'll cut off after 100 epochs to avoid keeping you here all day. You'll also want to change your runtime type to GPU if you haven't already (you'll need to re-run the above cells if you change runtimes)."
      ]
    },
    {
      "cell_type": "code",
      "metadata": {
        "id": "7nHOp6uWlP_P",
        "outputId": "c3861729-7d63-483c-ad03-52b5af12c8ac",
        "colab": {
          "base_uri": "https://localhost:8080/"
        }
      },
      "source": [
        "from tensorflow.keras.models import Sequential\n",
        "from tensorflow.keras.layers import Embedding, LSTM, Dense, Bidirectional\n",
        "\n",
        "model = Sequential()\n",
        "model.add(Embedding(total_words, 64, input_length=max_sequence_len-1))\n",
        "model.add(Bidirectional(LSTM(20)))\n",
        "model.add(Dense(total_words, activation='softmax'))\n",
        "model.compile(loss='categorical_crossentropy', optimizer='adam', metrics=['accuracy'])\n",
        "history = model.fit(input_sequences, one_hot_labels, epochs=100, verbose=1)"
      ],
      "execution_count": 6,
      "outputs": [
        {
          "output_type": "stream",
          "text": [
            "Epoch 1/100\n",
            "1480/1480 [==============================] - 12s 8ms/step - loss: 5.9832 - accuracy: 0.0462\n",
            "Epoch 2/100\n",
            "1480/1480 [==============================] - 12s 8ms/step - loss: 5.6772 - accuracy: 0.0523\n",
            "Epoch 3/100\n",
            "1480/1480 [==============================] - 12s 8ms/step - loss: 5.4848 - accuracy: 0.0651\n",
            "Epoch 4/100\n",
            "1480/1480 [==============================] - 12s 8ms/step - loss: 5.3235 - accuracy: 0.0850\n",
            "Epoch 5/100\n",
            "1480/1480 [==============================] - 12s 8ms/step - loss: 5.1270 - accuracy: 0.1131\n",
            "Epoch 6/100\n",
            "1480/1480 [==============================] - 12s 8ms/step - loss: 4.9294 - accuracy: 0.1317\n",
            "Epoch 7/100\n",
            "1480/1480 [==============================] - 12s 8ms/step - loss: 4.7649 - accuracy: 0.1472\n",
            "Epoch 8/100\n",
            "1480/1480 [==============================] - 12s 8ms/step - loss: 4.6175 - accuracy: 0.1649\n",
            "Epoch 9/100\n",
            "1480/1480 [==============================] - 12s 8ms/step - loss: 4.4893 - accuracy: 0.1788\n",
            "Epoch 10/100\n",
            "1480/1480 [==============================] - 12s 8ms/step - loss: 4.3757 - accuracy: 0.1918\n",
            "Epoch 11/100\n",
            "1480/1480 [==============================] - 12s 8ms/step - loss: 4.2609 - accuracy: 0.2042\n",
            "Epoch 12/100\n",
            "1480/1480 [==============================] - 12s 8ms/step - loss: 4.1626 - accuracy: 0.2159\n",
            "Epoch 13/100\n",
            "1480/1480 [==============================] - 12s 8ms/step - loss: 4.0732 - accuracy: 0.2268\n",
            "Epoch 14/100\n",
            "1480/1480 [==============================] - 12s 8ms/step - loss: 3.9872 - accuracy: 0.2391\n",
            "Epoch 15/100\n",
            "1480/1480 [==============================] - 12s 8ms/step - loss: 3.9071 - accuracy: 0.2487\n",
            "Epoch 16/100\n",
            "1480/1480 [==============================] - 12s 8ms/step - loss: 3.8330 - accuracy: 0.2608\n",
            "Epoch 17/100\n",
            "1480/1480 [==============================] - 12s 8ms/step - loss: 3.7659 - accuracy: 0.2696\n",
            "Epoch 18/100\n",
            "1480/1480 [==============================] - 12s 8ms/step - loss: 3.7052 - accuracy: 0.2790\n",
            "Epoch 19/100\n",
            "1480/1480 [==============================] - 12s 8ms/step - loss: 3.6487 - accuracy: 0.2842\n",
            "Epoch 20/100\n",
            "1480/1480 [==============================] - 12s 8ms/step - loss: 3.5942 - accuracy: 0.2942\n",
            "Epoch 21/100\n",
            "1480/1480 [==============================] - 11s 8ms/step - loss: 3.5371 - accuracy: 0.3018\n",
            "Epoch 22/100\n",
            "1480/1480 [==============================] - 12s 8ms/step - loss: 3.4939 - accuracy: 0.3076\n",
            "Epoch 23/100\n",
            "1480/1480 [==============================] - 11s 8ms/step - loss: 3.4451 - accuracy: 0.3140\n",
            "Epoch 24/100\n",
            "1480/1480 [==============================] - 12s 8ms/step - loss: 3.4094 - accuracy: 0.3190\n",
            "Epoch 25/100\n",
            "1480/1480 [==============================] - 12s 8ms/step - loss: 3.3609 - accuracy: 0.3261\n",
            "Epoch 26/100\n",
            "1480/1480 [==============================] - 12s 8ms/step - loss: 3.3229 - accuracy: 0.3328\n",
            "Epoch 27/100\n",
            "1480/1480 [==============================] - 12s 8ms/step - loss: 3.2927 - accuracy: 0.3367\n",
            "Epoch 28/100\n",
            "1480/1480 [==============================] - 12s 8ms/step - loss: 3.2589 - accuracy: 0.3412\n",
            "Epoch 29/100\n",
            "1480/1480 [==============================] - 12s 8ms/step - loss: 3.2255 - accuracy: 0.3468\n",
            "Epoch 30/100\n",
            "1480/1480 [==============================] - 12s 8ms/step - loss: 3.1939 - accuracy: 0.3504\n",
            "Epoch 31/100\n",
            "1480/1480 [==============================] - 12s 8ms/step - loss: 3.1645 - accuracy: 0.3565\n",
            "Epoch 32/100\n",
            "1480/1480 [==============================] - 12s 8ms/step - loss: 3.1350 - accuracy: 0.3610\n",
            "Epoch 33/100\n",
            "1480/1480 [==============================] - 12s 8ms/step - loss: 3.1052 - accuracy: 0.3640\n",
            "Epoch 34/100\n",
            "1480/1480 [==============================] - 12s 8ms/step - loss: 3.0902 - accuracy: 0.3676\n",
            "Epoch 35/100\n",
            "1480/1480 [==============================] - 12s 8ms/step - loss: 3.0576 - accuracy: 0.3727\n",
            "Epoch 36/100\n",
            "1480/1480 [==============================] - 12s 8ms/step - loss: 3.0318 - accuracy: 0.3750\n",
            "Epoch 37/100\n",
            "1480/1480 [==============================] - 12s 8ms/step - loss: 3.0079 - accuracy: 0.3791\n",
            "Epoch 38/100\n",
            "1480/1480 [==============================] - 12s 8ms/step - loss: 2.9882 - accuracy: 0.3847\n",
            "Epoch 39/100\n",
            "1480/1480 [==============================] - 11s 8ms/step - loss: 2.9636 - accuracy: 0.3868\n",
            "Epoch 40/100\n",
            "1480/1480 [==============================] - 12s 8ms/step - loss: 2.9393 - accuracy: 0.3901\n",
            "Epoch 41/100\n",
            "1480/1480 [==============================] - 12s 8ms/step - loss: 2.9207 - accuracy: 0.3933\n",
            "Epoch 42/100\n",
            "1480/1480 [==============================] - 12s 8ms/step - loss: 2.8993 - accuracy: 0.3985\n",
            "Epoch 43/100\n",
            "1480/1480 [==============================] - 12s 8ms/step - loss: 2.8795 - accuracy: 0.4011\n",
            "Epoch 44/100\n",
            "1480/1480 [==============================] - 12s 8ms/step - loss: 2.8723 - accuracy: 0.4024\n",
            "Epoch 45/100\n",
            "1480/1480 [==============================] - 12s 8ms/step - loss: 2.8378 - accuracy: 0.4081\n",
            "Epoch 46/100\n",
            "1480/1480 [==============================] - 12s 8ms/step - loss: 2.8201 - accuracy: 0.4102\n",
            "Epoch 47/100\n",
            "1480/1480 [==============================] - 11s 8ms/step - loss: 2.8129 - accuracy: 0.4125\n",
            "Epoch 48/100\n",
            "1480/1480 [==============================] - 11s 8ms/step - loss: 2.7971 - accuracy: 0.4127\n",
            "Epoch 49/100\n",
            "1480/1480 [==============================] - 12s 8ms/step - loss: 2.7694 - accuracy: 0.4192\n",
            "Epoch 50/100\n",
            "1480/1480 [==============================] - 12s 8ms/step - loss: 2.7590 - accuracy: 0.4233\n",
            "Epoch 51/100\n",
            "1480/1480 [==============================] - 11s 8ms/step - loss: 2.7415 - accuracy: 0.4252\n",
            "Epoch 52/100\n",
            "1480/1480 [==============================] - 12s 8ms/step - loss: 2.7329 - accuracy: 0.4260\n",
            "Epoch 53/100\n",
            "1480/1480 [==============================] - 12s 8ms/step - loss: 2.7093 - accuracy: 0.4303\n",
            "Epoch 54/100\n",
            "1480/1480 [==============================] - 12s 8ms/step - loss: 2.7023 - accuracy: 0.4314\n",
            "Epoch 55/100\n",
            "1480/1480 [==============================] - 12s 8ms/step - loss: 2.7034 - accuracy: 0.4322\n",
            "Epoch 56/100\n",
            "1480/1480 [==============================] - 12s 8ms/step - loss: 2.6639 - accuracy: 0.4375\n",
            "Epoch 57/100\n",
            "1480/1480 [==============================] - 11s 8ms/step - loss: 2.6501 - accuracy: 0.4403\n",
            "Epoch 58/100\n",
            "1480/1480 [==============================] - 12s 8ms/step - loss: 2.6403 - accuracy: 0.4418\n",
            "Epoch 59/100\n",
            "1480/1480 [==============================] - 12s 8ms/step - loss: 2.6379 - accuracy: 0.4438\n",
            "Epoch 60/100\n",
            "1480/1480 [==============================] - 12s 8ms/step - loss: 2.6220 - accuracy: 0.4462\n",
            "Epoch 61/100\n",
            "1480/1480 [==============================] - 11s 8ms/step - loss: 2.5940 - accuracy: 0.4519\n",
            "Epoch 62/100\n",
            "1480/1480 [==============================] - 11s 8ms/step - loss: 2.5972 - accuracy: 0.4506\n",
            "Epoch 63/100\n",
            "1480/1480 [==============================] - 12s 8ms/step - loss: 2.5808 - accuracy: 0.4534\n",
            "Epoch 64/100\n",
            "1480/1480 [==============================] - 11s 8ms/step - loss: 2.5832 - accuracy: 0.4516\n",
            "Epoch 65/100\n",
            "1480/1480 [==============================] - 12s 8ms/step - loss: 2.5658 - accuracy: 0.4547\n",
            "Epoch 66/100\n",
            "1480/1480 [==============================] - 12s 8ms/step - loss: 2.5475 - accuracy: 0.4592\n",
            "Epoch 67/100\n",
            "1480/1480 [==============================] - 11s 8ms/step - loss: 2.5492 - accuracy: 0.4577\n",
            "Epoch 68/100\n",
            "1480/1480 [==============================] - 12s 8ms/step - loss: 2.5302 - accuracy: 0.4606\n",
            "Epoch 69/100\n",
            "1480/1480 [==============================] - 12s 8ms/step - loss: 2.5320 - accuracy: 0.4596\n",
            "Epoch 70/100\n",
            "1480/1480 [==============================] - 12s 8ms/step - loss: 2.5194 - accuracy: 0.4635\n",
            "Epoch 71/100\n",
            "1480/1480 [==============================] - 12s 8ms/step - loss: 2.4899 - accuracy: 0.4681\n",
            "Epoch 72/100\n",
            "1480/1480 [==============================] - 11s 8ms/step - loss: 2.4795 - accuracy: 0.4705\n",
            "Epoch 73/100\n",
            "1480/1480 [==============================] - 12s 8ms/step - loss: 2.4673 - accuracy: 0.4716\n",
            "Epoch 74/100\n",
            "1480/1480 [==============================] - 11s 8ms/step - loss: 2.4642 - accuracy: 0.4729\n",
            "Epoch 75/100\n",
            "1480/1480 [==============================] - 11s 8ms/step - loss: 2.4484 - accuracy: 0.4771\n",
            "Epoch 76/100\n",
            "1480/1480 [==============================] - 12s 8ms/step - loss: 2.4447 - accuracy: 0.4775\n",
            "Epoch 77/100\n",
            "1480/1480 [==============================] - 12s 8ms/step - loss: 2.4337 - accuracy: 0.4789\n",
            "Epoch 78/100\n",
            "1480/1480 [==============================] - 11s 8ms/step - loss: 2.4316 - accuracy: 0.4797\n",
            "Epoch 79/100\n",
            "1480/1480 [==============================] - 12s 8ms/step - loss: 2.4089 - accuracy: 0.4835\n",
            "Epoch 80/100\n",
            "1480/1480 [==============================] - 12s 8ms/step - loss: 2.4107 - accuracy: 0.4820\n",
            "Epoch 81/100\n",
            "1480/1480 [==============================] - 12s 8ms/step - loss: 2.3971 - accuracy: 0.4859\n",
            "Epoch 82/100\n",
            "1480/1480 [==============================] - 12s 8ms/step - loss: 2.3869 - accuracy: 0.4879\n",
            "Epoch 83/100\n",
            "1480/1480 [==============================] - 12s 8ms/step - loss: 2.3845 - accuracy: 0.4867\n",
            "Epoch 84/100\n",
            "1480/1480 [==============================] - 12s 8ms/step - loss: 2.3869 - accuracy: 0.4852\n",
            "Epoch 85/100\n",
            "1480/1480 [==============================] - 12s 8ms/step - loss: 2.3566 - accuracy: 0.4923\n",
            "Epoch 86/100\n",
            "1480/1480 [==============================] - 12s 8ms/step - loss: 2.3629 - accuracy: 0.4896\n",
            "Epoch 87/100\n",
            "1480/1480 [==============================] - 12s 8ms/step - loss: 2.3400 - accuracy: 0.4950\n",
            "Epoch 88/100\n",
            "1480/1480 [==============================] - 12s 8ms/step - loss: 2.3396 - accuracy: 0.4961\n",
            "Epoch 89/100\n",
            "1480/1480 [==============================] - 12s 8ms/step - loss: 2.3330 - accuracy: 0.4974\n",
            "Epoch 90/100\n",
            "1480/1480 [==============================] - 12s 8ms/step - loss: 2.3236 - accuracy: 0.4984\n",
            "Epoch 91/100\n",
            "1480/1480 [==============================] - 12s 8ms/step - loss: 2.3195 - accuracy: 0.4991\n",
            "Epoch 92/100\n",
            "1480/1480 [==============================] - 12s 8ms/step - loss: 2.3073 - accuracy: 0.5003\n",
            "Epoch 93/100\n",
            "1480/1480 [==============================] - 11s 8ms/step - loss: 2.3087 - accuracy: 0.5016\n",
            "Epoch 94/100\n",
            "1480/1480 [==============================] - 12s 8ms/step - loss: 2.2954 - accuracy: 0.5036\n",
            "Epoch 95/100\n",
            "1480/1480 [==============================] - 11s 8ms/step - loss: 2.2926 - accuracy: 0.5040\n",
            "Epoch 96/100\n",
            "1480/1480 [==============================] - 12s 8ms/step - loss: 2.2881 - accuracy: 0.5050\n",
            "Epoch 97/100\n",
            "1480/1480 [==============================] - 12s 8ms/step - loss: 2.2671 - accuracy: 0.5081\n",
            "Epoch 98/100\n",
            "1480/1480 [==============================] - 12s 8ms/step - loss: 2.2697 - accuracy: 0.5093\n",
            "Epoch 99/100\n",
            "1480/1480 [==============================] - 12s 8ms/step - loss: 2.2851 - accuracy: 0.5039\n",
            "Epoch 100/100\n",
            "1480/1480 [==============================] - 12s 8ms/step - loss: 2.2497 - accuracy: 0.5126\n"
          ],
          "name": "stdout"
        }
      ]
    },
    {
      "cell_type": "markdown",
      "metadata": {
        "id": "MgvIz20nlQcq"
      },
      "source": [
        "### View the Training Graph"
      ]
    },
    {
      "cell_type": "code",
      "metadata": {
        "id": "rOqmmarvlSLh",
        "outputId": "dfcb481d-f4a1-4380-aa8a-1be88f22cad7",
        "colab": {
          "base_uri": "https://localhost:8080/",
          "height": 279
        }
      },
      "source": [
        "import matplotlib.pyplot as plt\n",
        "\n",
        "def plot_graphs(history, string):\n",
        "  plt.plot(history.history[string])\n",
        "  plt.xlabel(\"Epochs\")\n",
        "  plt.ylabel(string)\n",
        "  plt.show()\n",
        "\n",
        "plot_graphs(history, 'accuracy')"
      ],
      "execution_count": 11,
      "outputs": [
        {
          "output_type": "display_data",
          "data": {
            "image/png": "[encoded data removed]",
            "text/plain": [
              "<Figure size 432x288 with 1 Axes>"
            ]
          },
          "metadata": {
            "tags": [],
            "needs_background": "light"
          }
        }
      ]
    },
    {
      "cell_type": "markdown",
      "metadata": {
        "id": "ISLZZGlQlSxh"
      },
      "source": [
        "### Generate better lyrics!\n",
        "\n",
        "This time around, we should be able to get a more interesting output with less repetition."
      ]
    },
    {
      "cell_type": "code",
      "metadata": {
        "id": "P96oVMk3lU7y",
        "outputId": "2df58e73-cfb9-41ee-f619-ddd37df34da7",
        "colab": {
          "base_uri": "https://localhost:8080/"
        }
      },
      "source": [
        "seed_text = \"im feeling chills\"\n",
        "next_words = 100\n",
        "  \n",
        "for _ in range(next_words):\n",
        "\ttoken_list = tokenizer.texts_to_sequences([seed_text])[0]\n",
        "\ttoken_list = pad_sequences([token_list], maxlen=max_sequence_len-1, padding='pre')\n",
        "\tpredicted = np.argmax(model.predict(token_list), axis=-1)\n",
        "\toutput_word = \"\"\n",
        "\tfor word, index in tokenizer.word_index.items():\n",
        "\t\tif index == predicted:\n",
        "\t\t\toutput_word = word\n",
        "\t\t\tbreak\n",
        "\tseed_text += \" \" + output_word\n",
        "print(seed_text)"
      ],
      "execution_count": 12,
      "outputs": [
        {
          "output_type": "stream",
          "text": [
            "im feeling chills me darling cant you just want to see you know when you know ah dont stop breathing is me to her way to the test refuse a intention of love yeah feeling save songs take me crazy band nobody off out of every place for everybodys happy free yeah aint for hours years of stand foolin holler mad alright jump older growing mustve alone tails go without me baby feeling it up gotta give it up cmon nancy daylight needed harder thrill give me light baby high high high high high so down want want on why all name upon\n"
          ],
          "name": "stdout"
        }
      ]
    },
    {
      "cell_type": "markdown",
      "metadata": {
        "id": "upgJKV8_oRU9"
      },
      "source": [
        "### Varying the Possible Outputs\n",
        "\n",
        "In running the above, you may notice that the same seed text will generate similar outputs. This is because the code is currently always choosing the top predicted class as the next word. What if you wanted more variance in the output? \n",
        "\n",
        "Switching from `model.predict_classes` to `model.predict_proba` will get us all of the class probabilities. We can combine this with `np.random.choice` to select a given predicted output based on a probability, thereby giving a bit more randomness to our outputs."
      ]
    },
    {
      "cell_type": "code",
      "metadata": {
        "id": "lZe9gaJeoGVP",
        "outputId": "52c8abf6-3387-4a40-a319-a488b640c163",
        "colab": {
          "base_uri": "https://localhost:8080/"
        }
      },
      "source": [
        "# Test the method with just the first word after the seed text\n",
        "seed_text = \"im feeling chills\"\n",
        "next_words = 100\n",
        "  \n",
        "token_list = tokenizer.texts_to_sequences([seed_text])[0]\n",
        "token_list = pad_sequences([token_list], maxlen=max_sequence_len-1, padding='pre')\n",
        "predicted_probs = model.predict(token_list)[0]\n",
        "predicted = np.random.choice([x for x in range(len(predicted_probs))], \n",
        "                             p=predicted_probs)\n",
        "# Running this cell multiple times should get you some variance in output\n",
        "print(predicted)"
      ],
      "execution_count": 20,
      "outputs": [
        {
          "output_type": "stream",
          "text": [
            "7\n"
          ],
          "name": "stdout"
        }
      ]
    },
    {
      "cell_type": "code",
      "metadata": {
        "id": "ee7WKgRGrJy1",
        "outputId": "41b4a7e4-370d-4911-e010-155425533e23",
        "colab": {
          "base_uri": "https://localhost:8080/"
        }
      },
      "source": [
        "# Use this process for the full output generation\n",
        "seed_text = \"im feeling chills\"\n",
        "next_words = 100\n",
        "  \n",
        "for _ in range(next_words):\n",
        "  token_list = tokenizer.texts_to_sequences([seed_text])[0]\n",
        "  token_list = pad_sequences([token_list], maxlen=max_sequence_len-1, padding='pre')\n",
        "  predicted_probs = model.predict(token_list)[0]\n",
        "  predicted = np.random.choice([x for x in range(len(predicted_probs))],\n",
        "                               p=predicted_probs)\n",
        "  output_word = \"\"\n",
        "  for word, index in tokenizer.word_index.items():\n",
        "    if index == predicted:\n",
        "      output_word = word\n",
        "      break\n",
        "  seed_text += \" \" + output_word\n",
        "print(seed_text)"
      ],
      "execution_count": 15,
      "outputs": [
        {
          "output_type": "stream",
          "text": [
            "im feeling chills me it do you and why dont stop us in the supernatural your story is so humdehumhum window shove want ahha ahha care take ahha choose bother everybodys nice into caught starts child worlds cried man backstage fantasy backstage own queen peace corner corner knees sky bang edge philosophy kong hero corner pot voice heal sit edge guilt row want candy bought cassandra merry us twice ladies time of same word hate it girl come back cassandra let use power act shove make you lights choose die back someone take it easy take it easy darling they find it easy\n"
          ],
          "name": "stdout"
        }
      ]
    },
    {
      "cell_type": "markdown",
      "metadata": {
        "id": "Pco4wAk4E2ZY"
      },
      "source": [
        "Review\n",
        "\n",
        "https://youtu.be/M0Mz93DDHjo"
      ]
    }
  ]
}