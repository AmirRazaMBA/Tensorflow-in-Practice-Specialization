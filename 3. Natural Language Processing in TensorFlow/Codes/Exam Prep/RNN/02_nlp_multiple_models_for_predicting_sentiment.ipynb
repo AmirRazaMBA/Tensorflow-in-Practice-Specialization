{
  "nbformat": 4,
  "nbformat_minor": 0,
  "metadata": {
    "accelerator": "GPU",
    "colab": {
      "name": "l10c02_nlp_multiple_models_for_predicting_sentiment.ipynb",
      "provenance": [],
      "toc_visible": true,
      "include_colab_link": true
    },
    "kernelspec": {
      "display_name": "Python 3",
      "language": "python",
      "name": "python3"
    },
    "language_info": {
      "codemirror_mode": {
        "name": "ipython",
        "version": 3
      },
      "file_extension": ".py",
      "mimetype": "text/x-python",
      "name": "python",
      "nbconvert_exporter": "python",
      "pygments_lexer": "ipython3",
      "version": "3.7.7"
    },
    "widgets": {
      "application/vnd.jupyter.widget-state+json": {
        "358af2523e6e4dc7a0ab2c3966d2002c": {
          "model_module": "@jupyter-widgets/controls",
          "model_name": "HBoxModel",
          "state": {
            "_view_name": "HBoxView",
            "_dom_classes": [],
            "_model_name": "HBoxModel",
            "_view_module": "@jupyter-widgets/controls",
            "_model_module_version": "1.5.0",
            "_view_count": null,
            "_view_module_version": "1.5.0",
            "box_style": "",
            "layout": "IPY_MODEL_2960cd1117584ad4b55da2a9b3a008d8",
            "_model_module": "@jupyter-widgets/controls",
            "children": [
              "IPY_MODEL_394e6d84754f476b8521a84039fa5bc5",
              "IPY_MODEL_d66c73ca794b449098463c20801673b0"
            ]
          }
        },
        "2960cd1117584ad4b55da2a9b3a008d8": {
          "model_module": "@jupyter-widgets/base",
          "model_name": "LayoutModel",
          "state": {
            "_view_name": "LayoutView",
            "grid_template_rows": null,
            "right": null,
            "justify_content": null,
            "_view_module": "@jupyter-widgets/base",
            "overflow": null,
            "_model_module_version": "1.2.0",
            "_view_count": null,
            "flex_flow": null,
            "width": null,
            "min_width": null,
            "border": null,
            "align_items": null,
            "bottom": null,
            "_model_module": "@jupyter-widgets/base",
            "top": null,
            "grid_column": null,
            "overflow_y": null,
            "overflow_x": null,
            "grid_auto_flow": null,
            "grid_area": null,
            "grid_template_columns": null,
            "flex": null,
            "_model_name": "LayoutModel",
            "justify_items": null,
            "grid_row": null,
            "max_height": null,
            "align_content": null,
            "visibility": null,
            "align_self": null,
            "height": null,
            "min_height": null,
            "padding": null,
            "grid_auto_rows": null,
            "grid_gap": null,
            "max_width": null,
            "order": null,
            "_view_module_version": "1.2.0",
            "grid_template_areas": null,
            "object_position": null,
            "object_fit": null,
            "grid_auto_columns": null,
            "margin": null,
            "display": null,
            "left": null
          }
        },
        "394e6d84754f476b8521a84039fa5bc5": {
          "model_module": "@jupyter-widgets/controls",
          "model_name": "FloatProgressModel",
          "state": {
            "_view_name": "ProgressView",
            "style": "IPY_MODEL_4af8c19475b14150bc25892cd6f77364",
            "_dom_classes": [],
            "description": "Dl Completed...: 100%",
            "_model_name": "FloatProgressModel",
            "bar_style": "success",
            "max": 1,
            "_view_module": "@jupyter-widgets/controls",
            "_model_module_version": "1.5.0",
            "value": 1,
            "_view_count": null,
            "_view_module_version": "1.5.0",
            "orientation": "horizontal",
            "min": 0,
            "description_tooltip": null,
            "_model_module": "@jupyter-widgets/controls",
            "layout": "IPY_MODEL_6ecfe5559b594a6188c06c38ea5aa8d4"
          }
        },
        "d66c73ca794b449098463c20801673b0": {
          "model_module": "@jupyter-widgets/controls",
          "model_name": "HTMLModel",
          "state": {
            "_view_name": "HTMLView",
            "style": "IPY_MODEL_612c3eb1ef914f30bee6f7a6d9ed1fc5",
            "_dom_classes": [],
            "description": "",
            "_model_name": "HTMLModel",
            "placeholder": "​",
            "_view_module": "@jupyter-widgets/controls",
            "_model_module_version": "1.5.0",
            "value": " 1/1 [00:00&lt;00:00,  1.29 url/s]",
            "_view_count": null,
            "_view_module_version": "1.5.0",
            "description_tooltip": null,
            "_model_module": "@jupyter-widgets/controls",
            "layout": "IPY_MODEL_104e13538fef4f668dfd461ebe1ca656"
          }
        },
        "4af8c19475b14150bc25892cd6f77364": {
          "model_module": "@jupyter-widgets/controls",
          "model_name": "ProgressStyleModel",
          "state": {
            "_view_name": "StyleView",
            "_model_name": "ProgressStyleModel",
            "description_width": "initial",
            "_view_module": "@jupyter-widgets/base",
            "_model_module_version": "1.5.0",
            "_view_count": null,
            "_view_module_version": "1.2.0",
            "bar_color": null,
            "_model_module": "@jupyter-widgets/controls"
          }
        },
        "6ecfe5559b594a6188c06c38ea5aa8d4": {
          "model_module": "@jupyter-widgets/base",
          "model_name": "LayoutModel",
          "state": {
            "_view_name": "LayoutView",
            "grid_template_rows": null,
            "right": null,
            "justify_content": null,
            "_view_module": "@jupyter-widgets/base",
            "overflow": null,
            "_model_module_version": "1.2.0",
            "_view_count": null,
            "flex_flow": null,
            "width": null,
            "min_width": null,
            "border": null,
            "align_items": null,
            "bottom": null,
            "_model_module": "@jupyter-widgets/base",
            "top": null,
            "grid_column": null,
            "overflow_y": null,
            "overflow_x": null,
            "grid_auto_flow": null,
            "grid_area": null,
            "grid_template_columns": null,
            "flex": null,
            "_model_name": "LayoutModel",
            "justify_items": null,
            "grid_row": null,
            "max_height": null,
            "align_content": null,
            "visibility": null,
            "align_self": null,
            "height": null,
            "min_height": null,
            "padding": null,
            "grid_auto_rows": null,
            "grid_gap": null,
            "max_width": null,
            "order": null,
            "_view_module_version": "1.2.0",
            "grid_template_areas": null,
            "object_position": null,
            "object_fit": null,
            "grid_auto_columns": null,
            "margin": null,
            "display": null,
            "left": null
          }
        },
        "612c3eb1ef914f30bee6f7a6d9ed1fc5": {
          "model_module": "@jupyter-widgets/controls",
          "model_name": "DescriptionStyleModel",
          "state": {
            "_view_name": "StyleView",
            "_model_name": "DescriptionStyleModel",
            "description_width": "",
            "_view_module": "@jupyter-widgets/base",
            "_model_module_version": "1.5.0",
            "_view_count": null,
            "_view_module_version": "1.2.0",
            "_model_module": "@jupyter-widgets/controls"
          }
        },
        "104e13538fef4f668dfd461ebe1ca656": {
          "model_module": "@jupyter-widgets/base",
          "model_name": "LayoutModel",
          "state": {
            "_view_name": "LayoutView",
            "grid_template_rows": null,
            "right": null,
            "justify_content": null,
            "_view_module": "@jupyter-widgets/base",
            "overflow": null,
            "_model_module_version": "1.2.0",
            "_view_count": null,
            "flex_flow": null,
            "width": null,
            "min_width": null,
            "border": null,
            "align_items": null,
            "bottom": null,
            "_model_module": "@jupyter-widgets/base",
            "top": null,
            "grid_column": null,
            "overflow_y": null,
            "overflow_x": null,
            "grid_auto_flow": null,
            "grid_area": null,
            "grid_template_columns": null,
            "flex": null,
            "_model_name": "LayoutModel",
            "justify_items": null,
            "grid_row": null,
            "max_height": null,
            "align_content": null,
            "visibility": null,
            "align_self": null,
            "height": null,
            "min_height": null,
            "padding": null,
            "grid_auto_rows": null,
            "grid_gap": null,
            "max_width": null,
            "order": null,
            "_view_module_version": "1.2.0",
            "grid_template_areas": null,
            "object_position": null,
            "object_fit": null,
            "grid_auto_columns": null,
            "margin": null,
            "display": null,
            "left": null
          }
        },
        "73276ff89e9d47c390ff44cfc7f7fafd": {
          "model_module": "@jupyter-widgets/controls",
          "model_name": "HBoxModel",
          "state": {
            "_view_name": "HBoxView",
            "_dom_classes": [],
            "_model_name": "HBoxModel",
            "_view_module": "@jupyter-widgets/controls",
            "_model_module_version": "1.5.0",
            "_view_count": null,
            "_view_module_version": "1.5.0",
            "box_style": "",
            "layout": "IPY_MODEL_7a4da14edbfd47f7a127481a1dea4b52",
            "_model_module": "@jupyter-widgets/controls",
            "children": [
              "IPY_MODEL_00e787eb840e41799fa9bef5a5481e73",
              "IPY_MODEL_ff16a5e60e36463ba6c2b22d4b453466"
            ]
          }
        },
        "7a4da14edbfd47f7a127481a1dea4b52": {
          "model_module": "@jupyter-widgets/base",
          "model_name": "LayoutModel",
          "state": {
            "_view_name": "LayoutView",
            "grid_template_rows": null,
            "right": null,
            "justify_content": null,
            "_view_module": "@jupyter-widgets/base",
            "overflow": null,
            "_model_module_version": "1.2.0",
            "_view_count": null,
            "flex_flow": null,
            "width": null,
            "min_width": null,
            "border": null,
            "align_items": null,
            "bottom": null,
            "_model_module": "@jupyter-widgets/base",
            "top": null,
            "grid_column": null,
            "overflow_y": null,
            "overflow_x": null,
            "grid_auto_flow": null,
            "grid_area": null,
            "grid_template_columns": null,
            "flex": null,
            "_model_name": "LayoutModel",
            "justify_items": null,
            "grid_row": null,
            "max_height": null,
            "align_content": null,
            "visibility": null,
            "align_self": null,
            "height": null,
            "min_height": null,
            "padding": null,
            "grid_auto_rows": null,
            "grid_gap": null,
            "max_width": null,
            "order": null,
            "_view_module_version": "1.2.0",
            "grid_template_areas": null,
            "object_position": null,
            "object_fit": null,
            "grid_auto_columns": null,
            "margin": null,
            "display": null,
            "left": null
          }
        },
        "00e787eb840e41799fa9bef5a5481e73": {
          "model_module": "@jupyter-widgets/controls",
          "model_name": "FloatProgressModel",
          "state": {
            "_view_name": "ProgressView",
            "style": "IPY_MODEL_d8c53bc6e1e74ab482207fa8d7ea642a",
            "_dom_classes": [],
            "description": "Dl Size...: 100%",
            "_model_name": "FloatProgressModel",
            "bar_style": "success",
            "max": 1,
            "_view_module": "@jupyter-widgets/controls",
            "_model_module_version": "1.5.0",
            "value": 1,
            "_view_count": null,
            "_view_module_version": "1.5.0",
            "orientation": "horizontal",
            "min": 0,
            "description_tooltip": null,
            "_model_module": "@jupyter-widgets/controls",
            "layout": "IPY_MODEL_ebbabd10a0a546ed99690143c2b7dd46"
          }
        },
        "ff16a5e60e36463ba6c2b22d4b453466": {
          "model_module": "@jupyter-widgets/controls",
          "model_name": "HTMLModel",
          "state": {
            "_view_name": "HTMLView",
            "style": "IPY_MODEL_4891c2aa32bf48adb616b09abc8a0dbe",
            "_dom_classes": [],
            "description": "",
            "_model_name": "HTMLModel",
            "placeholder": "​",
            "_view_module": "@jupyter-widgets/controls",
            "_model_module_version": "1.5.0",
            "value": " 7/7 [00:00&lt;00:00,  9.38 MiB/s]",
            "_view_count": null,
            "_view_module_version": "1.5.0",
            "description_tooltip": null,
            "_model_module": "@jupyter-widgets/controls",
            "layout": "IPY_MODEL_fda1ca7763494f77a9b391852b47e154"
          }
        },
        "d8c53bc6e1e74ab482207fa8d7ea642a": {
          "model_module": "@jupyter-widgets/controls",
          "model_name": "ProgressStyleModel",
          "state": {
            "_view_name": "StyleView",
            "_model_name": "ProgressStyleModel",
            "description_width": "initial",
            "_view_module": "@jupyter-widgets/base",
            "_model_module_version": "1.5.0",
            "_view_count": null,
            "_view_module_version": "1.2.0",
            "bar_color": null,
            "_model_module": "@jupyter-widgets/controls"
          }
        },
        "ebbabd10a0a546ed99690143c2b7dd46": {
          "model_module": "@jupyter-widgets/base",
          "model_name": "LayoutModel",
          "state": {
            "_view_name": "LayoutView",
            "grid_template_rows": null,
            "right": null,
            "justify_content": null,
            "_view_module": "@jupyter-widgets/base",
            "overflow": null,
            "_model_module_version": "1.2.0",
            "_view_count": null,
            "flex_flow": null,
            "width": null,
            "min_width": null,
            "border": null,
            "align_items": null,
            "bottom": null,
            "_model_module": "@jupyter-widgets/base",
            "top": null,
            "grid_column": null,
            "overflow_y": null,
            "overflow_x": null,
            "grid_auto_flow": null,
            "grid_area": null,
            "grid_template_columns": null,
            "flex": null,
            "_model_name": "LayoutModel",
            "justify_items": null,
            "grid_row": null,
            "max_height": null,
            "align_content": null,
            "visibility": null,
            "align_self": null,
            "height": null,
            "min_height": null,
            "padding": null,
            "grid_auto_rows": null,
            "grid_gap": null,
            "max_width": null,
            "order": null,
            "_view_module_version": "1.2.0",
            "grid_template_areas": null,
            "object_position": null,
            "object_fit": null,
            "grid_auto_columns": null,
            "margin": null,
            "display": null,
            "left": null
          }
        },
        "4891c2aa32bf48adb616b09abc8a0dbe": {
          "model_module": "@jupyter-widgets/controls",
          "model_name": "DescriptionStyleModel",
          "state": {
            "_view_name": "StyleView",
            "_model_name": "DescriptionStyleModel",
            "description_width": "",
            "_view_module": "@jupyter-widgets/base",
            "_model_module_version": "1.5.0",
            "_view_count": null,
            "_view_module_version": "1.2.0",
            "_model_module": "@jupyter-widgets/controls"
          }
        },
        "fda1ca7763494f77a9b391852b47e154": {
          "model_module": "@jupyter-widgets/base",
          "model_name": "LayoutModel",
          "state": {
            "_view_name": "LayoutView",
            "grid_template_rows": null,
            "right": null,
            "justify_content": null,
            "_view_module": "@jupyter-widgets/base",
            "overflow": null,
            "_model_module_version": "1.2.0",
            "_view_count": null,
            "flex_flow": null,
            "width": null,
            "min_width": null,
            "border": null,
            "align_items": null,
            "bottom": null,
            "_model_module": "@jupyter-widgets/base",
            "top": null,
            "grid_column": null,
            "overflow_y": null,
            "overflow_x": null,
            "grid_auto_flow": null,
            "grid_area": null,
            "grid_template_columns": null,
            "flex": null,
            "_model_name": "LayoutModel",
            "justify_items": null,
            "grid_row": null,
            "max_height": null,
            "align_content": null,
            "visibility": null,
            "align_self": null,
            "height": null,
            "min_height": null,
            "padding": null,
            "grid_auto_rows": null,
            "grid_gap": null,
            "max_width": null,
            "order": null,
            "_view_module_version": "1.2.0",
            "grid_template_areas": null,
            "object_position": null,
            "object_fit": null,
            "grid_auto_columns": null,
            "margin": null,
            "display": null,
            "left": null
          }
        },
        "075ac093bac44c9697c46a33de6fc5f0": {
          "model_module": "@jupyter-widgets/controls",
          "model_name": "HBoxModel",
          "state": {
            "_view_name": "HBoxView",
            "_dom_classes": [],
            "_model_name": "HBoxModel",
            "_view_module": "@jupyter-widgets/controls",
            "_model_module_version": "1.5.0",
            "_view_count": null,
            "_view_module_version": "1.5.0",
            "box_style": "",
            "layout": "IPY_MODEL_9446a8e5607e4ff39210bccd7bd42b45",
            "_model_module": "@jupyter-widgets/controls",
            "children": [
              "IPY_MODEL_f82befc7af1a45feb68217533fd8713e",
              "IPY_MODEL_e6331375ab344b009996305dba26e0f7"
            ]
          }
        },
        "9446a8e5607e4ff39210bccd7bd42b45": {
          "model_module": "@jupyter-widgets/base",
          "model_name": "LayoutModel",
          "state": {
            "_view_name": "LayoutView",
            "grid_template_rows": null,
            "right": null,
            "justify_content": null,
            "_view_module": "@jupyter-widgets/base",
            "overflow": null,
            "_model_module_version": "1.2.0",
            "_view_count": null,
            "flex_flow": null,
            "width": null,
            "min_width": null,
            "border": null,
            "align_items": null,
            "bottom": null,
            "_model_module": "@jupyter-widgets/base",
            "top": null,
            "grid_column": null,
            "overflow_y": null,
            "overflow_x": null,
            "grid_auto_flow": null,
            "grid_area": null,
            "grid_template_columns": null,
            "flex": null,
            "_model_name": "LayoutModel",
            "justify_items": null,
            "grid_row": null,
            "max_height": null,
            "align_content": null,
            "visibility": null,
            "align_self": null,
            "height": null,
            "min_height": null,
            "padding": null,
            "grid_auto_rows": null,
            "grid_gap": null,
            "max_width": null,
            "order": null,
            "_view_module_version": "1.2.0",
            "grid_template_areas": null,
            "object_position": null,
            "object_fit": null,
            "grid_auto_columns": null,
            "margin": null,
            "display": null,
            "left": null
          }
        },
        "f82befc7af1a45feb68217533fd8713e": {
          "model_module": "@jupyter-widgets/controls",
          "model_name": "FloatProgressModel",
          "state": {
            "_view_name": "ProgressView",
            "style": "IPY_MODEL_72340411bc6943d990eba403d47bb450",
            "_dom_classes": [],
            "description": "Extraction completed...: 100%",
            "_model_name": "FloatProgressModel",
            "bar_style": "success",
            "max": 1,
            "_view_module": "@jupyter-widgets/controls",
            "_model_module_version": "1.5.0",
            "value": 1,
            "_view_count": null,
            "_view_module_version": "1.5.0",
            "orientation": "horizontal",
            "min": 0,
            "description_tooltip": null,
            "_model_module": "@jupyter-widgets/controls",
            "layout": "IPY_MODEL_6221f5a173784bd59cd7c66b4ce399a2"
          }
        },
        "e6331375ab344b009996305dba26e0f7": {
          "model_module": "@jupyter-widgets/controls",
          "model_name": "HTMLModel",
          "state": {
            "_view_name": "HTMLView",
            "style": "IPY_MODEL_03e401562dac45d9a3205f2cb9361d1d",
            "_dom_classes": [],
            "description": "",
            "_model_name": "HTMLModel",
            "placeholder": "​",
            "_view_module": "@jupyter-widgets/controls",
            "_model_module_version": "1.5.0",
            "value": " 1/1 [00:00&lt;00:00,  1.40 file/s]",
            "_view_count": null,
            "_view_module_version": "1.5.0",
            "description_tooltip": null,
            "_model_module": "@jupyter-widgets/controls",
            "layout": "IPY_MODEL_6c00d3932d544044b8b5c7c0378db49e"
          }
        },
        "72340411bc6943d990eba403d47bb450": {
          "model_module": "@jupyter-widgets/controls",
          "model_name": "ProgressStyleModel",
          "state": {
            "_view_name": "StyleView",
            "_model_name": "ProgressStyleModel",
            "description_width": "initial",
            "_view_module": "@jupyter-widgets/base",
            "_model_module_version": "1.5.0",
            "_view_count": null,
            "_view_module_version": "1.2.0",
            "bar_color": null,
            "_model_module": "@jupyter-widgets/controls"
          }
        },
        "6221f5a173784bd59cd7c66b4ce399a2": {
          "model_module": "@jupyter-widgets/base",
          "model_name": "LayoutModel",
          "state": {
            "_view_name": "LayoutView",
            "grid_template_rows": null,
            "right": null,
            "justify_content": null,
            "_view_module": "@jupyter-widgets/base",
            "overflow": null,
            "_model_module_version": "1.2.0",
            "_view_count": null,
            "flex_flow": null,
            "width": null,
            "min_width": null,
            "border": null,
            "align_items": null,
            "bottom": null,
            "_model_module": "@jupyter-widgets/base",
            "top": null,
            "grid_column": null,
            "overflow_y": null,
            "overflow_x": null,
            "grid_auto_flow": null,
            "grid_area": null,
            "grid_template_columns": null,
            "flex": null,
            "_model_name": "LayoutModel",
            "justify_items": null,
            "grid_row": null,
            "max_height": null,
            "align_content": null,
            "visibility": null,
            "align_self": null,
            "height": null,
            "min_height": null,
            "padding": null,
            "grid_auto_rows": null,
            "grid_gap": null,
            "max_width": null,
            "order": null,
            "_view_module_version": "1.2.0",
            "grid_template_areas": null,
            "object_position": null,
            "object_fit": null,
            "grid_auto_columns": null,
            "margin": null,
            "display": null,
            "left": null
          }
        },
        "03e401562dac45d9a3205f2cb9361d1d": {
          "model_module": "@jupyter-widgets/controls",
          "model_name": "DescriptionStyleModel",
          "state": {
            "_view_name": "StyleView",
            "_model_name": "DescriptionStyleModel",
            "description_width": "",
            "_view_module": "@jupyter-widgets/base",
            "_model_module_version": "1.5.0",
            "_view_count": null,
            "_view_module_version": "1.2.0",
            "_model_module": "@jupyter-widgets/controls"
          }
        },
        "6c00d3932d544044b8b5c7c0378db49e": {
          "model_module": "@jupyter-widgets/base",
          "model_name": "LayoutModel",
          "state": {
            "_view_name": "LayoutView",
            "grid_template_rows": null,
            "right": null,
            "justify_content": null,
            "_view_module": "@jupyter-widgets/base",
            "overflow": null,
            "_model_module_version": "1.2.0",
            "_view_count": null,
            "flex_flow": null,
            "width": null,
            "min_width": null,
            "border": null,
            "align_items": null,
            "bottom": null,
            "_model_module": "@jupyter-widgets/base",
            "top": null,
            "grid_column": null,
            "overflow_y": null,
            "overflow_x": null,
            "grid_auto_flow": null,
            "grid_area": null,
            "grid_template_columns": null,
            "flex": null,
            "_model_name": "LayoutModel",
            "justify_items": null,
            "grid_row": null,
            "max_height": null,
            "align_content": null,
            "visibility": null,
            "align_self": null,
            "height": null,
            "min_height": null,
            "padding": null,
            "grid_auto_rows": null,
            "grid_gap": null,
            "max_width": null,
            "order": null,
            "_view_module_version": "1.2.0",
            "grid_template_areas": null,
            "object_position": null,
            "object_fit": null,
            "grid_auto_columns": null,
            "margin": null,
            "display": null,
            "left": null
          }
        },
        "fa67b7ce62d64a248268620d5f78cb47": {
          "model_module": "@jupyter-widgets/controls",
          "model_name": "HBoxModel",
          "state": {
            "_view_name": "HBoxView",
            "_dom_classes": [],
            "_model_name": "HBoxModel",
            "_view_module": "@jupyter-widgets/controls",
            "_model_module_version": "1.5.0",
            "_view_count": null,
            "_view_module_version": "1.5.0",
            "box_style": "",
            "layout": "IPY_MODEL_214982ece65c472bb07d096365866c70",
            "_model_module": "@jupyter-widgets/controls",
            "children": [
              "IPY_MODEL_b9889515647f4439ae5801c468ddd234",
              "IPY_MODEL_55787beca8994aa5b4b8c4dd444f45d9"
            ]
          }
        },
        "214982ece65c472bb07d096365866c70": {
          "model_module": "@jupyter-widgets/base",
          "model_name": "LayoutModel",
          "state": {
            "_view_name": "LayoutView",
            "grid_template_rows": null,
            "right": null,
            "justify_content": null,
            "_view_module": "@jupyter-widgets/base",
            "overflow": null,
            "_model_module_version": "1.2.0",
            "_view_count": null,
            "flex_flow": null,
            "width": null,
            "min_width": null,
            "border": null,
            "align_items": null,
            "bottom": null,
            "_model_module": "@jupyter-widgets/base",
            "top": null,
            "grid_column": null,
            "overflow_y": null,
            "overflow_x": null,
            "grid_auto_flow": null,
            "grid_area": null,
            "grid_template_columns": null,
            "flex": null,
            "_model_name": "LayoutModel",
            "justify_items": null,
            "grid_row": null,
            "max_height": null,
            "align_content": null,
            "visibility": null,
            "align_self": null,
            "height": null,
            "min_height": null,
            "padding": null,
            "grid_auto_rows": null,
            "grid_gap": null,
            "max_width": null,
            "order": null,
            "_view_module_version": "1.2.0",
            "grid_template_areas": null,
            "object_position": null,
            "object_fit": null,
            "grid_auto_columns": null,
            "margin": null,
            "display": null,
            "left": null
          }
        },
        "b9889515647f4439ae5801c468ddd234": {
          "model_module": "@jupyter-widgets/controls",
          "model_name": "FloatProgressModel",
          "state": {
            "_view_name": "ProgressView",
            "style": "IPY_MODEL_fef57764b0dc4a2e9583a6e67472f5a4",
            "_dom_classes": [],
            "description": "",
            "_model_name": "FloatProgressModel",
            "bar_style": "info",
            "max": 1,
            "_view_module": "@jupyter-widgets/controls",
            "_model_module_version": "1.5.0",
            "value": 1,
            "_view_count": null,
            "_view_module_version": "1.5.0",
            "orientation": "horizontal",
            "min": 0,
            "description_tooltip": null,
            "_model_module": "@jupyter-widgets/controls",
            "layout": "IPY_MODEL_41fa4c8682cf42eb809d103422ff7829"
          }
        },
        "55787beca8994aa5b4b8c4dd444f45d9": {
          "model_module": "@jupyter-widgets/controls",
          "model_name": "HTMLModel",
          "state": {
            "_view_name": "HTMLView",
            "style": "IPY_MODEL_b9ce18a81b7b4f7283cf44a649fe0d2a",
            "_dom_classes": [],
            "description": "",
            "_model_name": "HTMLModel",
            "placeholder": "​",
            "_view_module": "@jupyter-widgets/controls",
            "_model_module_version": "1.5.0",
            "value": " 67349/0 [00:18&lt;00:00, 3583.98 examples/s]",
            "_view_count": null,
            "_view_module_version": "1.5.0",
            "description_tooltip": null,
            "_model_module": "@jupyter-widgets/controls",
            "layout": "IPY_MODEL_8777e47c862943a5936b791ed7bca37d"
          }
        },
        "fef57764b0dc4a2e9583a6e67472f5a4": {
          "model_module": "@jupyter-widgets/controls",
          "model_name": "ProgressStyleModel",
          "state": {
            "_view_name": "StyleView",
            "_model_name": "ProgressStyleModel",
            "description_width": "initial",
            "_view_module": "@jupyter-widgets/base",
            "_model_module_version": "1.5.0",
            "_view_count": null,
            "_view_module_version": "1.2.0",
            "bar_color": null,
            "_model_module": "@jupyter-widgets/controls"
          }
        },
        "41fa4c8682cf42eb809d103422ff7829": {
          "model_module": "@jupyter-widgets/base",
          "model_name": "LayoutModel",
          "state": {
            "_view_name": "LayoutView",
            "grid_template_rows": null,
            "right": null,
            "justify_content": null,
            "_view_module": "@jupyter-widgets/base",
            "overflow": null,
            "_model_module_version": "1.2.0",
            "_view_count": null,
            "flex_flow": null,
            "width": null,
            "min_width": null,
            "border": null,
            "align_items": null,
            "bottom": null,
            "_model_module": "@jupyter-widgets/base",
            "top": null,
            "grid_column": null,
            "overflow_y": null,
            "overflow_x": null,
            "grid_auto_flow": null,
            "grid_area": null,
            "grid_template_columns": null,
            "flex": null,
            "_model_name": "LayoutModel",
            "justify_items": null,
            "grid_row": null,
            "max_height": null,
            "align_content": null,
            "visibility": null,
            "align_self": null,
            "height": null,
            "min_height": null,
            "padding": null,
            "grid_auto_rows": null,
            "grid_gap": null,
            "max_width": null,
            "order": null,
            "_view_module_version": "1.2.0",
            "grid_template_areas": null,
            "object_position": null,
            "object_fit": null,
            "grid_auto_columns": null,
            "margin": null,
            "display": null,
            "left": null
          }
        },
        "b9ce18a81b7b4f7283cf44a649fe0d2a": {
          "model_module": "@jupyter-widgets/controls",
          "model_name": "DescriptionStyleModel",
          "state": {
            "_view_name": "StyleView",
            "_model_name": "DescriptionStyleModel",
            "description_width": "",
            "_view_module": "@jupyter-widgets/base",
            "_model_module_version": "1.5.0",
            "_view_count": null,
            "_view_module_version": "1.2.0",
            "_model_module": "@jupyter-widgets/controls"
          }
        },
        "8777e47c862943a5936b791ed7bca37d": {
          "model_module": "@jupyter-widgets/base",
          "model_name": "LayoutModel",
          "state": {
            "_view_name": "LayoutView",
            "grid_template_rows": null,
            "right": null,
            "justify_content": null,
            "_view_module": "@jupyter-widgets/base",
            "overflow": null,
            "_model_module_version": "1.2.0",
            "_view_count": null,
            "flex_flow": null,
            "width": null,
            "min_width": null,
            "border": null,
            "align_items": null,
            "bottom": null,
            "_model_module": "@jupyter-widgets/base",
            "top": null,
            "grid_column": null,
            "overflow_y": null,
            "overflow_x": null,
            "grid_auto_flow": null,
            "grid_area": null,
            "grid_template_columns": null,
            "flex": null,
            "_model_name": "LayoutModel",
            "justify_items": null,
            "grid_row": null,
            "max_height": null,
            "align_content": null,
            "visibility": null,
            "align_self": null,
            "height": null,
            "min_height": null,
            "padding": null,
            "grid_auto_rows": null,
            "grid_gap": null,
            "max_width": null,
            "order": null,
            "_view_module_version": "1.2.0",
            "grid_template_areas": null,
            "object_position": null,
            "object_fit": null,
            "grid_auto_columns": null,
            "margin": null,
            "display": null,
            "left": null
          }
        },
        "a1ccd8e0c047472f8d7e5ac727353453": {
          "model_module": "@jupyter-widgets/controls",
          "model_name": "HBoxModel",
          "state": {
            "_view_name": "HBoxView",
            "_dom_classes": [],
            "_model_name": "HBoxModel",
            "_view_module": "@jupyter-widgets/controls",
            "_model_module_version": "1.5.0",
            "_view_count": null,
            "_view_module_version": "1.5.0",
            "box_style": "",
            "layout": "IPY_MODEL_6e88f93a6622466ebe3d4c7dd0b8a361",
            "_model_module": "@jupyter-widgets/controls",
            "children": [
              "IPY_MODEL_0ac152193a974944a84182273fe02a64",
              "IPY_MODEL_9c8dd1bdfd4d4c2582f09e3a2732a850"
            ]
          }
        },
        "6e88f93a6622466ebe3d4c7dd0b8a361": {
          "model_module": "@jupyter-widgets/base",
          "model_name": "LayoutModel",
          "state": {
            "_view_name": "LayoutView",
            "grid_template_rows": null,
            "right": null,
            "justify_content": null,
            "_view_module": "@jupyter-widgets/base",
            "overflow": null,
            "_model_module_version": "1.2.0",
            "_view_count": null,
            "flex_flow": null,
            "width": null,
            "min_width": null,
            "border": null,
            "align_items": null,
            "bottom": null,
            "_model_module": "@jupyter-widgets/base",
            "top": null,
            "grid_column": null,
            "overflow_y": null,
            "overflow_x": null,
            "grid_auto_flow": null,
            "grid_area": null,
            "grid_template_columns": null,
            "flex": null,
            "_model_name": "LayoutModel",
            "justify_items": null,
            "grid_row": null,
            "max_height": null,
            "align_content": null,
            "visibility": null,
            "align_self": null,
            "height": null,
            "min_height": null,
            "padding": null,
            "grid_auto_rows": null,
            "grid_gap": null,
            "max_width": null,
            "order": null,
            "_view_module_version": "1.2.0",
            "grid_template_areas": null,
            "object_position": null,
            "object_fit": null,
            "grid_auto_columns": null,
            "margin": null,
            "display": null,
            "left": null
          }
        },
        "0ac152193a974944a84182273fe02a64": {
          "model_module": "@jupyter-widgets/controls",
          "model_name": "FloatProgressModel",
          "state": {
            "_view_name": "ProgressView",
            "style": "IPY_MODEL_5da7b7cf6e8644aa9fca4fbfd85519fe",
            "_dom_classes": [],
            "description": " 84%",
            "_model_name": "FloatProgressModel",
            "bar_style": "danger",
            "max": 67349,
            "_view_module": "@jupyter-widgets/controls",
            "_model_module_version": "1.5.0",
            "value": 56814,
            "_view_count": null,
            "_view_module_version": "1.5.0",
            "orientation": "horizontal",
            "min": 0,
            "description_tooltip": null,
            "_model_module": "@jupyter-widgets/controls",
            "layout": "IPY_MODEL_3ebe15548c1a4549aa514bde51d35ff8"
          }
        },
        "9c8dd1bdfd4d4c2582f09e3a2732a850": {
          "model_module": "@jupyter-widgets/controls",
          "model_name": "HTMLModel",
          "state": {
            "_view_name": "HTMLView",
            "style": "IPY_MODEL_4729010322c54d60af486a9969b1e969",
            "_dom_classes": [],
            "description": "",
            "_model_name": "HTMLModel",
            "placeholder": "​",
            "_view_module": "@jupyter-widgets/controls",
            "_model_module_version": "1.5.0",
            "value": " 56814/67349 [00:00&lt;00:00, 44735.63 examples/s]",
            "_view_count": null,
            "_view_module_version": "1.5.0",
            "description_tooltip": null,
            "_model_module": "@jupyter-widgets/controls",
            "layout": "IPY_MODEL_20ad963537b8440e992401af34b1dbd4"
          }
        },
        "5da7b7cf6e8644aa9fca4fbfd85519fe": {
          "model_module": "@jupyter-widgets/controls",
          "model_name": "ProgressStyleModel",
          "state": {
            "_view_name": "StyleView",
            "_model_name": "ProgressStyleModel",
            "description_width": "initial",
            "_view_module": "@jupyter-widgets/base",
            "_model_module_version": "1.5.0",
            "_view_count": null,
            "_view_module_version": "1.2.0",
            "bar_color": null,
            "_model_module": "@jupyter-widgets/controls"
          }
        },
        "3ebe15548c1a4549aa514bde51d35ff8": {
          "model_module": "@jupyter-widgets/base",
          "model_name": "LayoutModel",
          "state": {
            "_view_name": "LayoutView",
            "grid_template_rows": null,
            "right": null,
            "justify_content": null,
            "_view_module": "@jupyter-widgets/base",
            "overflow": null,
            "_model_module_version": "1.2.0",
            "_view_count": null,
            "flex_flow": null,
            "width": null,
            "min_width": null,
            "border": null,
            "align_items": null,
            "bottom": null,
            "_model_module": "@jupyter-widgets/base",
            "top": null,
            "grid_column": null,
            "overflow_y": null,
            "overflow_x": null,
            "grid_auto_flow": null,
            "grid_area": null,
            "grid_template_columns": null,
            "flex": null,
            "_model_name": "LayoutModel",
            "justify_items": null,
            "grid_row": null,
            "max_height": null,
            "align_content": null,
            "visibility": null,
            "align_self": null,
            "height": null,
            "min_height": null,
            "padding": null,
            "grid_auto_rows": null,
            "grid_gap": null,
            "max_width": null,
            "order": null,
            "_view_module_version": "1.2.0",
            "grid_template_areas": null,
            "object_position": null,
            "object_fit": null,
            "grid_auto_columns": null,
            "margin": null,
            "display": null,
            "left": null
          }
        },
        "4729010322c54d60af486a9969b1e969": {
          "model_module": "@jupyter-widgets/controls",
          "model_name": "DescriptionStyleModel",
          "state": {
            "_view_name": "StyleView",
            "_model_name": "DescriptionStyleModel",
            "description_width": "",
            "_view_module": "@jupyter-widgets/base",
            "_model_module_version": "1.5.0",
            "_view_count": null,
            "_view_module_version": "1.2.0",
            "_model_module": "@jupyter-widgets/controls"
          }
        },
        "20ad963537b8440e992401af34b1dbd4": {
          "model_module": "@jupyter-widgets/base",
          "model_name": "LayoutModel",
          "state": {
            "_view_name": "LayoutView",
            "grid_template_rows": null,
            "right": null,
            "justify_content": null,
            "_view_module": "@jupyter-widgets/base",
            "overflow": null,
            "_model_module_version": "1.2.0",
            "_view_count": null,
            "flex_flow": null,
            "width": null,
            "min_width": null,
            "border": null,
            "align_items": null,
            "bottom": null,
            "_model_module": "@jupyter-widgets/base",
            "top": null,
            "grid_column": null,
            "overflow_y": null,
            "overflow_x": null,
            "grid_auto_flow": null,
            "grid_area": null,
            "grid_template_columns": null,
            "flex": null,
            "_model_name": "LayoutModel",
            "justify_items": null,
            "grid_row": null,
            "max_height": null,
            "align_content": null,
            "visibility": null,
            "align_self": null,
            "height": null,
            "min_height": null,
            "padding": null,
            "grid_auto_rows": null,
            "grid_gap": null,
            "max_width": null,
            "order": null,
            "_view_module_version": "1.2.0",
            "grid_template_areas": null,
            "object_position": null,
            "object_fit": null,
            "grid_auto_columns": null,
            "margin": null,
            "display": null,
            "left": null
          }
        },
        "3e0c0f1951ce4517920abb0a9eb2e836": {
          "model_module": "@jupyter-widgets/controls",
          "model_name": "HBoxModel",
          "state": {
            "_view_name": "HBoxView",
            "_dom_classes": [],
            "_model_name": "HBoxModel",
            "_view_module": "@jupyter-widgets/controls",
            "_model_module_version": "1.5.0",
            "_view_count": null,
            "_view_module_version": "1.5.0",
            "box_style": "",
            "layout": "IPY_MODEL_5f9d8a06fbb246bc91a5fb4a7bab560d",
            "_model_module": "@jupyter-widgets/controls",
            "children": [
              "IPY_MODEL_858a471c8848492d8f9c6d1afcc63a39",
              "IPY_MODEL_9c32f0cad5c24fa2ada4b7c1873d8766"
            ]
          }
        },
        "5f9d8a06fbb246bc91a5fb4a7bab560d": {
          "model_module": "@jupyter-widgets/base",
          "model_name": "LayoutModel",
          "state": {
            "_view_name": "LayoutView",
            "grid_template_rows": null,
            "right": null,
            "justify_content": null,
            "_view_module": "@jupyter-widgets/base",
            "overflow": null,
            "_model_module_version": "1.2.0",
            "_view_count": null,
            "flex_flow": null,
            "width": null,
            "min_width": null,
            "border": null,
            "align_items": null,
            "bottom": null,
            "_model_module": "@jupyter-widgets/base",
            "top": null,
            "grid_column": null,
            "overflow_y": null,
            "overflow_x": null,
            "grid_auto_flow": null,
            "grid_area": null,
            "grid_template_columns": null,
            "flex": null,
            "_model_name": "LayoutModel",
            "justify_items": null,
            "grid_row": null,
            "max_height": null,
            "align_content": null,
            "visibility": null,
            "align_self": null,
            "height": null,
            "min_height": null,
            "padding": null,
            "grid_auto_rows": null,
            "grid_gap": null,
            "max_width": null,
            "order": null,
            "_view_module_version": "1.2.0",
            "grid_template_areas": null,
            "object_position": null,
            "object_fit": null,
            "grid_auto_columns": null,
            "margin": null,
            "display": null,
            "left": null
          }
        },
        "858a471c8848492d8f9c6d1afcc63a39": {
          "model_module": "@jupyter-widgets/controls",
          "model_name": "FloatProgressModel",
          "state": {
            "_view_name": "ProgressView",
            "style": "IPY_MODEL_df5d55d6350842efb9acdedff561ed7e",
            "_dom_classes": [],
            "description": "",
            "_model_name": "FloatProgressModel",
            "bar_style": "info",
            "max": 1,
            "_view_module": "@jupyter-widgets/controls",
            "_model_module_version": "1.5.0",
            "value": 1,
            "_view_count": null,
            "_view_module_version": "1.5.0",
            "orientation": "horizontal",
            "min": 0,
            "description_tooltip": null,
            "_model_module": "@jupyter-widgets/controls",
            "layout": "IPY_MODEL_a9ef6eb0f2d54dee9d14ad2b12471b46"
          }
        },
        "9c32f0cad5c24fa2ada4b7c1873d8766": {
          "model_module": "@jupyter-widgets/controls",
          "model_name": "HTMLModel",
          "state": {
            "_view_name": "HTMLView",
            "style": "IPY_MODEL_090af2b413854cea91823a027afd6893",
            "_dom_classes": [],
            "description": "",
            "_model_name": "HTMLModel",
            "placeholder": "​",
            "_view_module": "@jupyter-widgets/controls",
            "_model_module_version": "1.5.0",
            "value": " 872/0 [00:00&lt;00:00, 3118.77 examples/s]",
            "_view_count": null,
            "_view_module_version": "1.5.0",
            "description_tooltip": null,
            "_model_module": "@jupyter-widgets/controls",
            "layout": "IPY_MODEL_c65655921d4949db904e4b5be1184019"
          }
        },
        "df5d55d6350842efb9acdedff561ed7e": {
          "model_module": "@jupyter-widgets/controls",
          "model_name": "ProgressStyleModel",
          "state": {
            "_view_name": "StyleView",
            "_model_name": "ProgressStyleModel",
            "description_width": "initial",
            "_view_module": "@jupyter-widgets/base",
            "_model_module_version": "1.5.0",
            "_view_count": null,
            "_view_module_version": "1.2.0",
            "bar_color": null,
            "_model_module": "@jupyter-widgets/controls"
          }
        },
        "a9ef6eb0f2d54dee9d14ad2b12471b46": {
          "model_module": "@jupyter-widgets/base",
          "model_name": "LayoutModel",
          "state": {
            "_view_name": "LayoutView",
            "grid_template_rows": null,
            "right": null,
            "justify_content": null,
            "_view_module": "@jupyter-widgets/base",
            "overflow": null,
            "_model_module_version": "1.2.0",
            "_view_count": null,
            "flex_flow": null,
            "width": null,
            "min_width": null,
            "border": null,
            "align_items": null,
            "bottom": null,
            "_model_module": "@jupyter-widgets/base",
            "top": null,
            "grid_column": null,
            "overflow_y": null,
            "overflow_x": null,
            "grid_auto_flow": null,
            "grid_area": null,
            "grid_template_columns": null,
            "flex": null,
            "_model_name": "LayoutModel",
            "justify_items": null,
            "grid_row": null,
            "max_height": null,
            "align_content": null,
            "visibility": null,
            "align_self": null,
            "height": null,
            "min_height": null,
            "padding": null,
            "grid_auto_rows": null,
            "grid_gap": null,
            "max_width": null,
            "order": null,
            "_view_module_version": "1.2.0",
            "grid_template_areas": null,
            "object_position": null,
            "object_fit": null,
            "grid_auto_columns": null,
            "margin": null,
            "display": null,
            "left": null
          }
        },
        "090af2b413854cea91823a027afd6893": {
          "model_module": "@jupyter-widgets/controls",
          "model_name": "DescriptionStyleModel",
          "state": {
            "_view_name": "StyleView",
            "_model_name": "DescriptionStyleModel",
            "description_width": "",
            "_view_module": "@jupyter-widgets/base",
            "_model_module_version": "1.5.0",
            "_view_count": null,
            "_view_module_version": "1.2.0",
            "_model_module": "@jupyter-widgets/controls"
          }
        },
        "c65655921d4949db904e4b5be1184019": {
          "model_module": "@jupyter-widgets/base",
          "model_name": "LayoutModel",
          "state": {
            "_view_name": "LayoutView",
            "grid_template_rows": null,
            "right": null,
            "justify_content": null,
            "_view_module": "@jupyter-widgets/base",
            "overflow": null,
            "_model_module_version": "1.2.0",
            "_view_count": null,
            "flex_flow": null,
            "width": null,
            "min_width": null,
            "border": null,
            "align_items": null,
            "bottom": null,
            "_model_module": "@jupyter-widgets/base",
            "top": null,
            "grid_column": null,
            "overflow_y": null,
            "overflow_x": null,
            "grid_auto_flow": null,
            "grid_area": null,
            "grid_template_columns": null,
            "flex": null,
            "_model_name": "LayoutModel",
            "justify_items": null,
            "grid_row": null,
            "max_height": null,
            "align_content": null,
            "visibility": null,
            "align_self": null,
            "height": null,
            "min_height": null,
            "padding": null,
            "grid_auto_rows": null,
            "grid_gap": null,
            "max_width": null,
            "order": null,
            "_view_module_version": "1.2.0",
            "grid_template_areas": null,
            "object_position": null,
            "object_fit": null,
            "grid_auto_columns": null,
            "margin": null,
            "display": null,
            "left": null
          }
        },
        "ca32824a661947059b8faf55f10e6b10": {
          "model_module": "@jupyter-widgets/controls",
          "model_name": "HBoxModel",
          "state": {
            "_view_name": "HBoxView",
            "_dom_classes": [],
            "_model_name": "HBoxModel",
            "_view_module": "@jupyter-widgets/controls",
            "_model_module_version": "1.5.0",
            "_view_count": null,
            "_view_module_version": "1.5.0",
            "box_style": "",
            "layout": "IPY_MODEL_a696a7b16e6247d5b5cebc8f9ea41e3a",
            "_model_module": "@jupyter-widgets/controls",
            "children": [
              "IPY_MODEL_9e22e4e4016b40bf855d80e0c9c5446f",
              "IPY_MODEL_d6cb51bede6643f1b52bbe5107972a5b"
            ]
          }
        },
        "a696a7b16e6247d5b5cebc8f9ea41e3a": {
          "model_module": "@jupyter-widgets/base",
          "model_name": "LayoutModel",
          "state": {
            "_view_name": "LayoutView",
            "grid_template_rows": null,
            "right": null,
            "justify_content": null,
            "_view_module": "@jupyter-widgets/base",
            "overflow": null,
            "_model_module_version": "1.2.0",
            "_view_count": null,
            "flex_flow": null,
            "width": null,
            "min_width": null,
            "border": null,
            "align_items": null,
            "bottom": null,
            "_model_module": "@jupyter-widgets/base",
            "top": null,
            "grid_column": null,
            "overflow_y": null,
            "overflow_x": null,
            "grid_auto_flow": null,
            "grid_area": null,
            "grid_template_columns": null,
            "flex": null,
            "_model_name": "LayoutModel",
            "justify_items": null,
            "grid_row": null,
            "max_height": null,
            "align_content": null,
            "visibility": null,
            "align_self": null,
            "height": null,
            "min_height": null,
            "padding": null,
            "grid_auto_rows": null,
            "grid_gap": null,
            "max_width": null,
            "order": null,
            "_view_module_version": "1.2.0",
            "grid_template_areas": null,
            "object_position": null,
            "object_fit": null,
            "grid_auto_columns": null,
            "margin": null,
            "display": null,
            "left": null
          }
        },
        "9e22e4e4016b40bf855d80e0c9c5446f": {
          "model_module": "@jupyter-widgets/controls",
          "model_name": "FloatProgressModel",
          "state": {
            "_view_name": "ProgressView",
            "style": "IPY_MODEL_c1a2e5692b1a492385949f1dad4fc637",
            "_dom_classes": [],
            "description": "  0%",
            "_model_name": "FloatProgressModel",
            "bar_style": "danger",
            "max": 872,
            "_view_module": "@jupyter-widgets/controls",
            "_model_module_version": "1.5.0",
            "value": 0,
            "_view_count": null,
            "_view_module_version": "1.5.0",
            "orientation": "horizontal",
            "min": 0,
            "description_tooltip": null,
            "_model_module": "@jupyter-widgets/controls",
            "layout": "IPY_MODEL_4df77a1dcf3c4218a4ed1ffec256778f"
          }
        },
        "d6cb51bede6643f1b52bbe5107972a5b": {
          "model_module": "@jupyter-widgets/controls",
          "model_name": "HTMLModel",
          "state": {
            "_view_name": "HTMLView",
            "style": "IPY_MODEL_b650c0620ed04a4b939e18c6021b0b5a",
            "_dom_classes": [],
            "description": "",
            "_model_name": "HTMLModel",
            "placeholder": "​",
            "_view_module": "@jupyter-widgets/controls",
            "_model_module_version": "1.5.0",
            "value": " 0/872 [00:00&lt;?, ? examples/s]",
            "_view_count": null,
            "_view_module_version": "1.5.0",
            "description_tooltip": null,
            "_model_module": "@jupyter-widgets/controls",
            "layout": "IPY_MODEL_f8084f22f29648d986f7385c290caa6b"
          }
        },
        "c1a2e5692b1a492385949f1dad4fc637": {
          "model_module": "@jupyter-widgets/controls",
          "model_name": "ProgressStyleModel",
          "state": {
            "_view_name": "StyleView",
            "_model_name": "ProgressStyleModel",
            "description_width": "initial",
            "_view_module": "@jupyter-widgets/base",
            "_model_module_version": "1.5.0",
            "_view_count": null,
            "_view_module_version": "1.2.0",
            "bar_color": null,
            "_model_module": "@jupyter-widgets/controls"
          }
        },
        "4df77a1dcf3c4218a4ed1ffec256778f": {
          "model_module": "@jupyter-widgets/base",
          "model_name": "LayoutModel",
          "state": {
            "_view_name": "LayoutView",
            "grid_template_rows": null,
            "right": null,
            "justify_content": null,
            "_view_module": "@jupyter-widgets/base",
            "overflow": null,
            "_model_module_version": "1.2.0",
            "_view_count": null,
            "flex_flow": null,
            "width": null,
            "min_width": null,
            "border": null,
            "align_items": null,
            "bottom": null,
            "_model_module": "@jupyter-widgets/base",
            "top": null,
            "grid_column": null,
            "overflow_y": null,
            "overflow_x": null,
            "grid_auto_flow": null,
            "grid_area": null,
            "grid_template_columns": null,
            "flex": null,
            "_model_name": "LayoutModel",
            "justify_items": null,
            "grid_row": null,
            "max_height": null,
            "align_content": null,
            "visibility": null,
            "align_self": null,
            "height": null,
            "min_height": null,
            "padding": null,
            "grid_auto_rows": null,
            "grid_gap": null,
            "max_width": null,
            "order": null,
            "_view_module_version": "1.2.0",
            "grid_template_areas": null,
            "object_position": null,
            "object_fit": null,
            "grid_auto_columns": null,
            "margin": null,
            "display": null,
            "left": null
          }
        },
        "b650c0620ed04a4b939e18c6021b0b5a": {
          "model_module": "@jupyter-widgets/controls",
          "model_name": "DescriptionStyleModel",
          "state": {
            "_view_name": "StyleView",
            "_model_name": "DescriptionStyleModel",
            "description_width": "",
            "_view_module": "@jupyter-widgets/base",
            "_model_module_version": "1.5.0",
            "_view_count": null,
            "_view_module_version": "1.2.0",
            "_model_module": "@jupyter-widgets/controls"
          }
        },
        "f8084f22f29648d986f7385c290caa6b": {
          "model_module": "@jupyter-widgets/base",
          "model_name": "LayoutModel",
          "state": {
            "_view_name": "LayoutView",
            "grid_template_rows": null,
            "right": null,
            "justify_content": null,
            "_view_module": "@jupyter-widgets/base",
            "overflow": null,
            "_model_module_version": "1.2.0",
            "_view_count": null,
            "flex_flow": null,
            "width": null,
            "min_width": null,
            "border": null,
            "align_items": null,
            "bottom": null,
            "_model_module": "@jupyter-widgets/base",
            "top": null,
            "grid_column": null,
            "overflow_y": null,
            "overflow_x": null,
            "grid_auto_flow": null,
            "grid_area": null,
            "grid_template_columns": null,
            "flex": null,
            "_model_name": "LayoutModel",
            "justify_items": null,
            "grid_row": null,
            "max_height": null,
            "align_content": null,
            "visibility": null,
            "align_self": null,
            "height": null,
            "min_height": null,
            "padding": null,
            "grid_auto_rows": null,
            "grid_gap": null,
            "max_width": null,
            "order": null,
            "_view_module_version": "1.2.0",
            "grid_template_areas": null,
            "object_position": null,
            "object_fit": null,
            "grid_auto_columns": null,
            "margin": null,
            "display": null,
            "left": null
          }
        },
        "afb7ba453829410e85b6a4940a26ed8e": {
          "model_module": "@jupyter-widgets/controls",
          "model_name": "HBoxModel",
          "state": {
            "_view_name": "HBoxView",
            "_dom_classes": [],
            "_model_name": "HBoxModel",
            "_view_module": "@jupyter-widgets/controls",
            "_model_module_version": "1.5.0",
            "_view_count": null,
            "_view_module_version": "1.5.0",
            "box_style": "",
            "layout": "IPY_MODEL_bfcb2d4ef66d45b7aa7eb477f3921f12",
            "_model_module": "@jupyter-widgets/controls",
            "children": [
              "IPY_MODEL_a23f1e7054a841f2ad6e09d997dde44d",
              "IPY_MODEL_46e220c99d1b4e0080d1661b9fe7550b"
            ]
          }
        },
        "bfcb2d4ef66d45b7aa7eb477f3921f12": {
          "model_module": "@jupyter-widgets/base",
          "model_name": "LayoutModel",
          "state": {
            "_view_name": "LayoutView",
            "grid_template_rows": null,
            "right": null,
            "justify_content": null,
            "_view_module": "@jupyter-widgets/base",
            "overflow": null,
            "_model_module_version": "1.2.0",
            "_view_count": null,
            "flex_flow": null,
            "width": null,
            "min_width": null,
            "border": null,
            "align_items": null,
            "bottom": null,
            "_model_module": "@jupyter-widgets/base",
            "top": null,
            "grid_column": null,
            "overflow_y": null,
            "overflow_x": null,
            "grid_auto_flow": null,
            "grid_area": null,
            "grid_template_columns": null,
            "flex": null,
            "_model_name": "LayoutModel",
            "justify_items": null,
            "grid_row": null,
            "max_height": null,
            "align_content": null,
            "visibility": null,
            "align_self": null,
            "height": null,
            "min_height": null,
            "padding": null,
            "grid_auto_rows": null,
            "grid_gap": null,
            "max_width": null,
            "order": null,
            "_view_module_version": "1.2.0",
            "grid_template_areas": null,
            "object_position": null,
            "object_fit": null,
            "grid_auto_columns": null,
            "margin": null,
            "display": null,
            "left": null
          }
        },
        "a23f1e7054a841f2ad6e09d997dde44d": {
          "model_module": "@jupyter-widgets/controls",
          "model_name": "FloatProgressModel",
          "state": {
            "_view_name": "ProgressView",
            "style": "IPY_MODEL_aff35edad80143769c4218753c9c304a",
            "_dom_classes": [],
            "description": "",
            "_model_name": "FloatProgressModel",
            "bar_style": "info",
            "max": 1,
            "_view_module": "@jupyter-widgets/controls",
            "_model_module_version": "1.5.0",
            "value": 1,
            "_view_count": null,
            "_view_module_version": "1.5.0",
            "orientation": "horizontal",
            "min": 0,
            "description_tooltip": null,
            "_model_module": "@jupyter-widgets/controls",
            "layout": "IPY_MODEL_1f1a87e9bb1545509c5843d36b5f0271"
          }
        },
        "46e220c99d1b4e0080d1661b9fe7550b": {
          "model_module": "@jupyter-widgets/controls",
          "model_name": "HTMLModel",
          "state": {
            "_view_name": "HTMLView",
            "style": "IPY_MODEL_7487ad1098a741eb8f41eba3929a15f4",
            "_dom_classes": [],
            "description": "",
            "_model_name": "HTMLModel",
            "placeholder": "​",
            "_view_module": "@jupyter-widgets/controls",
            "_model_module_version": "1.5.0",
            "value": " 1821/0 [00:00&lt;00:00, 2782.35 examples/s]",
            "_view_count": null,
            "_view_module_version": "1.5.0",
            "description_tooltip": null,
            "_model_module": "@jupyter-widgets/controls",
            "layout": "IPY_MODEL_4a8c7e18b4e645c78dd14d48aa0647dd"
          }
        },
        "aff35edad80143769c4218753c9c304a": {
          "model_module": "@jupyter-widgets/controls",
          "model_name": "ProgressStyleModel",
          "state": {
            "_view_name": "StyleView",
            "_model_name": "ProgressStyleModel",
            "description_width": "initial",
            "_view_module": "@jupyter-widgets/base",
            "_model_module_version": "1.5.0",
            "_view_count": null,
            "_view_module_version": "1.2.0",
            "bar_color": null,
            "_model_module": "@jupyter-widgets/controls"
          }
        },
        "1f1a87e9bb1545509c5843d36b5f0271": {
          "model_module": "@jupyter-widgets/base",
          "model_name": "LayoutModel",
          "state": {
            "_view_name": "LayoutView",
            "grid_template_rows": null,
            "right": null,
            "justify_content": null,
            "_view_module": "@jupyter-widgets/base",
            "overflow": null,
            "_model_module_version": "1.2.0",
            "_view_count": null,
            "flex_flow": null,
            "width": null,
            "min_width": null,
            "border": null,
            "align_items": null,
            "bottom": null,
            "_model_module": "@jupyter-widgets/base",
            "top": null,
            "grid_column": null,
            "overflow_y": null,
            "overflow_x": null,
            "grid_auto_flow": null,
            "grid_area": null,
            "grid_template_columns": null,
            "flex": null,
            "_model_name": "LayoutModel",
            "justify_items": null,
            "grid_row": null,
            "max_height": null,
            "align_content": null,
            "visibility": null,
            "align_self": null,
            "height": null,
            "min_height": null,
            "padding": null,
            "grid_auto_rows": null,
            "grid_gap": null,
            "max_width": null,
            "order": null,
            "_view_module_version": "1.2.0",
            "grid_template_areas": null,
            "object_position": null,
            "object_fit": null,
            "grid_auto_columns": null,
            "margin": null,
            "display": null,
            "left": null
          }
        },
        "7487ad1098a741eb8f41eba3929a15f4": {
          "model_module": "@jupyter-widgets/controls",
          "model_name": "DescriptionStyleModel",
          "state": {
            "_view_name": "StyleView",
            "_model_name": "DescriptionStyleModel",
            "description_width": "",
            "_view_module": "@jupyter-widgets/base",
            "_model_module_version": "1.5.0",
            "_view_count": null,
            "_view_module_version": "1.2.0",
            "_model_module": "@jupyter-widgets/controls"
          }
        },
        "4a8c7e18b4e645c78dd14d48aa0647dd": {
          "model_module": "@jupyter-widgets/base",
          "model_name": "LayoutModel",
          "state": {
            "_view_name": "LayoutView",
            "grid_template_rows": null,
            "right": null,
            "justify_content": null,
            "_view_module": "@jupyter-widgets/base",
            "overflow": null,
            "_model_module_version": "1.2.0",
            "_view_count": null,
            "flex_flow": null,
            "width": null,
            "min_width": null,
            "border": null,
            "align_items": null,
            "bottom": null,
            "_model_module": "@jupyter-widgets/base",
            "top": null,
            "grid_column": null,
            "overflow_y": null,
            "overflow_x": null,
            "grid_auto_flow": null,
            "grid_area": null,
            "grid_template_columns": null,
            "flex": null,
            "_model_name": "LayoutModel",
            "justify_items": null,
            "grid_row": null,
            "max_height": null,
            "align_content": null,
            "visibility": null,
            "align_self": null,
            "height": null,
            "min_height": null,
            "padding": null,
            "grid_auto_rows": null,
            "grid_gap": null,
            "max_width": null,
            "order": null,
            "_view_module_version": "1.2.0",
            "grid_template_areas": null,
            "object_position": null,
            "object_fit": null,
            "grid_auto_columns": null,
            "margin": null,
            "display": null,
            "left": null
          }
        },
        "44e975a6c02f4c789cfcc427a5a0a4fb": {
          "model_module": "@jupyter-widgets/controls",
          "model_name": "HBoxModel",
          "state": {
            "_view_name": "HBoxView",
            "_dom_classes": [],
            "_model_name": "HBoxModel",
            "_view_module": "@jupyter-widgets/controls",
            "_model_module_version": "1.5.0",
            "_view_count": null,
            "_view_module_version": "1.5.0",
            "box_style": "",
            "layout": "IPY_MODEL_f550266daf334b30996d717a8710481c",
            "_model_module": "@jupyter-widgets/controls",
            "children": [
              "IPY_MODEL_47bb2730509b484a9fba836e57d9c653",
              "IPY_MODEL_41b95eb642c548b5a8213b212a6f5d53"
            ]
          }
        },
        "f550266daf334b30996d717a8710481c": {
          "model_module": "@jupyter-widgets/base",
          "model_name": "LayoutModel",
          "state": {
            "_view_name": "LayoutView",
            "grid_template_rows": null,
            "right": null,
            "justify_content": null,
            "_view_module": "@jupyter-widgets/base",
            "overflow": null,
            "_model_module_version": "1.2.0",
            "_view_count": null,
            "flex_flow": null,
            "width": null,
            "min_width": null,
            "border": null,
            "align_items": null,
            "bottom": null,
            "_model_module": "@jupyter-widgets/base",
            "top": null,
            "grid_column": null,
            "overflow_y": null,
            "overflow_x": null,
            "grid_auto_flow": null,
            "grid_area": null,
            "grid_template_columns": null,
            "flex": null,
            "_model_name": "LayoutModel",
            "justify_items": null,
            "grid_row": null,
            "max_height": null,
            "align_content": null,
            "visibility": null,
            "align_self": null,
            "height": null,
            "min_height": null,
            "padding": null,
            "grid_auto_rows": null,
            "grid_gap": null,
            "max_width": null,
            "order": null,
            "_view_module_version": "1.2.0",
            "grid_template_areas": null,
            "object_position": null,
            "object_fit": null,
            "grid_auto_columns": null,
            "margin": null,
            "display": null,
            "left": null
          }
        },
        "47bb2730509b484a9fba836e57d9c653": {
          "model_module": "@jupyter-widgets/controls",
          "model_name": "FloatProgressModel",
          "state": {
            "_view_name": "ProgressView",
            "style": "IPY_MODEL_1e02c32379a14dbf83eac09d65ef15dc",
            "_dom_classes": [],
            "description": "  0%",
            "_model_name": "FloatProgressModel",
            "bar_style": "danger",
            "max": 1821,
            "_view_module": "@jupyter-widgets/controls",
            "_model_module_version": "1.5.0",
            "value": 0,
            "_view_count": null,
            "_view_module_version": "1.5.0",
            "orientation": "horizontal",
            "min": 0,
            "description_tooltip": null,
            "_model_module": "@jupyter-widgets/controls",
            "layout": "IPY_MODEL_2852a032451f4051afe24abdc4f012d9"
          }
        },
        "41b95eb642c548b5a8213b212a6f5d53": {
          "model_module": "@jupyter-widgets/controls",
          "model_name": "HTMLModel",
          "state": {
            "_view_name": "HTMLView",
            "style": "IPY_MODEL_3af2010578f34796a544e68285be78cc",
            "_dom_classes": [],
            "description": "",
            "_model_name": "HTMLModel",
            "placeholder": "​",
            "_view_module": "@jupyter-widgets/controls",
            "_model_module_version": "1.5.0",
            "value": " 0/1821 [00:00&lt;?, ? examples/s]",
            "_view_count": null,
            "_view_module_version": "1.5.0",
            "description_tooltip": null,
            "_model_module": "@jupyter-widgets/controls",
            "layout": "IPY_MODEL_c9e53e5d39c545d2893c5088e9e621bc"
          }
        },
        "1e02c32379a14dbf83eac09d65ef15dc": {
          "model_module": "@jupyter-widgets/controls",
          "model_name": "ProgressStyleModel",
          "state": {
            "_view_name": "StyleView",
            "_model_name": "ProgressStyleModel",
            "description_width": "initial",
            "_view_module": "@jupyter-widgets/base",
            "_model_module_version": "1.5.0",
            "_view_count": null,
            "_view_module_version": "1.2.0",
            "bar_color": null,
            "_model_module": "@jupyter-widgets/controls"
          }
        },
        "2852a032451f4051afe24abdc4f012d9": {
          "model_module": "@jupyter-widgets/base",
          "model_name": "LayoutModel",
          "state": {
            "_view_name": "LayoutView",
            "grid_template_rows": null,
            "right": null,
            "justify_content": null,
            "_view_module": "@jupyter-widgets/base",
            "overflow": null,
            "_model_module_version": "1.2.0",
            "_view_count": null,
            "flex_flow": null,
            "width": null,
            "min_width": null,
            "border": null,
            "align_items": null,
            "bottom": null,
            "_model_module": "@jupyter-widgets/base",
            "top": null,
            "grid_column": null,
            "overflow_y": null,
            "overflow_x": null,
            "grid_auto_flow": null,
            "grid_area": null,
            "grid_template_columns": null,
            "flex": null,
            "_model_name": "LayoutModel",
            "justify_items": null,
            "grid_row": null,
            "max_height": null,
            "align_content": null,
            "visibility": null,
            "align_self": null,
            "height": null,
            "min_height": null,
            "padding": null,
            "grid_auto_rows": null,
            "grid_gap": null,
            "max_width": null,
            "order": null,
            "_view_module_version": "1.2.0",
            "grid_template_areas": null,
            "object_position": null,
            "object_fit": null,
            "grid_auto_columns": null,
            "margin": null,
            "display": null,
            "left": null
          }
        },
        "3af2010578f34796a544e68285be78cc": {
          "model_module": "@jupyter-widgets/controls",
          "model_name": "DescriptionStyleModel",
          "state": {
            "_view_name": "StyleView",
            "_model_name": "DescriptionStyleModel",
            "description_width": "",
            "_view_module": "@jupyter-widgets/base",
            "_model_module_version": "1.5.0",
            "_view_count": null,
            "_view_module_version": "1.2.0",
            "_model_module": "@jupyter-widgets/controls"
          }
        },
        "c9e53e5d39c545d2893c5088e9e621bc": {
          "model_module": "@jupyter-widgets/base",
          "model_name": "LayoutModel",
          "state": {
            "_view_name": "LayoutView",
            "grid_template_rows": null,
            "right": null,
            "justify_content": null,
            "_view_module": "@jupyter-widgets/base",
            "overflow": null,
            "_model_module_version": "1.2.0",
            "_view_count": null,
            "flex_flow": null,
            "width": null,
            "min_width": null,
            "border": null,
            "align_items": null,
            "bottom": null,
            "_model_module": "@jupyter-widgets/base",
            "top": null,
            "grid_column": null,
            "overflow_y": null,
            "overflow_x": null,
            "grid_auto_flow": null,
            "grid_area": null,
            "grid_template_columns": null,
            "flex": null,
            "_model_name": "LayoutModel",
            "justify_items": null,
            "grid_row": null,
            "max_height": null,
            "align_content": null,
            "visibility": null,
            "align_self": null,
            "height": null,
            "min_height": null,
            "padding": null,
            "grid_auto_rows": null,
            "grid_gap": null,
            "max_width": null,
            "order": null,
            "_view_module_version": "1.2.0",
            "grid_template_areas": null,
            "object_position": null,
            "object_fit": null,
            "grid_auto_columns": null,
            "margin": null,
            "display": null,
            "left": null
          }
        }
      }
    }
  },
  "cells": [
    {
      "cell_type": "markdown",
      "metadata": {
        "id": "view-in-github",
        "colab_type": "text"
      },
      "source": [
        "<a href=\"https://colab.research.google.com/github/AmirRazaMBA/Tensorflow-in-Practice-Specialization/blob/main/3.%20Natural%20Language%20Processing%20in%20TensorFlow/Codes/Exam%20Prep/RNN/02_nlp_multiple_models_for_predicting_sentiment.ipynb\" target=\"_parent\"><img src=\"https://colab.research.google.com/assets/colab-badge.svg\" alt=\"Open In Colab\"/></a>"
      ]
    },
    {
      "cell_type": "markdown",
      "metadata": {
        "id": "hAclqSm3OOml"
      },
      "source": [
        "# Using LSTMs, CNNs, GRUs with a larger dataset"
      ]
    },
    {
      "cell_type": "markdown",
      "metadata": {
        "id": "fentd-GnIj-j"
      },
      "source": [
        "In this colab, you use different kinds of layers to see how they affect the model.\n",
        "\n",
        "You will use the glue/sst2 dataset, which is available through tensorflow_datasets. \n",
        "\n",
        "The General Language Understanding Evaluation (GLUE) benchmark (https://gluebenchmark.com/) is a collection of resources for training, evaluating, and analyzing natural language understanding systems.\n",
        "\n",
        "These resources include the Stanford Sentiment Treebank (SST) dataset that consists of sentences from movie reviews and human annotations of their sentiment. This colab uses version 2 of the SST dataset.\n",
        "\n",
        "The splits are:\n",
        "\n",
        "*   train\t67,349\n",
        "*   validation\t872\n",
        "\n",
        "\n",
        "and the column headings are:\n",
        "\n",
        "*   sentence\n",
        "*   label\n",
        "\n",
        "\n",
        "For more information about the dataset, see [https://www.tensorflow.org/datasets/catalog/glue#gluesst2](https://www.tensorflow.org/datasets/catalog/glue#gluesst2)"
      ]
    },
    {
      "cell_type": "code",
      "metadata": {
        "id": "L62G7LTwNzoD"
      },
      "source": [
        "import tensorflow as tf\n",
        "import tensorflow_datasets as tfds\n",
        "\n",
        "import numpy as np"
      ],
      "execution_count": 1,
      "outputs": []
    },
    {
      "cell_type": "markdown",
      "metadata": {
        "id": "o2P6xdtIJMyc"
      },
      "source": [
        "# Get the dataset\n"
      ]
    },
    {
      "cell_type": "code",
      "metadata": {
        "id": "nCOtiRJZbxCH",
        "outputId": "6aea1c80-5378-4915-e1eb-3d9215a31ced",
        "colab": {
          "base_uri": "https://localhost:8080/",
          "height": 531,
          "referenced_widgets": [
            "358af2523e6e4dc7a0ab2c3966d2002c",
            "2960cd1117584ad4b55da2a9b3a008d8",
            "394e6d84754f476b8521a84039fa5bc5",
            "d66c73ca794b449098463c20801673b0",
            "4af8c19475b14150bc25892cd6f77364",
            "6ecfe5559b594a6188c06c38ea5aa8d4",
            "612c3eb1ef914f30bee6f7a6d9ed1fc5",
            "104e13538fef4f668dfd461ebe1ca656",
            "73276ff89e9d47c390ff44cfc7f7fafd",
            "7a4da14edbfd47f7a127481a1dea4b52",
            "00e787eb840e41799fa9bef5a5481e73",
            "ff16a5e60e36463ba6c2b22d4b453466",
            "d8c53bc6e1e74ab482207fa8d7ea642a",
            "ebbabd10a0a546ed99690143c2b7dd46",
            "4891c2aa32bf48adb616b09abc8a0dbe",
            "fda1ca7763494f77a9b391852b47e154",
            "075ac093bac44c9697c46a33de6fc5f0",
            "9446a8e5607e4ff39210bccd7bd42b45",
            "f82befc7af1a45feb68217533fd8713e",
            "e6331375ab344b009996305dba26e0f7",
            "72340411bc6943d990eba403d47bb450",
            "6221f5a173784bd59cd7c66b4ce399a2",
            "03e401562dac45d9a3205f2cb9361d1d",
            "6c00d3932d544044b8b5c7c0378db49e",
            "fa67b7ce62d64a248268620d5f78cb47",
            "214982ece65c472bb07d096365866c70",
            "b9889515647f4439ae5801c468ddd234",
            "55787beca8994aa5b4b8c4dd444f45d9",
            "fef57764b0dc4a2e9583a6e67472f5a4",
            "41fa4c8682cf42eb809d103422ff7829",
            "b9ce18a81b7b4f7283cf44a649fe0d2a",
            "8777e47c862943a5936b791ed7bca37d",
            "a1ccd8e0c047472f8d7e5ac727353453",
            "6e88f93a6622466ebe3d4c7dd0b8a361",
            "0ac152193a974944a84182273fe02a64",
            "9c8dd1bdfd4d4c2582f09e3a2732a850",
            "5da7b7cf6e8644aa9fca4fbfd85519fe",
            "3ebe15548c1a4549aa514bde51d35ff8",
            "4729010322c54d60af486a9969b1e969",
            "20ad963537b8440e992401af34b1dbd4",
            "3e0c0f1951ce4517920abb0a9eb2e836",
            "5f9d8a06fbb246bc91a5fb4a7bab560d",
            "858a471c8848492d8f9c6d1afcc63a39",
            "9c32f0cad5c24fa2ada4b7c1873d8766",
            "df5d55d6350842efb9acdedff561ed7e",
            "a9ef6eb0f2d54dee9d14ad2b12471b46",
            "090af2b413854cea91823a027afd6893",
            "c65655921d4949db904e4b5be1184019",
            "ca32824a661947059b8faf55f10e6b10",
            "a696a7b16e6247d5b5cebc8f9ea41e3a",
            "9e22e4e4016b40bf855d80e0c9c5446f",
            "d6cb51bede6643f1b52bbe5107972a5b",
            "c1a2e5692b1a492385949f1dad4fc637",
            "4df77a1dcf3c4218a4ed1ffec256778f",
            "b650c0620ed04a4b939e18c6021b0b5a",
            "f8084f22f29648d986f7385c290caa6b",
            "afb7ba453829410e85b6a4940a26ed8e",
            "bfcb2d4ef66d45b7aa7eb477f3921f12",
            "a23f1e7054a841f2ad6e09d997dde44d",
            "46e220c99d1b4e0080d1661b9fe7550b",
            "aff35edad80143769c4218753c9c304a",
            "1f1a87e9bb1545509c5843d36b5f0271",
            "7487ad1098a741eb8f41eba3929a15f4",
            "4a8c7e18b4e645c78dd14d48aa0647dd",
            "44e975a6c02f4c789cfcc427a5a0a4fb",
            "f550266daf334b30996d717a8710481c",
            "47bb2730509b484a9fba836e57d9c653",
            "41b95eb642c548b5a8213b212a6f5d53",
            "1e02c32379a14dbf83eac09d65ef15dc",
            "2852a032451f4051afe24abdc4f012d9",
            "3af2010578f34796a544e68285be78cc",
            "c9e53e5d39c545d2893c5088e9e621bc"
          ]
        }
      },
      "source": [
        "# Get the dataset.\n",
        "# It has 70000 items, so might take a while to download\n",
        "dataset, info = tfds.load('glue/sst2', with_info=True)\n",
        "print(info.features)\n",
        "print(info.features[\"label\"].num_classes)\n",
        "print(info.features[\"label\"].names)\n"
      ],
      "execution_count": 2,
      "outputs": [
        {
          "output_type": "stream",
          "text": [
            "\u001b[1mDownloading and preparing dataset glue/sst2/1.0.0 (download: 7.09 MiB, generated: Unknown size, total: 7.09 MiB) to /root/tensorflow_datasets/glue/sst2/1.0.0...\u001b[0m\n"
          ],
          "name": "stdout"
        },
        {
          "output_type": "display_data",
          "data": {
            "application/vnd.jupyter.widget-view+json": {
              "model_id": "358af2523e6e4dc7a0ab2c3966d2002c",
              "version_minor": 0,
              "version_major": 2
            },
            "text/plain": [
              "HBox(children=(FloatProgress(value=1.0, bar_style='info', description='Dl Completed...', max=1.0, style=Progre…"
            ]
          },
          "metadata": {
            "tags": []
          }
        },
        {
          "output_type": "display_data",
          "data": {
            "application/vnd.jupyter.widget-view+json": {
              "model_id": "73276ff89e9d47c390ff44cfc7f7fafd",
              "version_minor": 0,
              "version_major": 2
            },
            "text/plain": [
              "HBox(children=(FloatProgress(value=1.0, bar_style='info', description='Dl Size...', max=1.0, style=ProgressSty…"
            ]
          },
          "metadata": {
            "tags": []
          }
        },
        {
          "output_type": "display_data",
          "data": {
            "application/vnd.jupyter.widget-view+json": {
              "model_id": "075ac093bac44c9697c46a33de6fc5f0",
              "version_minor": 0,
              "version_major": 2
            },
            "text/plain": [
              "HBox(children=(FloatProgress(value=1.0, bar_style='info', description='Extraction completed...', max=1.0, styl…"
            ]
          },
          "metadata": {
            "tags": []
          }
        },
        {
          "output_type": "stream",
          "text": [
            "\n",
            "\n",
            "\n",
            "\n",
            "\n",
            "\n"
          ],
          "name": "stdout"
        },
        {
          "output_type": "display_data",
          "data": {
            "application/vnd.jupyter.widget-view+json": {
              "model_id": "fa67b7ce62d64a248268620d5f78cb47",
              "version_minor": 0,
              "version_major": 2
            },
            "text/plain": [
              "HBox(children=(FloatProgress(value=1.0, bar_style='info', max=1.0), HTML(value='')))"
            ]
          },
          "metadata": {
            "tags": []
          }
        },
        {
          "output_type": "stream",
          "text": [
            "\rShuffling and writing examples to /root/tensorflow_datasets/glue/sst2/1.0.0.incompleteJQOL0L/glue-train.tfrecord\n"
          ],
          "name": "stdout"
        },
        {
          "output_type": "display_data",
          "data": {
            "application/vnd.jupyter.widget-view+json": {
              "model_id": "a1ccd8e0c047472f8d7e5ac727353453",
              "version_minor": 0,
              "version_major": 2
            },
            "text/plain": [
              "HBox(children=(FloatProgress(value=0.0, max=67349.0), HTML(value='')))"
            ]
          },
          "metadata": {
            "tags": []
          }
        },
        {
          "output_type": "stream",
          "text": [
            "\r"
          ],
          "name": "stdout"
        },
        {
          "output_type": "display_data",
          "data": {
            "application/vnd.jupyter.widget-view+json": {
              "model_id": "3e0c0f1951ce4517920abb0a9eb2e836",
              "version_minor": 0,
              "version_major": 2
            },
            "text/plain": [
              "HBox(children=(FloatProgress(value=1.0, bar_style='info', max=1.0), HTML(value='')))"
            ]
          },
          "metadata": {
            "tags": []
          }
        },
        {
          "output_type": "stream",
          "text": [
            "\rShuffling and writing examples to /root/tensorflow_datasets/glue/sst2/1.0.0.incompleteJQOL0L/glue-validation.tfrecord\n"
          ],
          "name": "stdout"
        },
        {
          "output_type": "display_data",
          "data": {
            "application/vnd.jupyter.widget-view+json": {
              "model_id": "ca32824a661947059b8faf55f10e6b10",
              "version_minor": 0,
              "version_major": 2
            },
            "text/plain": [
              "HBox(children=(FloatProgress(value=0.0, max=872.0), HTML(value='')))"
            ]
          },
          "metadata": {
            "tags": []
          }
        },
        {
          "output_type": "stream",
          "text": [
            "\r"
          ],
          "name": "stdout"
        },
        {
          "output_type": "display_data",
          "data": {
            "application/vnd.jupyter.widget-view+json": {
              "model_id": "afb7ba453829410e85b6a4940a26ed8e",
              "version_minor": 0,
              "version_major": 2
            },
            "text/plain": [
              "HBox(children=(FloatProgress(value=1.0, bar_style='info', max=1.0), HTML(value='')))"
            ]
          },
          "metadata": {
            "tags": []
          }
        },
        {
          "output_type": "stream",
          "text": [
            "\rShuffling and writing examples to /root/tensorflow_datasets/glue/sst2/1.0.0.incompleteJQOL0L/glue-test.tfrecord\n"
          ],
          "name": "stdout"
        },
        {
          "output_type": "display_data",
          "data": {
            "application/vnd.jupyter.widget-view+json": {
              "model_id": "44e975a6c02f4c789cfcc427a5a0a4fb",
              "version_minor": 0,
              "version_major": 2
            },
            "text/plain": [
              "HBox(children=(FloatProgress(value=0.0, max=1821.0), HTML(value='')))"
            ]
          },
          "metadata": {
            "tags": []
          }
        },
        {
          "output_type": "stream",
          "text": [
            "\u001b[1mDataset glue downloaded and prepared to /root/tensorflow_datasets/glue/sst2/1.0.0. Subsequent calls will reuse this data.\u001b[0m\n",
            "\rFeaturesDict({\n",
            "    'idx': tf.int32,\n",
            "    'label': ClassLabel(shape=(), dtype=tf.int64, num_classes=2),\n",
            "    'sentence': Text(shape=(), dtype=tf.string),\n",
            "})\n",
            "2\n",
            "['negative', 'positive']\n"
          ],
          "name": "stdout"
        }
      ]
    },
    {
      "cell_type": "code",
      "metadata": {
        "id": "yBMPhIdStAe2",
        "outputId": "77611dbf-f30b-4876-dc03-612a25180e2f",
        "colab": {
          "base_uri": "https://localhost:8080/"
        }
      },
      "source": [
        "# Get the training and validation datasets\n",
        "dataset_train, dataset_validation = dataset['train'], dataset['validation']\n",
        "dataset_train"
      ],
      "execution_count": 3,
      "outputs": [
        {
          "output_type": "execute_result",
          "data": {
            "text/plain": [
              "<PrefetchDataset shapes: {idx: (), label: (), sentence: ()}, types: {idx: tf.int32, label: tf.int64, sentence: tf.string}>"
            ]
          },
          "metadata": {
            "tags": []
          },
          "execution_count": 3
        }
      ]
    },
    {
      "cell_type": "code",
      "metadata": {
        "id": "jbZ-faiNWu1U",
        "outputId": "f4ce756b-7655-4d25-a6d1-ec67063603d7",
        "colab": {
          "base_uri": "https://localhost:8080/"
        }
      },
      "source": [
        "# Print some of the entries\n",
        "for example in dataset_train.take(2):  \n",
        "  review, label = example[\"sentence\"], example[\"label\"]\n",
        "  print(\"Review:\", review)\n",
        "  print(\"Label: %d \\n\" % label.numpy())"
      ],
      "execution_count": 4,
      "outputs": [
        {
          "output_type": "stream",
          "text": [
            "Review: tf.Tensor(b'for the uninitiated plays better on video with the sound ', shape=(), dtype=string)\n",
            "Label: 0 \n",
            "\n",
            "Review: tf.Tensor(b'like a giant commercial for universal studios , where much of the action takes place ', shape=(), dtype=string)\n",
            "Label: 0 \n",
            "\n"
          ],
          "name": "stdout"
        }
      ]
    },
    {
      "cell_type": "code",
      "metadata": {
        "id": "_fVZItTeZSbL",
        "outputId": "39792f14-0dc7-4fd2-a9cd-f458aa92ef20",
        "colab": {
          "base_uri": "https://localhost:8080/"
        }
      },
      "source": [
        "# Get the sentences and the labels\n",
        "# for both the training and the validation sets\n",
        "training_reviews = []\n",
        "training_labels = []\n",
        " \n",
        "validation_reviews = []\n",
        "validation_labels = []\n",
        "\n",
        "# The dataset has 67,000 training entries, but that's a lot to process here!\n",
        "\n",
        "# If you want to take the entire dataset: WARNING: takes longer!!\n",
        "# for item in dataset_train.take(-1):\n",
        "\n",
        "# Take 10,000 reviews\n",
        "for item in dataset_train.take(10000):\n",
        "  review, label = item[\"sentence\"], item[\"label\"]\n",
        "  training_reviews.append(str(review.numpy()))\n",
        "  training_labels.append(label.numpy())\n",
        "\n",
        "print (\"\\nNumber of training reviews is: \", len(training_reviews))\n",
        "\n",
        "# print some of the reviews and labels\n",
        "for i in range(0, 2):\n",
        "  print (training_reviews[i])\n",
        "  print (training_labels[i])\n",
        "\n",
        "# Get the validation data\n",
        "# there's only about 800 items, so take them all\n",
        "for item in dataset_validation.take(-1):  \n",
        "  review, label = item[\"sentence\"], item[\"label\"]\n",
        "  validation_reviews.append(str(review.numpy()))\n",
        "  validation_labels.append(label.numpy())\n",
        "\n",
        "print (\"\\nNumber of validation reviews is: \", len(validation_reviews))\n",
        "\n",
        "# Print some of the validation reviews and labels\n",
        "for i in range(0, 2):\n",
        "  print (validation_reviews[i])\n",
        "  print (validation_labels[i])\n"
      ],
      "execution_count": 5,
      "outputs": [
        {
          "output_type": "stream",
          "text": [
            "\n",
            "Number of training reviews is:  10000\n",
            "b'for the uninitiated plays better on video with the sound '\n",
            "0\n",
            "b'like a giant commercial for universal studios , where much of the action takes place '\n",
            "0\n",
            "\n",
            "Number of validation reviews is:  872\n",
            "b'a valueless kiddie paean to pro basketball underwritten by the nba . '\n",
            "0\n",
            "b\"featuring a dangerously seductive performance from the great daniel auteuil , `` sade '' covers the same period as kaufmann 's `` quills '' with more unsettlingly realistic results . \"\n",
            "1\n"
          ],
          "name": "stdout"
        }
      ]
    },
    {
      "cell_type": "markdown",
      "metadata": {
        "id": "BY4ZoptJO55o"
      },
      "source": [
        "# Tokenize the words and sequence the sentences\n"
      ]
    },
    {
      "cell_type": "code",
      "metadata": {
        "id": "0TWLvXA1Oa_W"
      },
      "source": [
        "# There's a total of 21224 words in the reviews\n",
        "# but many of them are irrelevant like with, it, of, on.\n",
        "# If we take a subset of the training data, then the vocab\n",
        "# will be smaller.\n",
        "\n",
        "# A reasonable review might have about 50 words or so,\n",
        "# so we can set max_length to 50 (but feel free to change it as you like)\n",
        "\n",
        "vocab_size = 4000\n",
        "embedding_dim = 16\n",
        "max_length = 50\n",
        "trunc_type='post'\n",
        "pad_type='post'\n",
        "oov_tok = \"<OOV>\"\n",
        "\n",
        "from tensorflow.keras.preprocessing.text import Tokenizer\n",
        "from tensorflow.keras.preprocessing.sequence import pad_sequences\n",
        "\n",
        "tokenizer = Tokenizer(num_words = vocab_size, oov_token=oov_tok)\n",
        "tokenizer.fit_on_texts(training_reviews)\n",
        "word_index = tokenizer.word_index\n"
      ],
      "execution_count": 7,
      "outputs": []
    },
    {
      "cell_type": "markdown",
      "metadata": {
        "id": "JV-Ff5N0ryWv"
      },
      "source": [
        "# Pad the sequences"
      ]
    },
    {
      "cell_type": "code",
      "metadata": {
        "id": "B-3scEznH2Va"
      },
      "source": [
        "# Pad the sequences so that they are all the same length\n",
        "training_sequences = tokenizer.texts_to_sequences(training_reviews)\n",
        "training_padded = pad_sequences(training_sequences,maxlen=max_length, \n",
        "                                truncating=trunc_type, padding=pad_type)\n",
        "\n",
        "validation_sequences = tokenizer.texts_to_sequences(validation_reviews)\n",
        "validation_padded = pad_sequences(validation_sequences,maxlen=max_length)\n",
        "\n",
        "training_labels_final = np.array(training_labels)\n",
        "validation_labels_final = np.array(validation_labels)"
      ],
      "execution_count": 8,
      "outputs": []
    },
    {
      "cell_type": "markdown",
      "metadata": {
        "id": "PahZm7YEQ8EI"
      },
      "source": [
        "# Create the model using an Embedding"
      ]
    },
    {
      "cell_type": "code",
      "metadata": {
        "id": "c_nyQeI0RCCv",
        "outputId": "3bb3e4b8-50b9-4624-ea54-ad3dda86f09f",
        "colab": {
          "base_uri": "https://localhost:8080/"
        }
      },
      "source": [
        "model = tf.keras.Sequential([\n",
        "    tf.keras.layers.Embedding(vocab_size, embedding_dim, input_length=max_length),\n",
        "    tf.keras.layers.GlobalAveragePooling1D(),   # Flatten or GAP\n",
        "    tf.keras.layers.Dense(1, activation='sigmoid')\n",
        "])\n",
        "model.compile(loss='binary_crossentropy',optimizer='adam',metrics=['accuracy'])\n",
        "model.summary()"
      ],
      "execution_count": 9,
      "outputs": [
        {
          "output_type": "stream",
          "text": [
            "Model: \"sequential\"\n",
            "_________________________________________________________________\n",
            "Layer (type)                 Output Shape              Param #   \n",
            "=================================================================\n",
            "embedding (Embedding)        (None, 50, 16)            64000     \n",
            "_________________________________________________________________\n",
            "global_average_pooling1d (Gl (None, 16)                0         \n",
            "_________________________________________________________________\n",
            "dense (Dense)                (None, 1)                 17        \n",
            "=================================================================\n",
            "Total params: 64,017\n",
            "Trainable params: 64,017\n",
            "Non-trainable params: 0\n",
            "_________________________________________________________________\n"
          ],
          "name": "stdout"
        }
      ]
    },
    {
      "cell_type": "markdown",
      "metadata": {
        "id": "3WRXrx8BRO2L"
      },
      "source": [
        "# Train the model"
      ]
    },
    {
      "cell_type": "code",
      "metadata": {
        "id": "oBKyVYvxRQ_9",
        "outputId": "40e6a336-3e53-4a1f-d8e6-b9e75c4396f5",
        "colab": {
          "base_uri": "https://localhost:8080/"
        }
      },
      "source": [
        "num_epochs = 20\n",
        "history = model.fit(training_padded, training_labels_final, epochs=num_epochs, \n",
        "                    validation_data=(validation_padded, validation_labels_final))\n"
      ],
      "execution_count": 10,
      "outputs": [
        {
          "output_type": "stream",
          "text": [
            "Epoch 1/20\n",
            "313/313 [==============================] - 1s 4ms/step - loss: 0.6837 - accuracy: 0.5590 - val_loss: 0.6941 - val_accuracy: 0.5080\n",
            "Epoch 2/20\n",
            "313/313 [==============================] - 1s 3ms/step - loss: 0.6740 - accuracy: 0.5678 - val_loss: 0.6742 - val_accuracy: 0.5917\n",
            "Epoch 3/20\n",
            "313/313 [==============================] - 1s 4ms/step - loss: 0.6538 - accuracy: 0.6171 - val_loss: 0.6480 - val_accuracy: 0.6445\n",
            "Epoch 4/20\n",
            "313/313 [==============================] - 1s 3ms/step - loss: 0.6249 - accuracy: 0.6671 - val_loss: 0.6175 - val_accuracy: 0.6846\n",
            "Epoch 5/20\n",
            "313/313 [==============================] - 1s 3ms/step - loss: 0.5914 - accuracy: 0.7087 - val_loss: 0.5859 - val_accuracy: 0.7064\n",
            "Epoch 6/20\n",
            "313/313 [==============================] - 1s 4ms/step - loss: 0.5586 - accuracy: 0.7374 - val_loss: 0.5572 - val_accuracy: 0.7317\n",
            "Epoch 7/20\n",
            "313/313 [==============================] - 1s 3ms/step - loss: 0.5268 - accuracy: 0.7642 - val_loss: 0.5348 - val_accuracy: 0.7374\n",
            "Epoch 8/20\n",
            "313/313 [==============================] - 1s 3ms/step - loss: 0.4982 - accuracy: 0.7876 - val_loss: 0.5185 - val_accuracy: 0.7523\n",
            "Epoch 9/20\n",
            "313/313 [==============================] - 1s 4ms/step - loss: 0.4727 - accuracy: 0.8036 - val_loss: 0.5036 - val_accuracy: 0.7569\n",
            "Epoch 10/20\n",
            "313/313 [==============================] - 1s 3ms/step - loss: 0.4492 - accuracy: 0.8173 - val_loss: 0.4959 - val_accuracy: 0.7592\n",
            "Epoch 11/20\n",
            "313/313 [==============================] - 1s 4ms/step - loss: 0.4282 - accuracy: 0.8261 - val_loss: 0.4905 - val_accuracy: 0.7638\n",
            "Epoch 12/20\n",
            "313/313 [==============================] - 1s 3ms/step - loss: 0.4090 - accuracy: 0.8334 - val_loss: 0.4865 - val_accuracy: 0.7695\n",
            "Epoch 13/20\n",
            "313/313 [==============================] - 1s 4ms/step - loss: 0.3930 - accuracy: 0.8390 - val_loss: 0.4856 - val_accuracy: 0.7695\n",
            "Epoch 14/20\n",
            "313/313 [==============================] - 1s 3ms/step - loss: 0.3782 - accuracy: 0.8456 - val_loss: 0.4842 - val_accuracy: 0.7683\n",
            "Epoch 15/20\n",
            "313/313 [==============================] - 1s 3ms/step - loss: 0.3642 - accuracy: 0.8515 - val_loss: 0.4869 - val_accuracy: 0.7718\n",
            "Epoch 16/20\n",
            "313/313 [==============================] - 1s 4ms/step - loss: 0.3518 - accuracy: 0.8541 - val_loss: 0.4930 - val_accuracy: 0.7615\n",
            "Epoch 17/20\n",
            "313/313 [==============================] - 1s 4ms/step - loss: 0.3403 - accuracy: 0.8572 - val_loss: 0.4960 - val_accuracy: 0.7787\n",
            "Epoch 18/20\n",
            "313/313 [==============================] - 1s 3ms/step - loss: 0.3304 - accuracy: 0.8637 - val_loss: 0.5028 - val_accuracy: 0.7638\n",
            "Epoch 19/20\n",
            "313/313 [==============================] - 1s 3ms/step - loss: 0.3206 - accuracy: 0.8649 - val_loss: 0.5086 - val_accuracy: 0.7695\n",
            "Epoch 20/20\n",
            "313/313 [==============================] - 1s 3ms/step - loss: 0.3110 - accuracy: 0.8706 - val_loss: 0.5162 - val_accuracy: 0.7729\n"
          ],
          "name": "stdout"
        }
      ]
    },
    {
      "cell_type": "markdown",
      "metadata": {
        "id": "HhLPbUl2AZ0y"
      },
      "source": [
        "# Plot the accurracy and loss"
      ]
    },
    {
      "cell_type": "code",
      "metadata": {
        "id": "jzBM1PpJAYfD",
        "outputId": "0c74d1fa-426b-498f-ad27-39e9fee9cc63",
        "colab": {
          "base_uri": "https://localhost:8080/",
          "height": 541
        }
      },
      "source": [
        "import matplotlib.pyplot as plt\n",
        "\n",
        "\n",
        "def plot_graphs(history, string):\n",
        "  plt.plot(history.history[string])\n",
        "  plt.plot(history.history['val_'+string])\n",
        "  plt.xlabel(\"Epochs\")\n",
        "  plt.ylabel(string)\n",
        "  plt.legend([string, 'val_'+string])\n",
        "  plt.show()\n",
        "  \n",
        "plot_graphs(history, \"accuracy\")\n",
        "plot_graphs(history, \"loss\")"
      ],
      "execution_count": 11,
      "outputs": [
        {
          "output_type": "display_data",
          "data": {
            "image/png": "[encoded data removed]",
            "text/plain": [
              "<Figure size 432x288 with 1 Axes>"
            ]
          },
          "metadata": {
            "tags": [],
            "needs_background": "light"
          }
        },
        {
          "output_type": "display_data",
          "data": {
            "image/png": "[encoded data removed]",
            "text/plain": [
              "<Figure size 432x288 with 1 Axes>"
            ]
          },
          "metadata": {
            "tags": [],
            "needs_background": "light"
          }
        }
      ]
    },
    {
      "cell_type": "markdown",
      "metadata": {
        "id": "HEbcMCVEKToB"
      },
      "source": [
        "# Write a function to predict the sentiment of reviews"
      ]
    },
    {
      "cell_type": "code",
      "metadata": {
        "id": "K0nKY9M4xzWE"
      },
      "source": [
        "# Write some new reviews \n",
        "\n",
        "review1 = \"\"\"I loved this movie\"\"\"\n",
        "\n",
        "review2 = \"\"\"that was the worst movie I've ever seen\"\"\"\n",
        "\n",
        "review3 = \"\"\"too much violence even for a Bond film\"\"\"\n",
        "\n",
        "review4 = \"\"\"a captivating recounting of a cherished myth\"\"\"\n",
        "\n",
        "new_reviews = [review1, review2, review3, review4]\n"
      ],
      "execution_count": 12,
      "outputs": []
    },
    {
      "cell_type": "code",
      "metadata": {
        "id": "Qg-maex27KPW",
        "outputId": "054491c1-86f9-4dfc-ca0d-380362c6238d",
        "colab": {
          "base_uri": "https://localhost:8080/"
        }
      },
      "source": [
        "# Define a function to prepare the new reviews for use with a model\n",
        "# and then use the model to predict the sentiment of the new reviews           \n",
        "\n",
        "def predict_review(model, reviews):\n",
        "  # Create the sequences\n",
        "  padding_type='post'\n",
        "  sample_sequences = tokenizer.texts_to_sequences(reviews)\n",
        "  reviews_padded = pad_sequences(sample_sequences, padding=padding_type, \n",
        "                                 maxlen=max_length) \n",
        "  classes = model.predict(reviews_padded)\n",
        "  for x in range(len(reviews_padded)):\n",
        "    print(reviews[x])\n",
        "    print(classes[x])\n",
        "    print('\\n')\n",
        "\n",
        "predict_review(model, new_reviews)\n"
      ],
      "execution_count": 13,
      "outputs": [
        {
          "output_type": "stream",
          "text": [
            "I loved this movie\n",
            "[0.3807171]\n",
            "\n",
            "\n",
            "that was the worst movie I've ever seen\n",
            "[0.111787]\n",
            "\n",
            "\n",
            "too much violence even for a Bond film\n",
            "[0.03099431]\n",
            "\n",
            "\n",
            "a captivating recounting of a cherished myth\n",
            "[0.57220185]\n",
            "\n",
            "\n"
          ],
          "name": "stdout"
        }
      ]
    },
    {
      "cell_type": "markdown",
      "metadata": {
        "id": "ycJKbMq3K4iy"
      },
      "source": [
        "# Define a function to train and show the results of models with different layers"
      ]
    },
    {
      "cell_type": "code",
      "metadata": {
        "id": "PevUcINXK3gn"
      },
      "source": [
        "def fit_model_and_show_results (model, reviews):\n",
        "  model.summary()\n",
        "  history = model.fit(training_padded, training_labels_final, epochs=num_epochs, \n",
        "                      validation_data=(validation_padded, validation_labels_final))\n",
        "  plot_graphs(history, \"accuracy\")\n",
        "  plot_graphs(history, \"loss\")\n",
        "  predict_review(model, reviews)"
      ],
      "execution_count": 15,
      "outputs": []
    },
    {
      "cell_type": "markdown",
      "metadata": {
        "id": "W8jW-OLfTrDM"
      },
      "source": [
        "# Use a CNN"
      ]
    },
    {
      "cell_type": "markdown",
      "metadata": {
        "id": "VYhHdb2m9RQ5"
      },
      "source": [
        "Convolutional Layers for Text\n",
        "\n",
        "Just like you did with images, you can also use convolutional layers on text, where the convolution occurs across a sequence of words instead of across an image.\n",
        "\n",
        "To use a convolutional layer on text inputs, you can place a Conv1D layer directly after the Embedding layer:\n",
        "\n",
        "# A 1D Convolutional layer with 128 filters and 5 words per filter\n",
        "tf.keras.layers.Conv1D(128, 5, activation=’relu’)\n",
        "\n",
        "Note that you will need to use Flatten or GlobalAveragePooling1D on the output of this layer to connect to any fully-connected layers from there."
      ]
    },
    {
      "cell_type": "code",
      "metadata": {
        "id": "merAu9T3TtmQ",
        "outputId": "28d92415-e2db-4079-a562-4baa00c5d82a",
        "colab": {
          "base_uri": "https://localhost:8080/",
          "height": 1000
        }
      },
      "source": [
        "num_epochs = 30\n",
        "\n",
        "model_cnn = tf.keras.Sequential([\n",
        "    tf.keras.layers.Embedding(vocab_size, embedding_dim, input_length=max_length),\n",
        "    tf.keras.layers.Conv1D(16, 5, activation='relu'),\n",
        "    tf.keras.layers.GlobalMaxPooling1D(),\n",
        "    tf.keras.layers.Dense(1, activation='sigmoid')\n",
        "])\n",
        "\n",
        "# Default learning rate for the Adam optimizer is 0.001\n",
        "# Let's slow down the learning rate by 10.\n",
        "learning_rate = 0.0001\n",
        "model_cnn.compile(loss='binary_crossentropy',\n",
        "                  optimizer=tf.keras.optimizers.Adam(learning_rate), \n",
        "                  metrics=['accuracy'])\n",
        "\n",
        "fit_model_and_show_results(model_cnn, new_reviews)"
      ],
      "execution_count": 16,
      "outputs": [
        {
          "output_type": "stream",
          "text": [
            "Model: \"sequential_1\"\n",
            "_________________________________________________________________\n",
            "Layer (type)                 Output Shape              Param #   \n",
            "=================================================================\n",
            "embedding_1 (Embedding)      (None, 50, 16)            64000     \n",
            "_________________________________________________________________\n",
            "conv1d (Conv1D)              (None, 46, 16)            1296      \n",
            "_________________________________________________________________\n",
            "global_max_pooling1d (Global (None, 16)                0         \n",
            "_________________________________________________________________\n",
            "dense_1 (Dense)              (None, 1)                 17        \n",
            "=================================================================\n",
            "Total params: 65,313\n",
            "Trainable params: 65,313\n",
            "Non-trainable params: 0\n",
            "_________________________________________________________________\n",
            "Epoch 1/30\n",
            "313/313 [==============================] - 1s 4ms/step - loss: 0.6882 - accuracy: 0.5572 - val_loss: 0.6920 - val_accuracy: 0.5092\n",
            "Epoch 2/30\n",
            "313/313 [==============================] - 1s 4ms/step - loss: 0.6821 - accuracy: 0.5590 - val_loss: 0.6913 - val_accuracy: 0.5092\n",
            "Epoch 3/30\n",
            "313/313 [==============================] - 1s 4ms/step - loss: 0.6778 - accuracy: 0.5590 - val_loss: 0.6892 - val_accuracy: 0.5115\n",
            "Epoch 4/30\n",
            "313/313 [==============================] - 1s 5ms/step - loss: 0.6723 - accuracy: 0.5647 - val_loss: 0.6852 - val_accuracy: 0.5459\n",
            "Epoch 5/30\n",
            "313/313 [==============================] - 1s 4ms/step - loss: 0.6640 - accuracy: 0.5885 - val_loss: 0.6785 - val_accuracy: 0.5963\n",
            "Epoch 6/30\n",
            "313/313 [==============================] - 1s 4ms/step - loss: 0.6514 - accuracy: 0.6159 - val_loss: 0.6683 - val_accuracy: 0.6686\n",
            "Epoch 7/30\n",
            "313/313 [==============================] - 1s 4ms/step - loss: 0.6334 - accuracy: 0.6591 - val_loss: 0.6543 - val_accuracy: 0.7064\n",
            "Epoch 8/30\n",
            "313/313 [==============================] - 1s 4ms/step - loss: 0.6099 - accuracy: 0.7025 - val_loss: 0.6377 - val_accuracy: 0.7225\n",
            "Epoch 9/30\n",
            "313/313 [==============================] - 1s 4ms/step - loss: 0.5819 - accuracy: 0.7463 - val_loss: 0.6192 - val_accuracy: 0.7225\n",
            "Epoch 10/30\n",
            "313/313 [==============================] - 1s 4ms/step - loss: 0.5511 - accuracy: 0.7795 - val_loss: 0.5988 - val_accuracy: 0.7271\n",
            "Epoch 11/30\n",
            "313/313 [==============================] - 1s 4ms/step - loss: 0.5194 - accuracy: 0.7972 - val_loss: 0.5791 - val_accuracy: 0.7351\n",
            "Epoch 12/30\n",
            "313/313 [==============================] - 1s 4ms/step - loss: 0.4884 - accuracy: 0.8132 - val_loss: 0.5617 - val_accuracy: 0.7431\n",
            "Epoch 13/30\n",
            "313/313 [==============================] - 1s 4ms/step - loss: 0.4590 - accuracy: 0.8241 - val_loss: 0.5449 - val_accuracy: 0.7466\n",
            "Epoch 14/30\n",
            "313/313 [==============================] - 1s 4ms/step - loss: 0.4318 - accuracy: 0.8327 - val_loss: 0.5310 - val_accuracy: 0.7489\n",
            "Epoch 15/30\n",
            "313/313 [==============================] - 1s 4ms/step - loss: 0.4074 - accuracy: 0.8397 - val_loss: 0.5195 - val_accuracy: 0.7546\n",
            "Epoch 16/30\n",
            "313/313 [==============================] - 1s 4ms/step - loss: 0.3852 - accuracy: 0.8505 - val_loss: 0.5071 - val_accuracy: 0.7661\n",
            "Epoch 17/30\n",
            "313/313 [==============================] - 1s 4ms/step - loss: 0.3655 - accuracy: 0.8573 - val_loss: 0.4995 - val_accuracy: 0.7615\n",
            "Epoch 18/30\n",
            "313/313 [==============================] - 1s 4ms/step - loss: 0.3476 - accuracy: 0.8616 - val_loss: 0.4937 - val_accuracy: 0.7649\n",
            "Epoch 19/30\n",
            "313/313 [==============================] - 1s 4ms/step - loss: 0.3315 - accuracy: 0.8677 - val_loss: 0.4902 - val_accuracy: 0.7661\n",
            "Epoch 20/30\n",
            "313/313 [==============================] - 1s 4ms/step - loss: 0.3170 - accuracy: 0.8724 - val_loss: 0.4883 - val_accuracy: 0.7741\n",
            "Epoch 21/30\n",
            "313/313 [==============================] - 1s 4ms/step - loss: 0.3038 - accuracy: 0.8780 - val_loss: 0.4880 - val_accuracy: 0.7764\n",
            "Epoch 22/30\n",
            "313/313 [==============================] - 1s 4ms/step - loss: 0.2917 - accuracy: 0.8812 - val_loss: 0.4894 - val_accuracy: 0.7741\n",
            "Epoch 23/30\n",
            "313/313 [==============================] - 1s 4ms/step - loss: 0.2806 - accuracy: 0.8861 - val_loss: 0.4904 - val_accuracy: 0.7752\n",
            "Epoch 24/30\n",
            "313/313 [==============================] - 1s 4ms/step - loss: 0.2704 - accuracy: 0.8896 - val_loss: 0.4938 - val_accuracy: 0.7718\n",
            "Epoch 25/30\n",
            "313/313 [==============================] - 1s 4ms/step - loss: 0.2610 - accuracy: 0.8923 - val_loss: 0.4979 - val_accuracy: 0.7706\n",
            "Epoch 26/30\n",
            "313/313 [==============================] - 1s 4ms/step - loss: 0.2523 - accuracy: 0.8943 - val_loss: 0.5029 - val_accuracy: 0.7706\n",
            "Epoch 27/30\n",
            "313/313 [==============================] - 1s 4ms/step - loss: 0.2442 - accuracy: 0.8972 - val_loss: 0.5095 - val_accuracy: 0.7695\n",
            "Epoch 28/30\n",
            "313/313 [==============================] - 1s 4ms/step - loss: 0.2365 - accuracy: 0.8994 - val_loss: 0.5150 - val_accuracy: 0.7718\n",
            "Epoch 29/30\n",
            "313/313 [==============================] - 1s 4ms/step - loss: 0.2294 - accuracy: 0.9005 - val_loss: 0.5236 - val_accuracy: 0.7718\n",
            "Epoch 30/30\n",
            "313/313 [==============================] - 1s 4ms/step - loss: 0.2229 - accuracy: 0.9034 - val_loss: 0.5314 - val_accuracy: 0.7683\n"
          ],
          "name": "stdout"
        },
        {
          "output_type": "display_data",
          "data": {
            "image/png": "[encoded data removed]",
            "text/plain": [
              "<Figure size 432x288 with 1 Axes>"
            ]
          },
          "metadata": {
            "tags": [],
            "needs_background": "light"
          }
        },
        {
          "output_type": "display_data",
          "data": {
            "image/png": "[encoded data removed]",
            "text/plain": [
              "<Figure size 432x288 with 1 Axes>"
            ]
          },
          "metadata": {
            "tags": [],
            "needs_background": "light"
          }
        },
        {
          "output_type": "stream",
          "text": [
            "I loved this movie\n",
            "[0.89378136]\n",
            "\n",
            "\n",
            "that was the worst movie I've ever seen\n",
            "[0.04757899]\n",
            "\n",
            "\n",
            "too much violence even for a Bond film\n",
            "[0.00461861]\n",
            "\n",
            "\n",
            "a captivating recounting of a cherished myth\n",
            "[0.7117321]\n",
            "\n",
            "\n"
          ],
          "name": "stdout"
        }
      ]
    },
    {
      "cell_type": "markdown",
      "metadata": {
        "id": "tXnoq0zITmSM"
      },
      "source": [
        "# Use a GRU"
      ]
    },
    {
      "cell_type": "markdown",
      "metadata": {
        "id": "M2MVyj9E9Wq_"
      },
      "source": [
        "GRUs\n",
        "\n",
        "Gated Recurrent Units, or GRUs, have “update” and “reset” gates. These gates decide what to keep and what to throw away. They do not have a “cell state” like LSTMs do.\n",
        "\n",
        "The code for these is very similar to an LSTM, where the GRU layer is wrapped in a Bidirectional layer.\n",
        "\n",
        "# A bidirectional GRU layer with 32 nodes\n",
        "tf.keras.layers.Bidirectional(tf.keras.layers.GRU(32))\n"
      ]
    },
    {
      "cell_type": "code",
      "metadata": {
        "id": "6jP6KAzZTpQ6",
        "outputId": "f029acd4-bb91-426e-a28d-790667024367",
        "colab": {
          "base_uri": "https://localhost:8080/",
          "height": 1000
        }
      },
      "source": [
        "num_epochs = 30\n",
        "\n",
        "model_gru = tf.keras.Sequential([\n",
        "    tf.keras.layers.Embedding(vocab_size, embedding_dim, input_length=max_length),\n",
        "    tf.keras.layers.Bidirectional(tf.keras.layers.GRU(32)),\n",
        "    tf.keras.layers.Dense(1, activation='sigmoid')\n",
        "])\n",
        "\n",
        "learning_rate = 0.00003 # slower than the default learning rate\n",
        "model_gru.compile(loss='binary_crossentropy',\n",
        "                  optimizer=tf.keras.optimizers.Adam(learning_rate),\n",
        "                  metrics=['accuracy'])\n",
        "\n",
        "fit_model_and_show_results(model_gru, new_reviews)"
      ],
      "execution_count": 17,
      "outputs": [
        {
          "output_type": "stream",
          "text": [
            "Model: \"sequential_2\"\n",
            "_________________________________________________________________\n",
            "Layer (type)                 Output Shape              Param #   \n",
            "=================================================================\n",
            "embedding_2 (Embedding)      (None, 50, 16)            64000     \n",
            "_________________________________________________________________\n",
            "bidirectional (Bidirectional (None, 64)                9600      \n",
            "_________________________________________________________________\n",
            "dense_2 (Dense)              (None, 1)                 65        \n",
            "=================================================================\n",
            "Total params: 73,665\n",
            "Trainable params: 73,665\n",
            "Non-trainable params: 0\n",
            "_________________________________________________________________\n",
            "Epoch 1/30\n",
            "313/313 [==============================] - 4s 12ms/step - loss: 0.6908 - accuracy: 0.5472 - val_loss: 0.6927 - val_accuracy: 0.5092\n",
            "Epoch 2/30\n",
            "313/313 [==============================] - 3s 9ms/step - loss: 0.6872 - accuracy: 0.5590 - val_loss: 0.6932 - val_accuracy: 0.5092\n",
            "Epoch 3/30\n",
            "313/313 [==============================] - 3s 9ms/step - loss: 0.6856 - accuracy: 0.5590 - val_loss: 0.6937 - val_accuracy: 0.5092\n",
            "Epoch 4/30\n",
            "313/313 [==============================] - 3s 9ms/step - loss: 0.6847 - accuracy: 0.5590 - val_loss: 0.6940 - val_accuracy: 0.5092\n",
            "Epoch 5/30\n",
            "313/313 [==============================] - 3s 9ms/step - loss: 0.6838 - accuracy: 0.5590 - val_loss: 0.6940 - val_accuracy: 0.5092\n",
            "Epoch 6/30\n",
            "313/313 [==============================] - 3s 9ms/step - loss: 0.6826 - accuracy: 0.5590 - val_loss: 0.6941 - val_accuracy: 0.5092\n",
            "Epoch 7/30\n",
            "313/313 [==============================] - 3s 9ms/step - loss: 0.6808 - accuracy: 0.5590 - val_loss: 0.6940 - val_accuracy: 0.5092\n",
            "Epoch 8/30\n",
            "313/313 [==============================] - 3s 9ms/step - loss: 0.6780 - accuracy: 0.5590 - val_loss: 0.6940 - val_accuracy: 0.5092\n",
            "Epoch 9/30\n",
            "313/313 [==============================] - 3s 9ms/step - loss: 0.6736 - accuracy: 0.5590 - val_loss: 0.6952 - val_accuracy: 0.5092\n",
            "Epoch 10/30\n",
            "313/313 [==============================] - 3s 9ms/step - loss: 0.6654 - accuracy: 0.5619 - val_loss: 0.6973 - val_accuracy: 0.5092\n",
            "Epoch 11/30\n",
            "313/313 [==============================] - 3s 9ms/step - loss: 0.6480 - accuracy: 0.5843 - val_loss: 0.7013 - val_accuracy: 0.5092\n",
            "Epoch 12/30\n",
            "313/313 [==============================] - 3s 9ms/step - loss: 0.6155 - accuracy: 0.6276 - val_loss: 0.6488 - val_accuracy: 0.5115\n",
            "Epoch 13/30\n",
            "313/313 [==============================] - 3s 9ms/step - loss: 0.5860 - accuracy: 0.6715 - val_loss: 0.6316 - val_accuracy: 0.5321\n",
            "Epoch 14/30\n",
            "313/313 [==============================] - 3s 9ms/step - loss: 0.5670 - accuracy: 0.7033 - val_loss: 0.6281 - val_accuracy: 0.5447\n",
            "Epoch 15/30\n",
            "313/313 [==============================] - 3s 9ms/step - loss: 0.5490 - accuracy: 0.7219 - val_loss: 0.6296 - val_accuracy: 0.5745\n",
            "Epoch 16/30\n",
            "313/313 [==============================] - 3s 9ms/step - loss: 0.5338 - accuracy: 0.7361 - val_loss: 0.6155 - val_accuracy: 0.6835\n",
            "Epoch 17/30\n",
            "313/313 [==============================] - 3s 9ms/step - loss: 0.5167 - accuracy: 0.7478 - val_loss: 0.6061 - val_accuracy: 0.7122\n",
            "Epoch 18/30\n",
            "313/313 [==============================] - 3s 9ms/step - loss: 0.5021 - accuracy: 0.7661 - val_loss: 0.5959 - val_accuracy: 0.7328\n",
            "Epoch 19/30\n",
            "313/313 [==============================] - 3s 9ms/step - loss: 0.4847 - accuracy: 0.7780 - val_loss: 0.5802 - val_accuracy: 0.7190\n",
            "Epoch 20/30\n",
            "313/313 [==============================] - 3s 9ms/step - loss: 0.4739 - accuracy: 0.7809 - val_loss: 0.5774 - val_accuracy: 0.7305\n",
            "Epoch 21/30\n",
            "313/313 [==============================] - 3s 9ms/step - loss: 0.4611 - accuracy: 0.7903 - val_loss: 0.5730 - val_accuracy: 0.7362\n",
            "Epoch 22/30\n",
            "313/313 [==============================] - 3s 9ms/step - loss: 0.4524 - accuracy: 0.7947 - val_loss: 0.5756 - val_accuracy: 0.7443\n",
            "Epoch 23/30\n",
            "313/313 [==============================] - 3s 9ms/step - loss: 0.4425 - accuracy: 0.8047 - val_loss: 0.5723 - val_accuracy: 0.7431\n",
            "Epoch 24/30\n",
            "313/313 [==============================] - 3s 9ms/step - loss: 0.4382 - accuracy: 0.8029 - val_loss: 0.5740 - val_accuracy: 0.7569\n",
            "Epoch 25/30\n",
            "313/313 [==============================] - 3s 10ms/step - loss: 0.4274 - accuracy: 0.8107 - val_loss: 0.5740 - val_accuracy: 0.7603\n",
            "Epoch 26/30\n",
            "313/313 [==============================] - 3s 9ms/step - loss: 0.4210 - accuracy: 0.8178 - val_loss: 0.5764 - val_accuracy: 0.7603\n",
            "Epoch 27/30\n",
            "313/313 [==============================] - 3s 9ms/step - loss: 0.4133 - accuracy: 0.8229 - val_loss: 0.5770 - val_accuracy: 0.7569\n",
            "Epoch 28/30\n",
            "313/313 [==============================] - 3s 9ms/step - loss: 0.4048 - accuracy: 0.8264 - val_loss: 0.5991 - val_accuracy: 0.7592\n",
            "Epoch 29/30\n",
            "313/313 [==============================] - 3s 9ms/step - loss: 0.4009 - accuracy: 0.8282 - val_loss: 0.5851 - val_accuracy: 0.7626\n",
            "Epoch 30/30\n",
            "313/313 [==============================] - 3s 9ms/step - loss: 0.3929 - accuracy: 0.8352 - val_loss: 0.5910 - val_accuracy: 0.7626\n"
          ],
          "name": "stdout"
        },
        {
          "output_type": "display_data",
          "data": {
            "image/png": "[encoded data removed]",
            "text/plain": [
              "<Figure size 432x288 with 1 Axes>"
            ]
          },
          "metadata": {
            "tags": [],
            "needs_background": "light"
          }
        },
        {
          "output_type": "display_data",
          "data": {
            "image/png": "[encoded data removed]",
            "text/plain": [
              "<Figure size 432x288 with 1 Axes>"
            ]
          },
          "metadata": {
            "tags": [],
            "needs_background": "light"
          }
        },
        {
          "output_type": "stream",
          "text": [
            "I loved this movie\n",
            "[0.38715523]\n",
            "\n",
            "\n",
            "that was the worst movie I've ever seen\n",
            "[0.17752028]\n",
            "\n",
            "\n",
            "too much violence even for a Bond film\n",
            "[0.16312794]\n",
            "\n",
            "\n",
            "a captivating recounting of a cherished myth\n",
            "[0.46779042]\n",
            "\n",
            "\n"
          ],
          "name": "stdout"
        }
      ]
    },
    {
      "cell_type": "markdown",
      "metadata": {
        "id": "U13JBiJUG1oq"
      },
      "source": [
        "# Add a bidirectional LSTM"
      ]
    },
    {
      "cell_type": "code",
      "metadata": {
        "id": "scTUsFPAG4zP",
        "outputId": "7da5055e-ced8-4f2d-df1f-70f9ba714844",
        "colab": {
          "base_uri": "https://localhost:8080/",
          "height": 1000
        }
      },
      "source": [
        "num_epochs = 30\n",
        "\n",
        "model_bidi_lstm = tf.keras.Sequential([\n",
        "    tf.keras.layers.Embedding(vocab_size, embedding_dim, input_length=max_length),\n",
        "    tf.keras.layers.Bidirectional(tf.keras.layers.LSTM(embedding_dim)), \n",
        "    tf.keras.layers.Dense(1, activation='sigmoid')\n",
        "])\n",
        "\n",
        "learning_rate = 0.00003\n",
        "model_bidi_lstm.compile(loss='binary_crossentropy',\n",
        "                        optimizer=tf.keras.optimizers.Adam(learning_rate),\n",
        "                        metrics=['accuracy'])\n",
        "fit_model_and_show_results(model_bidi_lstm, new_reviews)"
      ],
      "execution_count": 18,
      "outputs": [
        {
          "output_type": "stream",
          "text": [
            "Model: \"sequential_3\"\n",
            "_________________________________________________________________\n",
            "Layer (type)                 Output Shape              Param #   \n",
            "=================================================================\n",
            "embedding_3 (Embedding)      (None, 50, 16)            64000     \n",
            "_________________________________________________________________\n",
            "bidirectional_1 (Bidirection (None, 32)                4224      \n",
            "_________________________________________________________________\n",
            "dense_3 (Dense)              (None, 1)                 33        \n",
            "=================================================================\n",
            "Total params: 68,257\n",
            "Trainable params: 68,257\n",
            "Non-trainable params: 0\n",
            "_________________________________________________________________\n",
            "Epoch 1/30\n",
            "313/313 [==============================] - 3s 11ms/step - loss: 0.6907 - accuracy: 0.5590 - val_loss: 0.6928 - val_accuracy: 0.5092\n",
            "Epoch 2/30\n",
            "313/313 [==============================] - 3s 10ms/step - loss: 0.6882 - accuracy: 0.5590 - val_loss: 0.6930 - val_accuracy: 0.5092\n",
            "Epoch 3/30\n",
            "313/313 [==============================] - 3s 9ms/step - loss: 0.6861 - accuracy: 0.5590 - val_loss: 0.6937 - val_accuracy: 0.5092\n",
            "Epoch 4/30\n",
            "313/313 [==============================] - 3s 9ms/step - loss: 0.6846 - accuracy: 0.5590 - val_loss: 0.6948 - val_accuracy: 0.5092\n",
            "Epoch 5/30\n",
            "313/313 [==============================] - 3s 9ms/step - loss: 0.6832 - accuracy: 0.5590 - val_loss: 0.6960 - val_accuracy: 0.5092\n",
            "Epoch 6/30\n",
            "313/313 [==============================] - 3s 9ms/step - loss: 0.6817 - accuracy: 0.5590 - val_loss: 0.6981 - val_accuracy: 0.5092\n",
            "Epoch 7/30\n",
            "313/313 [==============================] - 3s 9ms/step - loss: 0.6799 - accuracy: 0.5590 - val_loss: 0.7001 - val_accuracy: 0.5092\n",
            "Epoch 8/30\n",
            "313/313 [==============================] - 3s 9ms/step - loss: 0.6777 - accuracy: 0.5590 - val_loss: 0.7024 - val_accuracy: 0.5092\n",
            "Epoch 9/30\n",
            "313/313 [==============================] - 3s 9ms/step - loss: 0.6749 - accuracy: 0.5590 - val_loss: 0.7048 - val_accuracy: 0.5092\n",
            "Epoch 10/30\n",
            "313/313 [==============================] - 3s 9ms/step - loss: 0.6716 - accuracy: 0.5591 - val_loss: 0.7090 - val_accuracy: 0.5092\n",
            "Epoch 11/30\n",
            "313/313 [==============================] - 3s 9ms/step - loss: 0.6676 - accuracy: 0.5620 - val_loss: 0.7096 - val_accuracy: 0.5092\n",
            "Epoch 12/30\n",
            "313/313 [==============================] - 3s 9ms/step - loss: 0.6630 - accuracy: 0.5727 - val_loss: 0.7148 - val_accuracy: 0.5092\n",
            "Epoch 13/30\n",
            "313/313 [==============================] - 3s 9ms/step - loss: 0.6574 - accuracy: 0.5919 - val_loss: 0.7169 - val_accuracy: 0.5092\n",
            "Epoch 14/30\n",
            "313/313 [==============================] - 3s 10ms/step - loss: 0.6507 - accuracy: 0.6100 - val_loss: 0.7226 - val_accuracy: 0.5092\n",
            "Epoch 15/30\n",
            "313/313 [==============================] - 3s 9ms/step - loss: 0.6427 - accuracy: 0.6221 - val_loss: 0.7213 - val_accuracy: 0.5092\n",
            "Epoch 16/30\n",
            "313/313 [==============================] - 3s 9ms/step - loss: 0.6330 - accuracy: 0.6369 - val_loss: 0.7217 - val_accuracy: 0.5092\n",
            "Epoch 17/30\n",
            "313/313 [==============================] - 3s 9ms/step - loss: 0.6206 - accuracy: 0.6498 - val_loss: 0.7175 - val_accuracy: 0.5092\n",
            "Epoch 18/30\n",
            "313/313 [==============================] - 3s 10ms/step - loss: 0.6063 - accuracy: 0.6623 - val_loss: 0.7011 - val_accuracy: 0.5103\n",
            "Epoch 19/30\n",
            "313/313 [==============================] - 3s 10ms/step - loss: 0.5890 - accuracy: 0.6790 - val_loss: 0.6767 - val_accuracy: 0.5103\n",
            "Epoch 20/30\n",
            "313/313 [==============================] - 3s 10ms/step - loss: 0.5689 - accuracy: 0.7045 - val_loss: 0.6434 - val_accuracy: 0.5183\n",
            "Epoch 21/30\n",
            "313/313 [==============================] - 3s 9ms/step - loss: 0.5474 - accuracy: 0.7328 - val_loss: 0.6031 - val_accuracy: 0.6571\n",
            "Epoch 22/30\n",
            "313/313 [==============================] - 3s 9ms/step - loss: 0.5315 - accuracy: 0.7533 - val_loss: 0.5836 - val_accuracy: 0.7087\n",
            "Epoch 23/30\n",
            "313/313 [==============================] - 3s 9ms/step - loss: 0.5182 - accuracy: 0.7671 - val_loss: 0.5746 - val_accuracy: 0.6938\n",
            "Epoch 24/30\n",
            "313/313 [==============================] - 3s 9ms/step - loss: 0.5076 - accuracy: 0.7731 - val_loss: 0.5622 - val_accuracy: 0.7271\n",
            "Epoch 25/30\n",
            "313/313 [==============================] - 3s 9ms/step - loss: 0.4976 - accuracy: 0.7841 - val_loss: 0.5528 - val_accuracy: 0.7408\n",
            "Epoch 26/30\n",
            "313/313 [==============================] - 3s 9ms/step - loss: 0.4884 - accuracy: 0.7885 - val_loss: 0.5468 - val_accuracy: 0.7454\n",
            "Epoch 27/30\n",
            "313/313 [==============================] - 3s 10ms/step - loss: 0.4803 - accuracy: 0.7971 - val_loss: 0.5459 - val_accuracy: 0.7362\n",
            "Epoch 28/30\n",
            "313/313 [==============================] - 3s 9ms/step - loss: 0.4716 - accuracy: 0.7995 - val_loss: 0.5398 - val_accuracy: 0.7466\n",
            "Epoch 29/30\n",
            "313/313 [==============================] - 3s 10ms/step - loss: 0.4643 - accuracy: 0.8020 - val_loss: 0.5328 - val_accuracy: 0.7557\n",
            "Epoch 30/30\n",
            "313/313 [==============================] - 3s 9ms/step - loss: 0.4567 - accuracy: 0.8096 - val_loss: 0.5295 - val_accuracy: 0.7615\n"
          ],
          "name": "stdout"
        },
        {
          "output_type": "display_data",
          "data": {
            "image/png": "[encoded data removed]",
            "text/plain": [
              "<Figure size 432x288 with 1 Axes>"
            ]
          },
          "metadata": {
            "tags": [],
            "needs_background": "light"
          }
        },
        {
          "output_type": "display_data",
          "data": {
            "image/png": "[encoded data removed]",
            "text/plain": [
              "<Figure size 432x288 with 1 Axes>"
            ]
          },
          "metadata": {
            "tags": [],
            "needs_background": "light"
          }
        },
        {
          "output_type": "stream",
          "text": [
            "I loved this movie\n",
            "[0.40409368]\n",
            "\n",
            "\n",
            "that was the worst movie I've ever seen\n",
            "[0.2644698]\n",
            "\n",
            "\n",
            "too much violence even for a Bond film\n",
            "[0.34534287]\n",
            "\n",
            "\n",
            "a captivating recounting of a cherished myth\n",
            "[0.4592929]\n",
            "\n",
            "\n"
          ],
          "name": "stdout"
        }
      ]
    },
    {
      "cell_type": "markdown",
      "metadata": {
        "id": "QsxKPbCnPJTj"
      },
      "source": [
        "# Use multiple bidirectional LSTMs"
      ]
    },
    {
      "cell_type": "code",
      "metadata": {
        "id": "3N6Zul47PMED",
        "outputId": "2d5ffd30-dc17-4d9e-cd64-a5528a686463",
        "colab": {
          "base_uri": "https://localhost:8080/",
          "height": 1000
        }
      },
      "source": [
        "num_epochs = 30\n",
        "\n",
        "model_multiple_bidi_lstm = tf.keras.Sequential([\n",
        "    tf.keras.layers.Embedding(vocab_size, embedding_dim, input_length=max_length),\n",
        "    tf.keras.layers.Bidirectional(tf.keras.layers.LSTM(embedding_dim, \n",
        "                                                       return_sequences=True)),\n",
        "    tf.keras.layers.Bidirectional(tf.keras.layers.LSTM(embedding_dim)),\n",
        "    tf.keras.layers.Dense(1, activation='sigmoid')\n",
        "])\n",
        "\n",
        "learning_rate = 0.0003\n",
        "model_multiple_bidi_lstm.compile(loss='binary_crossentropy',\n",
        "                                 optimizer=tf.keras.optimizers.Adam(learning_rate),\n",
        "                                 metrics=['accuracy'])\n",
        "fit_model_and_show_results(model_multiple_bidi_lstm, new_reviews)"
      ],
      "execution_count": 19,
      "outputs": [
        {
          "output_type": "stream",
          "text": [
            "Model: \"sequential_4\"\n",
            "_________________________________________________________________\n",
            "Layer (type)                 Output Shape              Param #   \n",
            "=================================================================\n",
            "embedding_4 (Embedding)      (None, 50, 16)            64000     \n",
            "_________________________________________________________________\n",
            "bidirectional_2 (Bidirection (None, 50, 32)            4224      \n",
            "_________________________________________________________________\n",
            "bidirectional_3 (Bidirection (None, 32)                6272      \n",
            "_________________________________________________________________\n",
            "dense_4 (Dense)              (None, 1)                 33        \n",
            "=================================================================\n",
            "Total params: 74,529\n",
            "Trainable params: 74,529\n",
            "Non-trainable params: 0\n",
            "_________________________________________________________________\n",
            "Epoch 1/30\n",
            "313/313 [==============================] - 6s 19ms/step - loss: 0.6811 - accuracy: 0.5675 - val_loss: 0.7301 - val_accuracy: 0.5092\n",
            "Epoch 2/30\n",
            "313/313 [==============================] - 5s 15ms/step - loss: 0.5239 - accuracy: 0.7404 - val_loss: 0.7031 - val_accuracy: 0.5183\n",
            "Epoch 3/30\n",
            "313/313 [==============================] - 5s 15ms/step - loss: 0.3603 - accuracy: 0.8339 - val_loss: 0.7480 - val_accuracy: 0.5229\n",
            "Epoch 4/30\n",
            "313/313 [==============================] - 5s 15ms/step - loss: 0.3099 - accuracy: 0.8635 - val_loss: 1.3082 - val_accuracy: 0.5126\n",
            "Epoch 5/30\n",
            "313/313 [==============================] - 5s 15ms/step - loss: 0.2694 - accuracy: 0.8816 - val_loss: 0.7443 - val_accuracy: 0.5378\n",
            "Epoch 6/30\n",
            "313/313 [==============================] - 5s 15ms/step - loss: 0.2517 - accuracy: 0.8878 - val_loss: 0.8996 - val_accuracy: 0.5241\n",
            "Epoch 7/30\n",
            "313/313 [==============================] - 5s 15ms/step - loss: 0.2326 - accuracy: 0.8941 - val_loss: 0.9776 - val_accuracy: 0.5229\n",
            "Epoch 8/30\n",
            "313/313 [==============================] - 5s 16ms/step - loss: 0.2206 - accuracy: 0.9033 - val_loss: 0.8081 - val_accuracy: 0.5298\n",
            "Epoch 9/30\n",
            "313/313 [==============================] - 5s 15ms/step - loss: 0.2128 - accuracy: 0.9075 - val_loss: 0.7071 - val_accuracy: 0.5505\n",
            "Epoch 10/30\n",
            "313/313 [==============================] - 5s 15ms/step - loss: 0.2032 - accuracy: 0.9107 - val_loss: 1.1214 - val_accuracy: 0.5172\n",
            "Epoch 11/30\n",
            "313/313 [==============================] - 5s 15ms/step - loss: 0.1946 - accuracy: 0.9138 - val_loss: 1.0584 - val_accuracy: 0.5264\n",
            "Epoch 12/30\n",
            "313/313 [==============================] - 5s 15ms/step - loss: 0.1911 - accuracy: 0.9139 - val_loss: 0.9106 - val_accuracy: 0.5275\n",
            "Epoch 13/30\n",
            "313/313 [==============================] - 5s 15ms/step - loss: 0.1880 - accuracy: 0.9169 - val_loss: 0.9190 - val_accuracy: 0.5218\n",
            "Epoch 14/30\n",
            "313/313 [==============================] - 5s 15ms/step - loss: 0.1865 - accuracy: 0.9194 - val_loss: 0.9330 - val_accuracy: 0.5241\n",
            "Epoch 15/30\n",
            "313/313 [==============================] - 5s 15ms/step - loss: 0.1829 - accuracy: 0.9203 - val_loss: 0.7722 - val_accuracy: 0.5264\n",
            "Epoch 16/30\n",
            "313/313 [==============================] - 5s 15ms/step - loss: 0.1835 - accuracy: 0.9179 - val_loss: 0.9651 - val_accuracy: 0.5206\n",
            "Epoch 17/30\n",
            "313/313 [==============================] - 5s 15ms/step - loss: 0.1780 - accuracy: 0.9202 - val_loss: 0.7774 - val_accuracy: 0.5080\n",
            "Epoch 18/30\n",
            "313/313 [==============================] - 5s 15ms/step - loss: 0.1742 - accuracy: 0.9240 - val_loss: 1.2188 - val_accuracy: 0.5115\n",
            "Epoch 19/30\n",
            "313/313 [==============================] - 5s 15ms/step - loss: 0.1733 - accuracy: 0.9234 - val_loss: 0.9429 - val_accuracy: 0.5161\n",
            "Epoch 20/30\n",
            "313/313 [==============================] - 5s 15ms/step - loss: 0.1707 - accuracy: 0.9227 - val_loss: 0.9863 - val_accuracy: 0.5183\n",
            "Epoch 21/30\n",
            "313/313 [==============================] - 5s 15ms/step - loss: 0.1697 - accuracy: 0.9248 - val_loss: 0.7850 - val_accuracy: 0.4186\n",
            "Epoch 22/30\n",
            "313/313 [==============================] - 5s 15ms/step - loss: 0.1663 - accuracy: 0.9250 - val_loss: 0.7604 - val_accuracy: 0.4461\n",
            "Epoch 23/30\n",
            "313/313 [==============================] - 5s 15ms/step - loss: 0.1654 - accuracy: 0.9246 - val_loss: 0.9730 - val_accuracy: 0.5183\n",
            "Epoch 24/30\n",
            "313/313 [==============================] - 5s 15ms/step - loss: 0.1639 - accuracy: 0.9268 - val_loss: 0.9596 - val_accuracy: 0.4289\n",
            "Epoch 25/30\n",
            "313/313 [==============================] - 5s 15ms/step - loss: 0.1637 - accuracy: 0.9259 - val_loss: 0.8692 - val_accuracy: 0.3876\n",
            "Epoch 26/30\n",
            "313/313 [==============================] - 5s 16ms/step - loss: 0.1615 - accuracy: 0.9284 - val_loss: 1.0008 - val_accuracy: 0.4266\n",
            "Epoch 27/30\n",
            "313/313 [==============================] - 5s 15ms/step - loss: 0.1611 - accuracy: 0.9286 - val_loss: 1.1251 - val_accuracy: 0.4954\n",
            "Epoch 28/30\n",
            "313/313 [==============================] - 5s 16ms/step - loss: 0.1549 - accuracy: 0.9289 - val_loss: 0.9173 - val_accuracy: 0.4186\n",
            "Epoch 29/30\n",
            "313/313 [==============================] - 5s 15ms/step - loss: 0.1618 - accuracy: 0.9277 - val_loss: 1.0867 - val_accuracy: 0.3784\n",
            "Epoch 30/30\n",
            "313/313 [==============================] - 5s 15ms/step - loss: 0.1563 - accuracy: 0.9271 - val_loss: 0.8799 - val_accuracy: 0.3830\n"
          ],
          "name": "stdout"
        },
        {
          "output_type": "display_data",
          "data": {
            "image/png": "[encoded data removed]",
            "text/plain": [
              "<Figure size 432x288 with 1 Axes>"
            ]
          },
          "metadata": {
            "tags": [],
            "needs_background": "light"
          }
        },
        {
          "output_type": "display_data",
          "data": {
            "image/png": "[encoded data removed]",
            "text/plain": [
              "<Figure size 432x288 with 1 Axes>"
            ]
          },
          "metadata": {
            "tags": [],
            "needs_background": "light"
          }
        },
        {
          "output_type": "stream",
          "text": [
            "WARNING:tensorflow:5 out of the last 5 calls to <function Model.make_predict_function.<locals>.predict_function at 0x7f57c07e9d08> triggered tf.function retracing. Tracing is expensive and the excessive number of tracings could be due to (1) creating @tf.function repeatedly in a loop, (2) passing tensors with different shapes, (3) passing Python objects instead of tensors. For (1), please define your @tf.function outside of the loop. For (2), @tf.function has experimental_relax_shapes=True option that relaxes argument shapes that can avoid unnecessary retracing. For (3), please refer to https://www.tensorflow.org/tutorials/customization/performance#python_or_tensor_args and https://www.tensorflow.org/api_docs/python/tf/function for  more details.\n"
          ],
          "name": "stdout"
        },
        {
          "output_type": "stream",
          "text": [
            "WARNING:tensorflow:5 out of the last 5 calls to <function Model.make_predict_function.<locals>.predict_function at 0x7f57c07e9d08> triggered tf.function retracing. Tracing is expensive and the excessive number of tracings could be due to (1) creating @tf.function repeatedly in a loop, (2) passing tensors with different shapes, (3) passing Python objects instead of tensors. For (1), please define your @tf.function outside of the loop. For (2), @tf.function has experimental_relax_shapes=True option that relaxes argument shapes that can avoid unnecessary retracing. For (3), please refer to https://www.tensorflow.org/tutorials/customization/performance#python_or_tensor_args and https://www.tensorflow.org/api_docs/python/tf/function for  more details.\n"
          ],
          "name": "stderr"
        },
        {
          "output_type": "stream",
          "text": [
            "I loved this movie\n",
            "[0.02748207]\n",
            "\n",
            "\n",
            "that was the worst movie I've ever seen\n",
            "[0.02391966]\n",
            "\n",
            "\n",
            "too much violence even for a Bond film\n",
            "[0.01940762]\n",
            "\n",
            "\n",
            "a captivating recounting of a cherished myth\n",
            "[0.99293584]\n",
            "\n",
            "\n"
          ],
          "name": "stdout"
        }
      ]
    },
    {
      "cell_type": "markdown",
      "metadata": {
        "id": "gdN2tdW4YYJ1"
      },
      "source": [
        "# Try some more reviews"
      ]
    },
    {
      "cell_type": "code",
      "metadata": {
        "id": "e45UQxQl_QAI"
      },
      "source": [
        "# Write some new reviews \n",
        "\n",
        "review1 = \"\"\"I loved this movie\"\"\"\n",
        "\n",
        "review2 = \"\"\"that was the worst movie I've ever seen\"\"\"\n",
        "\n",
        "review3 = \"\"\"too much violence even for a Bond film\"\"\"\n",
        "\n",
        "review4 = \"\"\"a captivating recounting of a cherished myth\"\"\"\n",
        "\n",
        "review5 = \"\"\"I saw this movie yesterday and I was feeling low to start with,\n",
        " but it was such a wonderful movie that it lifted my spirits and brightened \n",
        " my day, you can\\'t go wrong with a movie with Whoopi Goldberg in it.\"\"\"\n",
        "\n",
        "review6 = \"\"\"I don\\'t understand why it received an oscar recommendation\n",
        " for best movie, it was long and boring\"\"\"\n",
        "\n",
        "review7 = \"\"\"the scenery was magnificent, the CGI of the dogs was so realistic I\n",
        " thought they were played by real dogs even though they talked!\"\"\"\n",
        "\n",
        "review8 = \"\"\"The ending was so sad and yet so uplifting at the same time. \n",
        " I'm looking for an excuse to see it again\"\"\"\n",
        "\n",
        "review9 = \"\"\"I had expected so much more from a movie made by the director \n",
        " who made my most favorite movie ever, I was very disappointed in the tedious \n",
        " story\"\"\"\n",
        "\n",
        "review10 = \"I wish I could watch this movie every day for the rest of my life\"\n",
        "\n",
        "more_reviews = [review1, review2, review3, review4, review5, review6, review7, \n",
        "               review8, review9, review10]\n"
      ],
      "execution_count": 26,
      "outputs": []
    },
    {
      "cell_type": "code",
      "metadata": {
        "id": "cQ4YZHOjYXQ2",
        "outputId": "230997da-629f-4d93-a93c-037720d7cefe",
        "colab": {
          "base_uri": "https://localhost:8080/"
        }
      },
      "source": [
        "print(\"============================\\n\",\"Embeddings only:\\n\", \"============================\")\n",
        "predict_review(model, more_reviews)"
      ],
      "execution_count": 27,
      "outputs": [
        {
          "output_type": "stream",
          "text": [
            "============================\n",
            " Embeddings only:\n",
            " ============================\n",
            "I loved this movie\n",
            "[0.3807171]\n",
            "\n",
            "\n",
            "that was the worst movie I've ever seen\n",
            "[0.111787]\n",
            "\n",
            "\n",
            "too much violence even for a Bond film\n",
            "[0.03099431]\n",
            "\n",
            "\n",
            "a captivating recounting of a cherished myth\n",
            "[0.57220185]\n",
            "\n",
            "\n",
            "I saw this movie yesterday and I was feeling low to start with,\n",
            " but it was such a wonderful movie that it lifted my spirits and brightened \n",
            " my day, you can't go wrong with a movie with Whoopi Goldberg in it.\n",
            "[0.2800884]\n",
            "\n",
            "\n",
            "I don't understand why it received an oscar recommendation\n",
            " for best movie, it was long and boring\n",
            "[0.471253]\n",
            "\n",
            "\n",
            "the scenery was magnificent, the CGI of the dogs was so realistic I\n",
            " thought they were played by real dogs even though they talked!\n",
            "[0.25067797]\n",
            "\n",
            "\n",
            "The ending was so sad and yet so uplifting at the same time. \n",
            " I'm looking for an excuse to see it again\n",
            "[0.49579304]\n",
            "\n",
            "\n",
            "I had expected so much more from a movie made by the director \n",
            " who made my most favorite movie ever, I was very disappointed in the tedious \n",
            " story\n",
            "[0.01116972]\n",
            "\n",
            "\n",
            "I wish I could watch this movie every day for the rest of my life\n",
            "[0.30670506]\n",
            "\n",
            "\n"
          ],
          "name": "stdout"
        }
      ]
    },
    {
      "cell_type": "code",
      "metadata": {
        "id": "NI04noTAHK5t",
        "outputId": "56af7b50-6f89-4b47-b34f-614f3ed198f0",
        "colab": {
          "base_uri": "https://localhost:8080/"
        }
      },
      "source": [
        "print(\"============================\\n\",\"With CNN\\n\", \"============================\")\n",
        "predict_review(model_cnn, more_reviews)"
      ],
      "execution_count": 22,
      "outputs": [
        {
          "output_type": "stream",
          "text": [
            "============================\n",
            " With CNN\n",
            " ============================\n",
            "I loved this movie\n",
            "[0.89378136]\n",
            "\n",
            "\n",
            "that was the worst movie I've ever seen\n",
            "[0.04757899]\n",
            "\n",
            "\n",
            "too much violence even for a Bond film\n",
            "[0.00461861]\n",
            "\n",
            "\n",
            "a captivating recounting of a cherished myth\n",
            "[0.7117321]\n",
            "\n",
            "\n",
            "I saw this movie yesterday and I was feeling low to start with,\n",
            " but it was such a wonderful movie that it lifted my spirits and brightened \n",
            " my day, you can't go wrong with a movie with Whoopi Goldberg in it.\n",
            "[0.77569705]\n",
            "\n",
            "\n",
            "I don't understand why it received an oscar recommendation\n",
            " for best movie, it was long and boring\n",
            "[0.5458434]\n",
            "\n",
            "\n",
            "the scenery was magnificent, the CGI of the dogs was so realistic I\n",
            " thought they were played by real dogs even though they talked!\n",
            "[0.27848166]\n",
            "\n",
            "\n",
            "The ending was so sad and yet so uplifting at the same time. \n",
            " I'm looking for an excuse to see it again\n",
            "[0.5172174]\n",
            "\n",
            "\n",
            "I had expected so much more from a movie made by the director \n",
            " who made my most favorite movie ever, I was very disappointed in the tedious \n",
            " story\n",
            "[0.04864404]\n",
            "\n",
            "\n",
            "I wish I could watch this movie every day for the rest of my life\n",
            "[0.27924883]\n",
            "\n",
            "\n"
          ],
          "name": "stdout"
        }
      ]
    },
    {
      "cell_type": "code",
      "metadata": {
        "id": "vGJ32sRUHNu6",
        "outputId": "e031757b-e426-4ea9-a4f5-11f43e39e8fc",
        "colab": {
          "base_uri": "https://localhost:8080/"
        }
      },
      "source": [
        "print(\"===========================\\n\",\"With bidirectional GRU\\n\", \"============================\")\n",
        "predict_review(model_gru, more_reviews)"
      ],
      "execution_count": 23,
      "outputs": [
        {
          "output_type": "stream",
          "text": [
            "===========================\n",
            " With bidirectional GRU\n",
            " ============================\n",
            "I loved this movie\n",
            "[0.38715523]\n",
            "\n",
            "\n",
            "that was the worst movie I've ever seen\n",
            "[0.17752028]\n",
            "\n",
            "\n",
            "too much violence even for a Bond film\n",
            "[0.16312794]\n",
            "\n",
            "\n",
            "a captivating recounting of a cherished myth\n",
            "[0.46779042]\n",
            "\n",
            "\n",
            "I saw this movie yesterday and I was feeling low to start with,\n",
            " but it was such a wonderful movie that it lifted my spirits and brightened \n",
            " my day, you can't go wrong with a movie with Whoopi Goldberg in it.\n",
            "[0.09256152]\n",
            "\n",
            "\n",
            "I don't understand why it received an oscar recommendation\n",
            " for best movie, it was long and boring\n",
            "[0.11844901]\n",
            "\n",
            "\n",
            "the scenery was magnificent, the CGI of the dogs was so realistic I\n",
            " thought they were played by real dogs even though they talked!\n",
            "[0.135713]\n",
            "\n",
            "\n",
            "The ending was so sad and yet so uplifting at the same time. \n",
            " I'm looking for an excuse to see it again\n",
            "[0.25724983]\n",
            "\n",
            "\n",
            "I had expected so much more from a movie made by the director \n",
            " who made my most favorite movie ever, I was very disappointed in the tedious \n",
            " story\n",
            "[0.06791613]\n",
            "\n",
            "\n",
            "I wish I could watch this movie every day for the rest of my life\n",
            "[0.308875]\n",
            "\n",
            "\n"
          ],
          "name": "stdout"
        }
      ]
    },
    {
      "cell_type": "code",
      "metadata": {
        "id": "IFw9Q0iQHP2P",
        "outputId": "71985146-3fe2-4698-af82-d39b60ff6565",
        "colab": {
          "base_uri": "https://localhost:8080/"
        }
      },
      "source": [
        "print(\"===========================\\n\", \"With a single bidirectional LSTM:\\n\", \"===========================\")\n",
        "predict_review(model_bidi_lstm, more_reviews)"
      ],
      "execution_count": 24,
      "outputs": [
        {
          "output_type": "stream",
          "text": [
            "===========================\n",
            " With a single bidirectional LSTM:\n",
            " ===========================\n",
            "I loved this movie\n",
            "[0.40409368]\n",
            "\n",
            "\n",
            "that was the worst movie I've ever seen\n",
            "[0.2644698]\n",
            "\n",
            "\n",
            "too much violence even for a Bond film\n",
            "[0.34534287]\n",
            "\n",
            "\n",
            "a captivating recounting of a cherished myth\n",
            "[0.4592929]\n",
            "\n",
            "\n",
            "I saw this movie yesterday and I was feeling low to start with,\n",
            " but it was such a wonderful movie that it lifted my spirits and brightened \n",
            " my day, you can't go wrong with a movie with Whoopi Goldberg in it.\n",
            "[0.1823653]\n",
            "\n",
            "\n",
            "I don't understand why it received an oscar recommendation\n",
            " for best movie, it was long and boring\n",
            "[0.21519479]\n",
            "\n",
            "\n",
            "the scenery was magnificent, the CGI of the dogs was so realistic I\n",
            " thought they were played by real dogs even though they talked!\n",
            "[0.21755144]\n",
            "\n",
            "\n",
            "The ending was so sad and yet so uplifting at the same time. \n",
            " I'm looking for an excuse to see it again\n",
            "[0.2994834]\n",
            "\n",
            "\n",
            "I had expected so much more from a movie made by the director \n",
            " who made my most favorite movie ever, I was very disappointed in the tedious \n",
            " story\n",
            "[0.16266577]\n",
            "\n",
            "\n",
            "I wish I could watch this movie every day for the rest of my life\n",
            "[0.40472606]\n",
            "\n",
            "\n"
          ],
          "name": "stdout"
        }
      ]
    },
    {
      "cell_type": "code",
      "metadata": {
        "id": "zaw7fEVQHSWK",
        "outputId": "4a26b512-09a8-4641-fcd8-20297dd2a86d",
        "colab": {
          "base_uri": "https://localhost:8080/"
        }
      },
      "source": [
        "print(\"===========================\\n\", \"With multiple bidirectional LSTM:\\n\", \"==========================\")\n",
        "predict_review(model_multiple_bidi_lstm, more_reviews)"
      ],
      "execution_count": 25,
      "outputs": [
        {
          "output_type": "stream",
          "text": [
            "===========================\n",
            " With multiple bidirectional LSTM:\n",
            " ==========================\n",
            "I loved this movie\n",
            "[0.02748207]\n",
            "\n",
            "\n",
            "that was the worst movie I've ever seen\n",
            "[0.02391966]\n",
            "\n",
            "\n",
            "too much violence even for a Bond film\n",
            "[0.01940763]\n",
            "\n",
            "\n",
            "a captivating recounting of a cherished myth\n",
            "[0.99293584]\n",
            "\n",
            "\n",
            "I saw this movie yesterday and I was feeling low to start with,\n",
            " but it was such a wonderful movie that it lifted my spirits and brightened \n",
            " my day, you can't go wrong with a movie with Whoopi Goldberg in it.\n",
            "[0.06882999]\n",
            "\n",
            "\n",
            "I don't understand why it received an oscar recommendation\n",
            " for best movie, it was long and boring\n",
            "[0.04671533]\n",
            "\n",
            "\n",
            "the scenery was magnificent, the CGI of the dogs was so realistic I\n",
            " thought they were played by real dogs even though they talked!\n",
            "[0.9944155]\n",
            "\n",
            "\n",
            "The ending was so sad and yet so uplifting at the same time. \n",
            " I'm looking for an excuse to see it again\n",
            "[0.10473961]\n",
            "\n",
            "\n",
            "I had expected so much more from a movie made by the director \n",
            " who made my most favorite movie ever, I was very disappointed in the tedious \n",
            " story\n",
            "[0.02639277]\n",
            "\n",
            "\n",
            "I wish I could watch this movie every day for the rest of my life\n",
            "[0.01955527]\n",
            "\n",
            "\n"
          ],
          "name": "stdout"
        }
      ]
    },
    {
      "cell_type": "markdown",
      "metadata": {
        "id": "MGL9hFN49n_R"
      },
      "source": [
        "Further Research: TensorFlow Documentation\n",
        "\n",
        "    Documentation for GRU layers in TensorFlow https://www.tensorflow.org/api_docs/python/tf/keras/layers/GRU\n",
        "    Documentation for LSTM layers in TensorFlow\n",
        "    https://www.tensorflow.org/api_docs/python/tf/keras/layers/LSTM\n",
        "    Documentation for 1D Convolutional layers in TensorFlow\n",
        "    https://www.tensorflow.org/api_docs/python/tf/keras/layers/Conv1D\n",
        "\n",
        "https://youtu.be/2hf8Z52cZIc"
      ]
    }
  ]
}