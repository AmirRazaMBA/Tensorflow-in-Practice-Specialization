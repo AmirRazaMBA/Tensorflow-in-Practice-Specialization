{
 "cells": [
  {
   "cell_type": "markdown",
   "metadata": {
    "id": "9uBA1i1BbiJn"
   },
   "source": [
    "# Word Embeddings and Sentiment"
   ]
  },
  {
   "attachments": {},
   "cell_type": "markdown",
   "metadata": {
    "id": "1iLe4E0dB7tj"
   },
   "source": [
    "In this colab, you'll work with word embeddings and train a basic neural network to predict text sentiment. At the end, you'll be able to visualize how the network sees the related sentiment of each word in the dataset.\n"
   ]
  },
  {
   "attachments": {},
   "cell_type": "markdown",
   "metadata": {},
   "source": [
    "Embeddings are clusters of vectors in multi-dimensional space, where each vector represents a given word in those dimensions. While it’s difficult for us humans to think in many dimensions, luckily the TensorFlow Projector makes it fairly easy for us to view these clusters in a 3D projection (later Colabs will generate the necessary files for use with the projection tool).\n",
    "\n",
    "This can be very useful for sentiment analysis models, where you’d expect to see clusters around either more positive or more negative sentiment associated with each word.\n",
    "An example embedding projection, post-training. Negative sentiment words are separated quite distinctly from positive sentiment words, such as “incredible”.\n",
    "\n",
    "An example of a post-training embedding projection, with clear distinctions between positive and negative sentiments.\n",
    "\n",
    "https://video.udacity-data.com/topher/2020/March/5e6fb5c8_sphereized-viz/sphereized-viz.png\n"
   ]
  },
  {
   "cell_type": "markdown",
   "metadata": {},
   "source": [
    "To create our embeddings, we’ll first use an embeddings layer, called tf.keras.layers.Embedding. This takes three arguments: \n",
    "* the size of the tokenized vocabulary, \n",
    "* the number of embedding dimensions to use, \n",
    "* as well as the input length (from when you standardized sequence length with padding and truncation).\n",
    "\n",
    "The output of this layer needs to be reshaped to work with any fully-connected layers. \n",
    "You can do this with \n",
    "* a pure Flatten layer, \n",
    "* or use GlobalAveragePooling1D for a little additional computation that sometimes creates better results.\n",
    "\n",
    "In our case, we’re only looking at positive vs. negative sentiment, so only a single output node is needed (0 for negative, 1 for positive). You’ll be able to use a binary cross entropy loss function since the result is only binary classification.\n"
   ]
  },
  {
   "cell_type": "markdown",
   "metadata": {
    "id": "wqvz1jVgbwIN"
   },
   "source": [
    "## Import TensorFlow and related functions"
   ]
  },
  {
   "cell_type": "code",
   "execution_count": 1,
   "metadata": {
    "id": "XIG52aKPdpux"
   },
   "outputs": [],
   "source": [
    "import tensorflow as tf\n",
    "\n",
    "from tensorflow.keras.preprocessing.text import Tokenizer\n",
    "from tensorflow.keras.preprocessing.sequence import pad_sequences"
   ]
  },
  {
   "cell_type": "markdown",
   "metadata": {
    "id": "pazU5OmxehIA"
   },
   "source": [
    "## Get the dataset\n",
    "\n",
    "We're going to use a dataset containing Amazon and Yelp reviews, with their related sentiment (1 for positive, 0 for negative). This dataset was originally extracted from [here](https://www.kaggle.com/marklvl/sentiment-labelled-sentences-data-set)."
   ]
  },
  {
   "cell_type": "code",
   "execution_count": 1,
   "metadata": {
    "id": "qpwQT2E9ez5B"
   },
   "outputs": [
    {
     "name": "stderr",
     "output_type": "stream",
     "text": [
      "/tmp/sentiment.csv: No such file or directory\n",
      "SYSTEM_WGETRC = c:/progra~1/wget/etc/wgetrc\n",
      "syswgetrc = C:\\Program Files (x86)\\GnuWin32/etc/wgetrc\n"
     ]
    }
   ],
   "source": [
    "!wget --no-check-certificate \\\n",
    "    -O /tmp/sentiment.csv https://drive.google.com/uc?id=13ySLC_ue6Umt9RJYSeM2t-V0kCv-4C-P"
   ]
  },
  {
   "cell_type": "code",
   "execution_count": 2,
   "metadata": {},
   "outputs": [
    {
     "name": "stdout",
     "output_type": "stream",
     "text": [
      "C:\\Users\\Amir\\.keras\\datasets\\sentiment.csv\n"
     ]
    }
   ],
   "source": [
    "path = tf.keras.utils.get_file('sentiment.csv', \n",
    "                               'https://drive.google.com/uc?id=13ySLC_ue6Umt9RJYSeM2t-V0kCv-4C-P')\n",
    "print (path)"
   ]
  },
  {
   "cell_type": "code",
   "execution_count": 3,
   "metadata": {
    "id": "6Zvp9NScfMnw"
   },
   "outputs": [],
   "source": [
    "import numpy as np\n",
    "import pandas as pd\n",
    "\n",
    "dataset = pd.read_csv(path)\n",
    "\n",
    "sentences = dataset['text'].tolist()              # This is X\n",
    "labels = dataset['sentiment'].tolist()            # This is Y\n",
    "\n",
    "# Separate out the sentences and labels into training and test sets\n",
    "training_size = int(len(sentences) * 0.8)         # 80% for training\n",
    "\n",
    "training_sentences = sentences[0:training_size]\n",
    "testing_sentences = sentences[training_size:]     # 20% for testing\n",
    "training_labels = labels[0:training_size] \n",
    "testing_labels = labels[training_size:]\n",
    "\n",
    "# Make labels into numpy arrays for use with the network later\n",
    "training_labels_final = np.array(training_labels)  # pandas ds to numpy array\n",
    "testing_labels_final = np.array(testing_labels)"
   ]
  },
  {
   "cell_type": "markdown",
   "metadata": {
    "id": "NHpvqaSigcST"
   },
   "source": [
    "## Tokenize the dataset\n",
    "\n",
    "Tokenize the dataset, including padding and OOV"
   ]
  },
  {
   "cell_type": "code",
   "execution_count": 4,
   "metadata": {
    "id": "78icewYRgfxh"
   },
   "outputs": [],
   "source": [
    "vocab_size = 1000                 # max size for tokenizing words\n",
    "embedding_dim = 16                # not sure why dim are 16 here\n",
    "max_length = 100                  # length of the sentence\n",
    "trunc_type='post'                 # truncate the sentence at the end\n",
    "padding_type='post'               # padd with 0s are the end not the beginning of the sentence\n",
    "oov_tok = \"<OOV>\"                 # out of vocabulary tag\n",
    "\n",
    "\n",
    "from tensorflow.keras.preprocessing.text import Tokenizer\n",
    "from tensorflow.keras.preprocessing.sequence import pad_sequences\n",
    "\n",
    "tokenizer = Tokenizer(num_words = vocab_size, oov_token=oov_tok)\n",
    "tokenizer.fit_on_texts(training_sentences)                       # get the token bhai for nihari :)\n",
    "word_index = tokenizer.word_index                                # token index as list\n",
    "sequences = tokenizer.texts_to_sequences(training_sentences)     # words to number here\n",
    "padded = pad_sequences(sequences,maxlen=max_length, padding=padding_type, \n",
    "                       truncating=trunc_type)\n",
    "\n",
    "testing_sequences = tokenizer.texts_to_sequences(testing_sentences)  # word to number for testing sentence note those are not used for tokenization\n",
    "testing_padded = pad_sequences(testing_sequences,maxlen=max_length, \n",
    "                               padding=padding_type, truncating=trunc_type)"
   ]
  },
  {
   "cell_type": "markdown",
   "metadata": {
    "id": "q4yIEk_8kszh"
   },
   "source": [
    "## Review a Sequence\n",
    "\n",
    "Let's quickly take a look at one of the padded sequences to ensure everything above worked appropriately."
   ]
  },
  {
   "cell_type": "code",
   "execution_count": 5,
   "metadata": {
    "id": "JTU3FmVGk100"
   },
   "outputs": [
    {
     "name": "stdout",
     "output_type": "stream",
     "text": [
      "good case excellent value ? ? ? ? ? ? ? ? ? ? ? ? ? ? ? ? ? ? ? ? ? ? ? ? ? ? ? ? ? ? ? ? ? ? ? ? ? ? ? ? ? ? ? ? ? ? ? ? ? ? ? ? ? ? ? ? ? ? ? ? ? ? ? ? ? ? ? ? ? ? ? ? ? ? ? ? ? ? ? ? ? ? ? ? ? ? ? ? ? ? ? ? ? ? ? ?\n",
      "Good case Excellent value.\n"
     ]
    }
   ],
   "source": [
    "reverse_word_index = dict([(value, key) for (key, value) in word_index.items()])\n",
    "\n",
    "def decode_review(text):\n",
    "    return ' '.join([reverse_word_index.get(i, '?') for i in text])\n",
    "\n",
    "print(decode_review(padded[1]))\n",
    "print(training_sentences[1])"
   ]
  },
  {
   "cell_type": "markdown",
   "metadata": {
    "id": "RI91liJnlA92"
   },
   "source": [
    "## Train a Basic Sentiment Model with Embeddings"
   ]
  },
  {
   "cell_type": "code",
   "execution_count": 6,
   "metadata": {
    "id": "bBMgzp-_lMTp",
    "scrolled": true
   },
   "outputs": [
    {
     "name": "stdout",
     "output_type": "stream",
     "text": [
      "Model: \"sequential\"\n",
      "_________________________________________________________________\n",
      "Layer (type)                 Output Shape              Param #   \n",
      "=================================================================\n",
      "embedding (Embedding)        (None, 100, 16)           16000     \n",
      "_________________________________________________________________\n",
      "flatten (Flatten)            (None, 1600)              0         \n",
      "_________________________________________________________________\n",
      "dense (Dense)                (None, 6)                 9606      \n",
      "_________________________________________________________________\n",
      "dense_1 (Dense)              (None, 1)                 7         \n",
      "=================================================================\n",
      "Total params: 25,613\n",
      "Trainable params: 25,613\n",
      "Non-trainable params: 0\n",
      "_________________________________________________________________\n"
     ]
    }
   ],
   "source": [
    "# Build a basic sentiment network\n",
    "# Note the embedding layer is first, \n",
    "# and the output is only 1 node as it is either 0 or 1 (negative or positive)\n",
    "model = tf.keras.Sequential([\n",
    "    tf.keras.layers.Embedding(vocab_size, embedding_dim, input_length=max_length),   # vocab_size = 1000, embedding_dim = 16\n",
    "    tf.keras.layers.Flatten(),\n",
    "    tf.keras.layers.Dense(6, activation='relu'),\n",
    "    tf.keras.layers.Dense(1, activation='sigmoid')\n",
    "])\n",
    "model.compile(loss='binary_crossentropy',optimizer='adam',metrics=['accuracy'])\n",
    "model.summary()"
   ]
  },
  {
   "cell_type": "code",
   "execution_count": 7,
   "metadata": {
    "id": "Pfl1W-zVldpn"
   },
   "outputs": [
    {
     "name": "stdout",
     "output_type": "stream",
     "text": [
      "Train on 1593 samples, validate on 399 samples\n",
      "Epoch 1/10\n",
      "1593/1593 [==============================] - 2s 951us/sample - loss: 0.6927 - accuracy: 0.5166 - val_loss: 0.7004 - val_accuracy: 0.4110\n",
      "Epoch 2/10\n",
      "1593/1593 [==============================] - 0s 139us/sample - loss: 0.6903 - accuracy: 0.5223 - val_loss: 0.7059 - val_accuracy: 0.4110\n",
      "Epoch 3/10\n",
      "1593/1593 [==============================] - 0s 139us/sample - loss: 0.6818 - accuracy: 0.5223 - val_loss: 0.6962 - val_accuracy: 0.4110\n",
      "Epoch 4/10\n",
      "1593/1593 [==============================] - 0s 172us/sample - loss: 0.6602 - accuracy: 0.5273 - val_loss: 0.6973 - val_accuracy: 0.4211\n",
      "Epoch 5/10\n",
      "1593/1593 [==============================] - 0s 136us/sample - loss: 0.6221 - accuracy: 0.6353 - val_loss: 0.6692 - val_accuracy: 0.5138\n",
      "Epoch 6/10\n",
      "1593/1593 [==============================] - 0s 159us/sample - loss: 0.5694 - accuracy: 0.7219 - val_loss: 0.6454 - val_accuracy: 0.6090\n",
      "Epoch 7/10\n",
      "1593/1593 [==============================] - 0s 164us/sample - loss: 0.5173 - accuracy: 0.7979 - val_loss: 0.6498 - val_accuracy: 0.5614\n",
      "Epoch 8/10\n",
      "1593/1593 [==============================] - 0s 160us/sample - loss: 0.4706 - accuracy: 0.8556 - val_loss: 0.6219 - val_accuracy: 0.6366\n",
      "Epoch 9/10\n",
      "1593/1593 [==============================] - 0s 163us/sample - loss: 0.4287 - accuracy: 0.9002 - val_loss: 0.6351 - val_accuracy: 0.6015\n",
      "Epoch 10/10\n",
      "1593/1593 [==============================] - 0s 172us/sample - loss: 0.3833 - accuracy: 0.9272 - val_loss: 0.6474 - val_accuracy: 0.6266\n"
     ]
    },
    {
     "data": {
      "text/plain": [
       "<tensorflow.python.keras.callbacks.History at 0x21def65c7c8>"
      ]
     },
     "execution_count": 7,
     "metadata": {},
     "output_type": "execute_result"
    }
   ],
   "source": [
    "num_epochs = 10\n",
    "model.fit(padded, training_labels_final, epochs=num_epochs, validation_data=(testing_padded, testing_labels_final))"
   ]
  },
  {
   "cell_type": "code",
   "execution_count": 18,
   "metadata": {},
   "outputs": [
    {
     "data": {
      "text/plain": [
       "dict_keys(['loss', 'accuracy', 'val_loss', 'val_accuracy'])"
      ]
     },
     "execution_count": 18,
     "metadata": {},
     "output_type": "execute_result"
    }
   ],
   "source": [
    "model.history.history.keys()"
   ]
  },
  {
   "cell_type": "code",
   "execution_count": 20,
   "metadata": {},
   "outputs": [],
   "source": [
    "losses = pd.DataFrame(model.history.history)"
   ]
  },
  {
   "cell_type": "code",
   "execution_count": 22,
   "metadata": {},
   "outputs": [
    {
     "data": {
      "text/plain": [
       "<AxesSubplot:>"
      ]
     },
     "execution_count": 22,
     "metadata": {},
     "output_type": "execute_result"
    },
    {
     "data": {
      "image/png": "[encoded data removed]",
      "text/plain": [
       "<Figure size 432x288 with 1 Axes>"
      ]
     },
     "metadata": {
      "needs_background": "light"
     },
     "output_type": "display_data"
    }
   ],
   "source": [
    "losses[['accuracy','val_accuracy']].plot()"
   ]
  },
  {
   "cell_type": "code",
   "execution_count": 23,
   "metadata": {},
   "outputs": [
    {
     "data": {
      "text/plain": [
       "<AxesSubplot:>"
      ]
     },
     "execution_count": 23,
     "metadata": {},
     "output_type": "execute_result"
    },
    {
     "data": {
      "image/png": "[encoded data removed]",
      "text/plain": [
       "<Figure size 432x288 with 1 Axes>"
      ]
     },
     "metadata": {
      "needs_background": "light"
     },
     "output_type": "display_data"
    }
   ],
   "source": [
    "losses[['loss','val_loss']].plot()"
   ]
  },
  {
   "cell_type": "markdown",
   "metadata": {
    "id": "GjMZ4ZFQl_48"
   },
   "source": [
    "## Get files for visualizing the network\n",
    "\n",
    "The code below will download two files for visualizing how your network \"sees\" the sentiment related to each word. Head to http://projector.tensorflow.org/ and load these files, then click the \"Sphereize\" checkbox."
   ]
  },
  {
   "cell_type": "code",
   "execution_count": 8,
   "metadata": {
    "id": "S2lB46FirAVx"
   },
   "outputs": [
    {
     "name": "stdout",
     "output_type": "stream",
     "text": [
      "(1000, 16)\n"
     ]
    }
   ],
   "source": [
    "# First get the weights of the embedding layer\n",
    "e = model.layers[0]\n",
    "weights = e.get_weights()[0]\n",
    "print(weights.shape) # shape: (vocab_size, embedding_dim)"
   ]
  },
  {
   "cell_type": "code",
   "execution_count": 9,
   "metadata": {
    "id": "Xcha0oGemHX2"
   },
   "outputs": [],
   "source": [
    "import io\n",
    "\n",
    "# Write out the embedding vectors and metadata\n",
    "out_v = io.open('vecs.tsv', 'w', encoding='utf-8')\n",
    "out_m = io.open('meta.tsv', 'w', encoding='utf-8')\n",
    "for word_num in range(1, vocab_size):\n",
    "  word = reverse_word_index[word_num]\n",
    "  embeddings = weights[word_num]\n",
    "  out_m.write(word + \"\\n\")\n",
    "  out_v.write('\\t'.join([str(x) for x in embeddings]) + \"\\n\")\n",
    "out_v.close()\n",
    "out_m.close()"
   ]
  },
  {
   "cell_type": "code",
   "execution_count": 10,
   "metadata": {
    "id": "g-Q6ALywmWVz"
   },
   "outputs": [],
   "source": [
    "# Download the files\n",
    "try:\n",
    "  from google.colab import files\n",
    "except ImportError:\n",
    "  pass\n",
    "else:\n",
    "  files.download('vecs.tsv')\n",
    "  files.download('meta.tsv')"
   ]
  },
  {
   "cell_type": "markdown",
   "metadata": {
    "id": "GNoxfY-i3Ir1"
   },
   "source": [
    "## Predicting Sentiment in New Reviews\n",
    "\n",
    "Now that you've trained and visualized your network, take a look below at how we can predict sentiment in new reviews the network has never seen before."
   ]
  },
  {
   "cell_type": "code",
   "execution_count": 16,
   "metadata": {
    "id": "QXtfw-OY3WoZ"
   },
   "outputs": [
    {
     "name": "stdout",
     "output_type": "stream",
     "text": [
      "['I love this phone', 'I hate spaghetti', 'Everything was cold', 'Everything was hot exactly as I wanted', 'Everything was green', 'the host seated us immediately', 'they gave us free chocolate cake', 'not sure about the wilted flowers on the table', 'only works when I stand on tippy toes', 'bats are all wearing underwears with tie', 'bat was runnig the show', 'does not work when I stand on my head']\n",
      "\n",
      "HOT OFF THE PRESS! HERE ARE SOME NEWLY MINTED, ABSOLUTELY GENUINE REVIEWS!\n",
      "\n",
      "I love this phone\n",
      "[0.9672076]\n",
      "\n",
      "\n",
      "I hate spaghetti\n",
      "[0.42844096]\n",
      "\n",
      "\n",
      "Everything was cold\n",
      "[0.6813464]\n",
      "\n",
      "\n",
      "Everything was hot exactly as I wanted\n",
      "[0.7650672]\n",
      "\n",
      "\n",
      "Everything was green\n",
      "[0.6967425]\n",
      "\n",
      "\n",
      "the host seated us immediately\n",
      "[0.7959647]\n",
      "\n",
      "\n",
      "they gave us free chocolate cake\n",
      "[0.7898]\n",
      "\n",
      "\n",
      "not sure about the wilted flowers on the table\n",
      "[0.42844096]\n",
      "\n",
      "\n",
      "only works when I stand on tippy toes\n",
      "[0.9191233]\n",
      "\n",
      "\n",
      "bats are all wearing underwears with tie\n",
      "[0.83884823]\n",
      "\n",
      "\n",
      "bat was runnig the show\n",
      "[0.49457568]\n",
      "\n",
      "\n",
      "does not work when I stand on my head\n",
      "[0.42844096]\n",
      "\n",
      "\n"
     ]
    }
   ],
   "source": [
    "# Use the model to predict a review   \n",
    "fake_reviews = ['I love this phone', 'I hate spaghetti', \n",
    "                'Everything was cold',\n",
    "                'Everything was hot exactly as I wanted', \n",
    "                'Everything was green', \n",
    "                'the host seated us immediately',\n",
    "                'they gave us free chocolate cake', \n",
    "                'not sure about the wilted flowers on the table',\n",
    "                'only works when I stand on tippy toes',\n",
    "                'bats are all wearing underwears with tie',\n",
    "                'bat was runnig the show',\n",
    "                'does not work when I stand on my head']\n",
    "\n",
    "print(fake_reviews) \n",
    "\n",
    "# Create the sequences\n",
    "padding_type='post'\n",
    "sample_sequences = tokenizer.texts_to_sequences(fake_reviews)\n",
    "fakes_padded = pad_sequences(sample_sequences, padding=padding_type, maxlen=max_length)           \n",
    "\n",
    "print('\\nHOT OFF THE PRESS! HERE ARE SOME NEWLY MINTED, ABSOLUTELY GENUINE REVIEWS!\\n')              \n",
    "\n",
    "classes = model.predict(fakes_padded)\n",
    "\n",
    "# The closer the class is to 1, the more positive the review is deemed to be\n",
    "for x in range(len(fake_reviews)):\n",
    "  print(fake_reviews[x])\n",
    "  print(classes[x])\n",
    "  print('\\n')\n",
    "\n",
    "# Try adding reviews of your own\n",
    "# Add some negative words (such as \"not\") to the good reviews and see what happens\n",
    "# For example:\n",
    "# they gave us free chocolate cake and did not charge us"
   ]
  },
  {
   "cell_type": "code",
   "execution_count": null,
   "metadata": {},
   "outputs": [],
   "source": []
  }
 ],
 "metadata": {
  "accelerator": "GPU",
  "colab": {
   "collapsed_sections": [],
   "name": "l09c04_nlp_embeddings_and_sentiment.ipynb",
   "provenance": [],
   "toc_visible": true
  },
  "kernelspec": {
   "display_name": "Python 3",
   "language": "python",
   "name": "python3"
  },
  "language_info": {
   "codemirror_mode": {
    "name": "ipython",
    "version": 3
   },
   "file_extension": ".py",
   "mimetype": "text/x-python",
   "name": "python",
   "nbconvert_exporter": "python",
   "pygments_lexer": "ipython3",
   "version": "3.7.7"
  }
 },
 "nbformat": 4,
 "nbformat_minor": 1
}
