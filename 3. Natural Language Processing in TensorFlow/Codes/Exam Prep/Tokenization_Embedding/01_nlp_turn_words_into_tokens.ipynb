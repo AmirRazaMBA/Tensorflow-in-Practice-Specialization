{
 "cells": [
  {
   "cell_type": "markdown",
   "metadata": {
    "id": "punL79CN7Ox6"
   },
   "source": [
    "##### Copyright 2020 The TensorFlow Authors."
   ]
  },
  {
   "cell_type": "markdown",
   "metadata": {
    "id": "fFv-USWkhQKA"
   },
   "source": [
    "# Tokenizing text and creating sequences for sentences"
   ]
  },
  {
   "cell_type": "markdown",
   "metadata": {
    "id": "7hMGfCIDPnm8"
   },
   "source": [
    "This colab shows you how to tokenize text and create sequences for sentences as the first stage of preparing text for use with TensorFlow models."
   ]
  },
  {
   "cell_type": "markdown",
   "metadata": {
    "id": "4mGaRDFcSamt"
   },
   "source": [
    "## Import the Tokenizer"
   ]
  },
  {
   "cell_type": "code",
   "execution_count": 1,
   "metadata": {
    "id": "EN1-FZodOuPl"
   },
   "outputs": [],
   "source": [
    "# Import the Tokenizer\n",
    "from tensorflow.keras.preprocessing.text import Tokenizer\n"
   ]
  },
  {
   "cell_type": "markdown",
   "metadata": {
    "id": "C5Qwn_7FSXW-"
   },
   "source": [
    "## Write some sentences\n",
    "\n",
    "Feel free to change and add sentences as you like"
   ]
  },
  {
   "cell_type": "code",
   "execution_count": 20,
   "metadata": {
    "id": "RMiq8BpWVVRa"
   },
   "outputs": [],
   "source": [
    "sentences = [\n",
    "    'My favorite food is ice cream',\n",
    "    'do you like ice cream too?',\n",
    "    'My dog likes ice cream!',\n",
    "    \"your favorite flavor of icecream is chocolate\",\n",
    "    \"chocolate isn't good for dogs\",\n",
    "    \"your dog, your cat, and your parrot prefer broccoli\",\n",
    "    \"Amir\",\n",
    "    \"Nasir\",\n",
    "    \"Asif\",\n",
    "    \"Kashif\",\n",
    "    \"Amir is a goodiest man\"\n",
    "]"
   ]
  },
  {
   "cell_type": "markdown",
   "metadata": {
    "id": "wz845OtfRBCM"
   },
   "source": [
    "## Tokenize the words\n",
    "\n",
    "The first step to preparing text to be used in a machine learning model is to tokenize the text, in other words, to generate numbers for the words."
   ]
  },
  {
   "cell_type": "code",
   "execution_count": 21,
   "metadata": {
    "id": "ZHTK1DAlQ1zO"
   },
   "outputs": [],
   "source": [
    "# Optionally set the max number of words to tokenize.\n",
    "# The out of vocabulary (OOV) token represents words that are not in the index.\n",
    "# Call fit_on_text() on the tokenizer to generate unique numbers for each word\n",
    "tokenizer = Tokenizer(num_words = 100, oov_token=\"<OOV>\")     # STEP 1 tokenize the most common 100 word to a nihari store like token :)\n",
    "tokenizer.fit_on_texts(sentences)                             # STEP 2 set the word to number or token code.\n"
   ]
  },
  {
   "cell_type": "markdown",
   "metadata": {
    "id": "Mylv-WuiRzd0"
   },
   "source": [
    "## View the word index\n",
    "After you tokenize the text, the tokenizer has a word index that contains key-value pairs for all the words and their numbers.\n",
    "\n",
    "The word is the key, and the number is the value.\n",
    "\n",
    "Notice that the OOV token is the first entry.\n"
   ]
  },
  {
   "cell_type": "code",
   "execution_count": 22,
   "metadata": {
    "id": "kX4VvsLySC7Z"
   },
   "outputs": [
    {
     "name": "stdout",
     "output_type": "stream",
     "text": [
      "{'<OOV>': 1, 'your': 2, 'is': 3, 'ice': 4, 'cream': 5, 'my': 6, 'favorite': 7, 'dog': 8, 'chocolate': 9, 'amir': 10, 'food': 11, 'do': 12, 'you': 13, 'like': 14, 'too': 15, 'likes': 16, 'flavor': 17, 'of': 18, 'icecream': 19, \"isn't\": 20, 'good': 21, 'for': 22, 'dogs': 23, 'cat': 24, 'and': 25, 'parrot': 26, 'prefer': 27, 'broccoli': 28, 'nasir': 29, 'asif': 30, 'kashif': 31, 'a': 32, 'goodiest': 33, 'man': 34}\n"
     ]
    }
   ],
   "source": [
    "# Examine the word index\n",
    "word_index = tokenizer.word_index               # This is like select id from words_num_list\n",
    "print(word_index)"
   ]
  },
  {
   "cell_type": "code",
   "execution_count": 23,
   "metadata": {
    "id": "JXKrGxsIVtLo"
   },
   "outputs": [
    {
     "name": "stdout",
     "output_type": "stream",
     "text": [
      "7\n"
     ]
    }
   ],
   "source": [
    "# Get the number for a given word\n",
    "print(word_index['favorite'])                   # This is like select id from words_num_list where word='favorite'"
   ]
  },
  {
   "cell_type": "code",
   "execution_count": 24,
   "metadata": {},
   "outputs": [
    {
     "name": "stdout",
     "output_type": "stream",
     "text": [
      "31\n"
     ]
    }
   ],
   "source": [
    "print(word_index['kashif'])"
   ]
  },
  {
   "cell_type": "markdown",
   "metadata": {
    "id": "kcN_yM8O1oSX"
   },
   "source": [
    "# Create sequences for the sentences\n",
    "\n",
    "After you tokenize the words, the word index contains a unique number for each word. However, the numbers in the word index are not ordered. Words in a sentence have an order. So after tokenizing the words, the next step is to generate sequences for the sentences."
   ]
  },
  {
   "cell_type": "code",
   "execution_count": 25,
   "metadata": {
    "id": "QlUL6Ybf1sso"
   },
   "outputs": [
    {
     "name": "stdout",
     "output_type": "stream",
     "text": [
      "[[6, 7, 11, 3, 4, 5], [12, 13, 14, 4, 5, 15], [6, 8, 16, 4, 5], [2, 7, 17, 18, 19, 3, 9], [9, 20, 21, 22, 23], [2, 8, 2, 24, 25, 2, 26, 27, 28], [10], [29], [30], [31], [10, 3, 32, 33, 34]]\n"
     ]
    }
   ],
   "source": [
    "sequences = tokenizer.texts_to_sequences(sentences)      # STEP 3 all the sentences are encoded as numbers.\n",
    "print (sequences)"
   ]
  },
  {
   "cell_type": "markdown",
   "metadata": {
    "id": "AswZPbuW8f-f"
   },
   "source": [
    "# Sequence sentences that contain words that are not in the word index\n",
    "\n",
    "Let's take a look at what happens if the sentence being sequenced contains words that are not in the word index.\n",
    "\n",
    "The Out of Vocabluary (OOV) token is the first entry in the word index. You will see it shows up in the sequences in place of any word that is not in the word index."
   ]
  },
  {
   "cell_type": "code",
   "execution_count": 26,
   "metadata": {
    "id": "Fir7qd6X8eZc"
   },
   "outputs": [
    {
     "name": "stdout",
     "output_type": "stream",
     "text": [
      "[[1, 14, 1, 9], [6, 23, 25, 6, 1, 14, 1, 1, 6, 1, 1, 1, 25, 6, 1, 14, 4, 5, 1, 1]]\n"
     ]
    }
   ],
   "source": [
    "sentences2 = [\"I like hot chocolate\", \"My dogs and my hedgehog like kibble but my squirrel prefers grapes and my chickens like ice cream, preferably vanilla\"]\n",
    "\n",
    "sequences2 = tokenizer.texts_to_sequences(sentences2)\n",
    "print(sequences2)               # The words not in the vocabulary bag are <OOV> which is number 1 "
   ]
  }
 ],
 "metadata": {
  "colab": {
   "collapsed_sections": [],
   "name": "l09c01_nlp_turn_words_into_tokens.ipynb",
   "provenance": [],
   "toc_visible": true
  },
  "kernelspec": {
   "display_name": "Python 3",
   "language": "python",
   "name": "python3"
  },
  "language_info": {
   "codemirror_mode": {
    "name": "ipython",
    "version": 3
   },
   "file_extension": ".py",
   "mimetype": "text/x-python",
   "name": "python",
   "nbconvert_exporter": "python",
   "pygments_lexer": "ipython3",
   "version": "3.7.7"
  }
 },
 "nbformat": 4,
 "nbformat_minor": 1
}
