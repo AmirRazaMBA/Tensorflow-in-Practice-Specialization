{
 "cells": [
  {
   "cell_type": "markdown",
   "metadata": {
    "id": "QrxSyyyhygUR"
   },
   "source": [
    "# Tweaking the Model"
   ]
  },
  {
   "cell_type": "markdown",
   "metadata": {
    "id": "xiWacy71Cu54"
   },
   "source": [
    "In this colab, you'll investigate how various tweaks to data processing and the model itself can impact results. At the end, you'll once again be able to visualize how the network sees the related sentiment of each word in the dataset."
   ]
  },
  {
   "cell_type": "markdown",
   "metadata": {
    "id": "hY-fjvwfy2P9"
   },
   "source": [
    "## Import TensorFlow and related functions"
   ]
  },
  {
   "cell_type": "code",
   "execution_count": 1,
   "metadata": {
    "id": "drsUfVVXyxJl"
   },
   "outputs": [],
   "source": [
    "import tensorflow as tf\n",
    "\n",
    "from tensorflow.keras.preprocessing.text import Tokenizer\n",
    "from tensorflow.keras.preprocessing.sequence import pad_sequences"
   ]
  },
  {
   "cell_type": "markdown",
   "metadata": {
    "id": "ZIf1N46jy6Ed"
   },
   "source": [
    "## Get the dataset\n",
    "\n",
    "We'll once again use the dataset containing Amazon and Yelp reviews. This dataset was originally extracted from [here](https://www.kaggle.com/marklvl/sentiment-labelled-sentences-data-set)."
   ]
  },
  {
   "cell_type": "code",
   "execution_count": null,
   "metadata": {
    "id": "m83g42sJzGO0"
   },
   "outputs": [],
   "source": [
    "!wget --no-check-certificate \\\n",
    "    https://drive.google.com/uc?id=13ySLC_ue6Umt9RJYSeM2t-V0kCv-4C-P \\\n",
    "    -O /tmp/sentiment.csv\n",
    "    "
   ]
  },
  {
   "cell_type": "code",
   "execution_count": 2,
   "metadata": {},
   "outputs": [
    {
     "name": "stdout",
     "output_type": "stream",
     "text": [
      "C:\\Users\\Amir\\.keras\\datasets\\sentiment.csv\n"
     ]
    }
   ],
   "source": [
    "path = tf.keras.utils.get_file('sentiment.csv', \n",
    "                               'https://drive.google.com/uc?id=13ySLC_ue6Umt9RJYSeM2t-V0kCv-4C-P')\n",
    "print (path)"
   ]
  },
  {
   "cell_type": "code",
   "execution_count": 4,
   "metadata": {
    "id": "y4e6GG2CzJUq"
   },
   "outputs": [],
   "source": [
    "import numpy as np\n",
    "import pandas as pd\n",
    "\n",
    "dataset = pd.read_csv(path)\n",
    "\n",
    "sentences = dataset['text'].tolist()\n",
    "labels = dataset['sentiment'].tolist()\n",
    "\n",
    "# Separate out the sentences and labels into training and test sets\n",
    "training_size = int(len(sentences) * 0.8)\n",
    "\n",
    "training_sentences = sentences[0:training_size]\n",
    "testing_sentences = sentences[training_size:]\n",
    "training_labels = labels[0:training_size]\n",
    "testing_labels = labels[training_size:]\n",
    "\n",
    "# Make labels into numpy arrays for use with the network later\n",
    "training_labels_final = np.array(training_labels)\n",
    "testing_labels_final = np.array(testing_labels)"
   ]
  },
  {
   "cell_type": "markdown",
   "metadata": {
    "id": "drDkTFMuzW6N"
   },
   "source": [
    "## Tokenize the dataset (with tweaks!)\n",
    "\n",
    "Now, we'll tokenize the dataset, but we can make some changes to this from before. Previously, we used: \n",
    "```\n",
    "vocab_size = 1000\n",
    "embedding_dim = 16\n",
    "max_length = 100\n",
    "trunc_type='post'\n",
    "padding_type='post'\n",
    "```\n",
    "\n",
    "How might changing the `vocab_size`, `embedding_dim` or `max_length` affect how the model performs?"
   ]
  },
  {
   "cell_type": "code",
   "execution_count": 5,
   "metadata": {
    "id": "hjPUJFhQzuee"
   },
   "outputs": [],
   "source": [
    "vocab_size = 500\n",
    "embedding_dim = 16\n",
    "max_length = 50\n",
    "trunc_type='post'\n",
    "padding_type='post'\n",
    "oov_tok = \"<OOV>\"\n",
    "\n",
    "tokenizer = Tokenizer(num_words = vocab_size, oov_token=oov_tok)\n",
    "tokenizer.fit_on_texts(training_sentences)\n",
    "word_index = tokenizer.word_index\n",
    "training_sequences = tokenizer.texts_to_sequences(training_sentences)\n",
    "training_padded = pad_sequences(training_sequences, maxlen=max_length, padding=padding_type, truncating=trunc_type)\n",
    "\n",
    "testing_sequences = tokenizer.texts_to_sequences(testing_sentences)\n",
    "testing_padded = pad_sequences(testing_sequences, maxlen=max_length, padding=padding_type, truncating=trunc_type)"
   ]
  },
  {
   "cell_type": "markdown",
   "metadata": {
    "id": "FwFjO1kg0UUK"
   },
   "source": [
    "## Train a Sentiment Model (with tweaks!)\n",
    "\n",
    "We'll use a slightly different model here, using `GlobalAveragePooling1D` instead of `Flatten()`."
   ]
  },
  {
   "cell_type": "code",
   "execution_count": 6,
   "metadata": {
    "id": "ectP92fl0dFO"
   },
   "outputs": [
    {
     "name": "stdout",
     "output_type": "stream",
     "text": [
      "Model: \"sequential\"\n",
      "_________________________________________________________________\n",
      "Layer (type)                 Output Shape              Param #   \n",
      "=================================================================\n",
      "embedding (Embedding)        (None, 50, 16)            8000      \n",
      "_________________________________________________________________\n",
      "global_average_pooling1d (Gl (None, 16)                0         \n",
      "_________________________________________________________________\n",
      "dense (Dense)                (None, 6)                 102       \n",
      "_________________________________________________________________\n",
      "dense_1 (Dense)              (None, 1)                 7         \n",
      "=================================================================\n",
      "Total params: 8,109\n",
      "Trainable params: 8,109\n",
      "Non-trainable params: 0\n",
      "_________________________________________________________________\n"
     ]
    }
   ],
   "source": [
    "model = tf.keras.Sequential([\n",
    "    tf.keras.layers.Embedding(vocab_size, embedding_dim, input_length=max_length),\n",
    "    tf.keras.layers.GlobalAveragePooling1D(),\n",
    "    tf.keras.layers.Dense(6, activation='relu'),\n",
    "    tf.keras.layers.Dense(1, activation='sigmoid')\n",
    "])\n",
    "model.compile(loss='binary_crossentropy',optimizer='adam',metrics=['accuracy'])\n",
    "model.summary()"
   ]
  },
  {
   "cell_type": "code",
   "execution_count": 7,
   "metadata": {
    "id": "7TQIaGjs073w"
   },
   "outputs": [
    {
     "name": "stdout",
     "output_type": "stream",
     "text": [
      "Train on 1593 samples, validate on 399 samples\n",
      "Epoch 1/30\n",
      "1593/1593 [==============================] - 1s 917us/sample - loss: 0.6925 - accuracy: 0.5254 - val_loss: 0.6957 - val_accuracy: 0.4110\n",
      "Epoch 2/30\n",
      "1593/1593 [==============================] - 0s 125us/sample - loss: 0.6911 - accuracy: 0.5223 - val_loss: 0.6963 - val_accuracy: 0.4160\n",
      "Epoch 3/30\n",
      "1593/1593 [==============================] - 0s 139us/sample - loss: 0.6886 - accuracy: 0.5738 - val_loss: 0.6940 - val_accuracy: 0.4436\n",
      "Epoch 4/30\n",
      "1593/1593 [==============================] - 0s 135us/sample - loss: 0.6837 - accuracy: 0.5738 - val_loss: 0.6883 - val_accuracy: 0.5088\n",
      "Epoch 5/30\n",
      "1593/1593 [==============================] - 0s 131us/sample - loss: 0.6769 - accuracy: 0.6183 - val_loss: 0.6808 - val_accuracy: 0.5739\n",
      "Epoch 6/30\n",
      "1593/1593 [==============================] - 0s 133us/sample - loss: 0.6669 - accuracy: 0.6842 - val_loss: 0.6693 - val_accuracy: 0.6591\n",
      "Epoch 7/30\n",
      "1593/1593 [==============================] - 0s 130us/sample - loss: 0.6528 - accuracy: 0.7156 - val_loss: 0.6566 - val_accuracy: 0.6917\n",
      "Epoch 8/30\n",
      "1593/1593 [==============================] - 0s 133us/sample - loss: 0.6334 - accuracy: 0.7357 - val_loss: 0.6475 - val_accuracy: 0.6591\n",
      "Epoch 9/30\n",
      "1593/1593 [==============================] - 0s 132us/sample - loss: 0.6108 - accuracy: 0.7546 - val_loss: 0.6260 - val_accuracy: 0.7193\n",
      "Epoch 10/30\n",
      "1593/1593 [==============================] - 0s 158us/sample - loss: 0.5836 - accuracy: 0.8004 - val_loss: 0.6193 - val_accuracy: 0.6591\n",
      "Epoch 11/30\n",
      "1593/1593 [==============================] - 0s 140us/sample - loss: 0.5542 - accuracy: 0.8035 - val_loss: 0.5839 - val_accuracy: 0.7694\n",
      "Epoch 12/30\n",
      "1593/1593 [==============================] - 0s 140us/sample - loss: 0.5240 - accuracy: 0.8242 - val_loss: 0.5700 - val_accuracy: 0.7544\n",
      "Epoch 13/30\n",
      "1593/1593 [==============================] - 0s 136us/sample - loss: 0.4966 - accuracy: 0.8355 - val_loss: 0.5663 - val_accuracy: 0.7043\n",
      "Epoch 14/30\n",
      "1593/1593 [==============================] - 0s 129us/sample - loss: 0.4687 - accuracy: 0.8406 - val_loss: 0.5393 - val_accuracy: 0.7569\n",
      "Epoch 15/30\n",
      "1593/1593 [==============================] - 0s 133us/sample - loss: 0.4436 - accuracy: 0.8456 - val_loss: 0.5208 - val_accuracy: 0.7820\n",
      "Epoch 16/30\n",
      "1593/1593 [==============================] - 0s 77us/sample - loss: 0.4209 - accuracy: 0.8544 - val_loss: 0.5188 - val_accuracy: 0.7644\n",
      "Epoch 17/30\n",
      "1593/1593 [==============================] - 0s 87us/sample - loss: 0.4005 - accuracy: 0.8575 - val_loss: 0.5167 - val_accuracy: 0.7469\n",
      "Epoch 18/30\n",
      "1593/1593 [==============================] - 0s 88us/sample - loss: 0.3829 - accuracy: 0.8606 - val_loss: 0.5116 - val_accuracy: 0.7494\n",
      "Epoch 19/30\n",
      "1593/1593 [==============================] - 0s 85us/sample - loss: 0.3652 - accuracy: 0.8657 - val_loss: 0.4988 - val_accuracy: 0.7619\n",
      "Epoch 20/30\n",
      "1593/1593 [==============================] - 0s 90us/sample - loss: 0.3511 - accuracy: 0.8650 - val_loss: 0.5231 - val_accuracy: 0.7143\n",
      "Epoch 21/30\n",
      "1593/1593 [==============================] - 0s 85us/sample - loss: 0.3391 - accuracy: 0.8745 - val_loss: 0.4910 - val_accuracy: 0.7669\n",
      "Epoch 22/30\n",
      "1593/1593 [==============================] - 0s 98us/sample - loss: 0.3260 - accuracy: 0.8820 - val_loss: 0.5079 - val_accuracy: 0.7318\n",
      "Epoch 23/30\n",
      "1593/1593 [==============================] - 0s 90us/sample - loss: 0.3152 - accuracy: 0.8814 - val_loss: 0.4903 - val_accuracy: 0.7719\n",
      "Epoch 24/30\n",
      "1593/1593 [==============================] - 0s 74us/sample - loss: 0.3078 - accuracy: 0.8782 - val_loss: 0.4785 - val_accuracy: 0.7744\n",
      "Epoch 25/30\n",
      "1593/1593 [==============================] - 0s 78us/sample - loss: 0.2996 - accuracy: 0.8776 - val_loss: 0.4873 - val_accuracy: 0.7694\n",
      "Epoch 26/30\n",
      "1593/1593 [==============================] - 0s 80us/sample - loss: 0.2888 - accuracy: 0.8895 - val_loss: 0.4900 - val_accuracy: 0.7694\n",
      "Epoch 27/30\n",
      "1593/1593 [==============================] - 0s 76us/sample - loss: 0.2813 - accuracy: 0.8945 - val_loss: 0.4809 - val_accuracy: 0.7769\n",
      "Epoch 28/30\n",
      "1593/1593 [==============================] - 0s 86us/sample - loss: 0.2743 - accuracy: 0.8958 - val_loss: 0.4872 - val_accuracy: 0.7594\n",
      "Epoch 29/30\n",
      "1593/1593 [==============================] - 0s 107us/sample - loss: 0.2665 - accuracy: 0.8977 - val_loss: 0.5084 - val_accuracy: 0.7343\n",
      "Epoch 30/30\n",
      "1593/1593 [==============================] - 0s 98us/sample - loss: 0.2635 - accuracy: 0.8964 - val_loss: 0.5006 - val_accuracy: 0.7494\n"
     ]
    }
   ],
   "source": [
    "num_epochs = 30\n",
    "history = model.fit(training_padded, training_labels_final, epochs=num_epochs, validation_data=(testing_padded, testing_labels_final))"
   ]
  },
  {
   "cell_type": "markdown",
   "metadata": {
    "id": "alAlYort7gWV"
   },
   "source": [
    "## Visualize the training graph\n",
    "\n",
    "You can use the code below to visualize the training and validation accuracy while you try out different tweaks to the hyperparameters and model."
   ]
  },
  {
   "cell_type": "code",
   "execution_count": 8,
   "metadata": {
    "id": "o9l5vBeU71vH"
   },
   "outputs": [
    {
     "data": {
      "image/png": "[encoded data removed]",
      "text/plain": [
       "<Figure size 432x288 with 1 Axes>"
      ]
     },
     "metadata": {
      "needs_background": "light"
     },
     "output_type": "display_data"
    },
    {
     "data": {
      "image/png": "[encoded data removed]",
      "text/plain": [
       "<Figure size 432x288 with 1 Axes>"
      ]
     },
     "metadata": {
      "needs_background": "light"
     },
     "output_type": "display_data"
    }
   ],
   "source": [
    "import matplotlib.pyplot as plt\n",
    "\n",
    "\n",
    "def plot_graphs(history, string):\n",
    "  plt.plot(history.history[string])\n",
    "  plt.plot(history.history['val_'+string])\n",
    "  plt.xlabel(\"Epochs\")\n",
    "  plt.ylabel(string)\n",
    "  plt.legend([string, 'val_'+string])\n",
    "  plt.show()\n",
    "  \n",
    "plot_graphs(history, \"accuracy\")\n",
    "plot_graphs(history, \"loss\")"
   ]
  },
  {
   "cell_type": "code",
   "execution_count": 9,
   "metadata": {},
   "outputs": [],
   "source": [
    "losses = pd.DataFrame(model.history.history)"
   ]
  },
  {
   "cell_type": "code",
   "execution_count": 10,
   "metadata": {},
   "outputs": [
    {
     "data": {
      "text/plain": [
       "<AxesSubplot:>"
      ]
     },
     "execution_count": 10,
     "metadata": {},
     "output_type": "execute_result"
    },
    {
     "data": {
      "image/png": "[encoded data removed]",
      "text/plain": [
       "<Figure size 432x288 with 1 Axes>"
      ]
     },
     "metadata": {
      "needs_background": "light"
     },
     "output_type": "display_data"
    }
   ],
   "source": [
    "losses[['accuracy','val_accuracy']].plot()"
   ]
  },
  {
   "cell_type": "code",
   "execution_count": 11,
   "metadata": {},
   "outputs": [
    {
     "data": {
      "text/plain": [
       "<AxesSubplot:>"
      ]
     },
     "execution_count": 11,
     "metadata": {},
     "output_type": "execute_result"
    },
    {
     "data": {
      "image/png": "[encoded data removed]",
      "text/plain": [
       "<Figure size 432x288 with 1 Axes>"
      ]
     },
     "metadata": {
      "needs_background": "light"
     },
     "output_type": "display_data"
    }
   ],
   "source": [
    "losses[['loss','val_loss']].plot()"
   ]
  },
  {
   "cell_type": "markdown",
   "metadata": {
    "id": "SZzXE-pT8K57"
   },
   "source": [
    "## Get files for visualizing the network\n",
    "\n",
    "The code below will download two files for visualizing how your network \"sees\" the sentiment related to each word. Head to http://projector.tensorflow.org/ and load these files, then click the checkbox to \"sphereize\" the data.\n",
    "\n",
    "Note: You may run into errors with the projection if your `vocab_size` earlier was larger than the actual number of words in the vocabulary, in which case you'll need to decrease this variable and re-train in order to visualize."
   ]
  },
  {
   "cell_type": "code",
   "execution_count": 12,
   "metadata": {
    "id": "2Ex4o7Lc8Njl"
   },
   "outputs": [
    {
     "name": "stdout",
     "output_type": "stream",
     "text": [
      "(500, 16)\n"
     ]
    }
   ],
   "source": [
    "# First get the weights of the embedding layer\n",
    "e = model.layers[0]\n",
    "weights = e.get_weights()[0]\n",
    "print(weights.shape) # shape: (vocab_size, embedding_dim)"
   ]
  },
  {
   "cell_type": "code",
   "execution_count": 13,
   "metadata": {
    "id": "bUL1zk5p8WIV"
   },
   "outputs": [],
   "source": [
    "import io\n",
    "\n",
    "# Create the reverse word index\n",
    "reverse_word_index = dict([(value, key) for (key, value) in word_index.items()])\n",
    "\n",
    "# Write out the embedding vectors and metadata\n",
    "out_v = io.open('vecs.tsv', 'w', encoding='utf-8')\n",
    "out_m = io.open('meta.tsv', 'w', encoding='utf-8')\n",
    "for word_num in range(1, vocab_size):\n",
    "  word = reverse_word_index[word_num]\n",
    "  embeddings = weights[word_num]\n",
    "  out_m.write(word + \"\\n\")\n",
    "  out_v.write('\\t'.join([str(x) for x in embeddings]) + \"\\n\")\n",
    "out_v.close()\n",
    "out_m.close()"
   ]
  },
  {
   "cell_type": "code",
   "execution_count": 14,
   "metadata": {
    "id": "lqyV8QYnD46U"
   },
   "outputs": [],
   "source": [
    "# Download the files\n",
    "try:\n",
    "  from google.colab import files\n",
    "except ImportError:\n",
    "  pass\n",
    "else:\n",
    "  files.download('vecs.tsv')\n",
    "  files.download('meta.tsv')"
   ]
  },
  {
   "cell_type": "markdown",
   "metadata": {
    "id": "XUXAlNNk59gG"
   },
   "source": [
    "## Predicting Sentiment in New Reviews\n",
    "\n",
    "Below, we've again included some example new reviews you can test your results on."
   ]
  },
  {
   "cell_type": "code",
   "execution_count": 15,
   "metadata": {
    "id": "JbFTTcaK6Dan"
   },
   "outputs": [
    {
     "name": "stdout",
     "output_type": "stream",
     "text": [
      "['I love this phone', 'I hate spaghetti', 'Everything was cold', 'Everything was hot exactly as I wanted', 'Everything was green', 'the host seated us immediately', 'they gave us free chocolate cake', 'not sure about the wilted flowers on the table', 'only works when I stand on tippy toes', 'does not work when I stand on my head']\n",
      "\n",
      "HOT OFF THE PRESS! HERE ARE SOME NEWLY MINTED, ABSOLUTELY GENUINE REVIEWS!\n",
      "\n",
      "I love this phone\n",
      "[0.90750957]\n",
      "\n",
      "\n",
      "I hate spaghetti\n",
      "[0.1711419]\n",
      "\n",
      "\n",
      "Everything was cold\n",
      "[0.616305]\n",
      "\n",
      "\n",
      "Everything was hot exactly as I wanted\n",
      "[0.4459883]\n",
      "\n",
      "\n",
      "Everything was green\n",
      "[0.616305]\n",
      "\n",
      "\n",
      "the host seated us immediately\n",
      "[0.5862423]\n",
      "\n",
      "\n",
      "they gave us free chocolate cake\n",
      "[0.85627156]\n",
      "\n",
      "\n",
      "not sure about the wilted flowers on the table\n",
      "[0.10452306]\n",
      "\n",
      "\n",
      "only works when I stand on tippy toes\n",
      "[0.8483661]\n",
      "\n",
      "\n",
      "does not work when I stand on my head\n",
      "[0.0235682]\n",
      "\n",
      "\n"
     ]
    }
   ],
   "source": [
    "# Use the model to predict a review   \n",
    "fake_reviews = ['I love this phone', 'I hate spaghetti', \n",
    "                'Everything was cold',\n",
    "                'Everything was hot exactly as I wanted', \n",
    "                'Everything was green', \n",
    "                'the host seated us immediately',\n",
    "                'they gave us free chocolate cake', \n",
    "                'not sure about the wilted flowers on the table',\n",
    "                'only works when I stand on tippy toes', \n",
    "                'does not work when I stand on my head']\n",
    "\n",
    "print(fake_reviews) \n",
    "\n",
    "# Create the sequences\n",
    "padding_type='post'\n",
    "sample_sequences = tokenizer.texts_to_sequences(fake_reviews)\n",
    "fakes_padded = pad_sequences(sample_sequences, padding=padding_type, maxlen=max_length)           \n",
    "\n",
    "print('\\nHOT OFF THE PRESS! HERE ARE SOME NEWLY MINTED, ABSOLUTELY GENUINE REVIEWS!\\n')              \n",
    "\n",
    "classes = model.predict(fakes_padded)\n",
    "\n",
    "# The closer the class is to 1, the more positive the review is deemed to be\n",
    "for x in range(len(fake_reviews)):\n",
    "  print(fake_reviews[x])\n",
    "  print(classes[x])\n",
    "  print('\\n')\n",
    "\n",
    "# Try adding reviews of your own\n",
    "# Add some negative words (such as \"not\") to the good reviews and see what happens\n",
    "# For example:\n",
    "# they gave us free chocolate cake and did not charge us"
   ]
  },
  {
   "cell_type": "code",
   "execution_count": null,
   "metadata": {},
   "outputs": [],
   "source": []
  }
 ],
 "metadata": {
  "accelerator": "GPU",
  "colab": {
   "collapsed_sections": [],
   "name": "l09c05_nlp_tweaking_the_model.ipynb",
   "provenance": [],
   "toc_visible": true
  },
  "kernelspec": {
   "display_name": "Python 3",
   "language": "python",
   "name": "python3"
  },
  "language_info": {
   "codemirror_mode": {
    "name": "ipython",
    "version": 3
   },
   "file_extension": ".py",
   "mimetype": "text/x-python",
   "name": "python",
   "nbconvert_exporter": "python",
   "pygments_lexer": "ipython3",
   "version": "3.7.7"
  }
 },
 "nbformat": 4,
 "nbformat_minor": 1
}
